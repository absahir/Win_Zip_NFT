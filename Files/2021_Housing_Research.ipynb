{
 "cells": [
  {
   "cell_type": "code",
   "execution_count": 4,
   "id": "cross-lodge",
   "metadata": {},
   "outputs": [
    {
     "data": {
      "text/html": [
       "        <script type=\"text/javascript\">\n",
       "        window.PlotlyConfig = {MathJaxConfig: 'local'};\n",
       "        if (window.MathJax) {MathJax.Hub.Config({SVG: {font: \"STIX-Web\"}});}\n",
       "        if (typeof require !== 'undefined') {\n",
       "        require.undef(\"plotly\");\n",
       "        requirejs.config({\n",
       "            paths: {\n",
       "                'plotly': ['https://cdn.plot.ly/plotly-latest.min']\n",
       "            }\n",
       "        });\n",
       "        require(['plotly'], function(Plotly) {\n",
       "            window._Plotly = Plotly;\n",
       "        });\n",
       "        }\n",
       "        </script>\n",
       "        "
      ]
     },
     "metadata": {},
     "output_type": "display_data"
    },
    {
     "data": {
      "text/html": [
       "        <script type=\"text/javascript\">\n",
       "        window.PlotlyConfig = {MathJaxConfig: 'local'};\n",
       "        if (window.MathJax) {MathJax.Hub.Config({SVG: {font: \"STIX-Web\"}});}\n",
       "        if (typeof require !== 'undefined') {\n",
       "        require.undef(\"plotly\");\n",
       "        requirejs.config({\n",
       "            paths: {\n",
       "                'plotly': ['https://cdn.plot.ly/plotly-latest.min']\n",
       "            }\n",
       "        });\n",
       "        require(['plotly'], function(Plotly) {\n",
       "            window._Plotly = Plotly;\n",
       "        });\n",
       "        }\n",
       "        </script>\n",
       "        "
      ]
     },
     "metadata": {},
     "output_type": "display_data"
    }
   ],
   "source": [
    "import numpy as np\n",
    "import pandas as pd\n",
    "import matplotlib.pyplot as plt\n",
    "import seaborn as sns\n",
    "#import plotly.plotly as py\n",
    "#from chart_studio import plotly\n",
    "import plotly.graph_objs as go\n",
    "#from plotly.plotly import plot_mpl\n",
    "#importing plotly and cufflinks in offline mode\n",
    "from plotly.offline import download_plotlyjs, init_notebook_mode, plot, iplot\n",
    "from pylab import rcParams\n",
    "import cufflinks as cf\n",
    "init_notebook_mode(connected = True)\n",
    "import plotly.offline\n",
    "cf.go_offline()\n",
    "%matplotlib inline\n",
    "\n",
    "from sklearn.model_selection import train_test_split\n",
    "from sklearn.naive_bayes import GaussianNB\n",
    "\n",
    "#from pandas.tools.plotting import autocorrelation_plot\n",
    "from pandas.plotting import autocorrelation_plot \n",
    "from statsmodels.tsa.seasonal import seasonal_decompose\n",
    "import statsmodels.api as sm\n",
    "import itertools\n",
    "import warnings\n",
    "warnings.filterwarnings(\"ignore\")"
   ]
  },
  {
   "cell_type": "code",
   "execution_count": null,
   "id": "concrete-profit",
   "metadata": {},
   "outputs": [],
   "source": [
    "pip install iplot"
   ]
  },
  {
   "cell_type": "code",
   "execution_count": 3,
   "id": "normal-elder",
   "metadata": {},
   "outputs": [
    {
     "name": "stdout",
     "output_type": "stream",
     "text": [
      "Processing /Users/gaby/Library/Caches/pip/wheels/e1/27/13/3fe67fa7ea7be444b831d117220b3b586b872c9acd4df480d0/cufflinks-0.17.3-py3-none-any.whl\n",
      "Requirement already satisfied: ipython>=5.3.0 in /Users/gaby/opt/anaconda3/envs/pyvizenv/lib/python3.7/site-packages (from cufflinks) (7.19.0)\n",
      "Requirement already satisfied: ipywidgets>=7.0.0 in /Users/gaby/opt/anaconda3/envs/pyvizenv/lib/python3.7/site-packages (from cufflinks) (7.5.1)\n",
      "Collecting colorlover>=0.2.1\n",
      "  Using cached colorlover-0.3.0-py3-none-any.whl (8.9 kB)\n",
      "Requirement already satisfied: plotly>=4.1.1 in /Users/gaby/opt/anaconda3/envs/pyvizenv/lib/python3.7/site-packages (from cufflinks) (4.14.3)\n",
      "Requirement already satisfied: setuptools>=34.4.1 in /Users/gaby/opt/anaconda3/envs/pyvizenv/lib/python3.7/site-packages (from cufflinks) (50.3.0.post20201006)\n",
      "Requirement already satisfied: six>=1.9.0 in /Users/gaby/opt/anaconda3/envs/pyvizenv/lib/python3.7/site-packages (from cufflinks) (1.15.0)\n",
      "Requirement already satisfied: pandas>=0.19.2 in /Users/gaby/opt/anaconda3/envs/pyvizenv/lib/python3.7/site-packages (from cufflinks) (0.24.2)\n",
      "Requirement already satisfied: numpy>=1.9.2 in /Users/gaby/opt/anaconda3/envs/pyvizenv/lib/python3.7/site-packages (from cufflinks) (1.19.2)\n",
      "Requirement already satisfied: prompt-toolkit!=3.0.0,!=3.0.1,<3.1.0,>=2.0.0 in /Users/gaby/opt/anaconda3/envs/pyvizenv/lib/python3.7/site-packages (from ipython>=5.3.0->cufflinks) (3.0.8)\n",
      "Requirement already satisfied: traitlets>=4.2 in /Users/gaby/opt/anaconda3/envs/pyvizenv/lib/python3.7/site-packages (from ipython>=5.3.0->cufflinks) (5.0.5)\n",
      "Requirement already satisfied: jedi>=0.10 in /Users/gaby/opt/anaconda3/envs/pyvizenv/lib/python3.7/site-packages (from ipython>=5.3.0->cufflinks) (0.17.1)\n",
      "Requirement already satisfied: pickleshare in /Users/gaby/opt/anaconda3/envs/pyvizenv/lib/python3.7/site-packages (from ipython>=5.3.0->cufflinks) (0.7.5)\n",
      "Requirement already satisfied: backcall in /Users/gaby/opt/anaconda3/envs/pyvizenv/lib/python3.7/site-packages (from ipython>=5.3.0->cufflinks) (0.2.0)\n",
      "Requirement already satisfied: pexpect>4.3; sys_platform != \"win32\" in /Users/gaby/opt/anaconda3/envs/pyvizenv/lib/python3.7/site-packages (from ipython>=5.3.0->cufflinks) (4.8.0)\n",
      "Requirement already satisfied: appnope; sys_platform == \"darwin\" in /Users/gaby/opt/anaconda3/envs/pyvizenv/lib/python3.7/site-packages (from ipython>=5.3.0->cufflinks) (0.1.0)\n",
      "Requirement already satisfied: decorator in /Users/gaby/opt/anaconda3/envs/pyvizenv/lib/python3.7/site-packages (from ipython>=5.3.0->cufflinks) (4.4.2)\n",
      "Requirement already satisfied: pygments in /Users/gaby/opt/anaconda3/envs/pyvizenv/lib/python3.7/site-packages (from ipython>=5.3.0->cufflinks) (2.7.2)\n",
      "Requirement already satisfied: widgetsnbextension~=3.5.0 in /Users/gaby/opt/anaconda3/envs/pyvizenv/lib/python3.7/site-packages (from ipywidgets>=7.0.0->cufflinks) (3.5.1)\n",
      "Requirement already satisfied: ipykernel>=4.5.1 in /Users/gaby/opt/anaconda3/envs/pyvizenv/lib/python3.7/site-packages (from ipywidgets>=7.0.0->cufflinks) (5.3.4)\n",
      "Requirement already satisfied: nbformat>=4.2.0 in /Users/gaby/opt/anaconda3/envs/pyvizenv/lib/python3.7/site-packages (from ipywidgets>=7.0.0->cufflinks) (5.0.8)\n",
      "Requirement already satisfied: retrying>=1.3.3 in /Users/gaby/opt/anaconda3/envs/pyvizenv/lib/python3.7/site-packages (from plotly>=4.1.1->cufflinks) (1.3.3)\n",
      "Requirement already satisfied: python-dateutil>=2.5.0 in /Users/gaby/opt/anaconda3/envs/pyvizenv/lib/python3.7/site-packages (from pandas>=0.19.2->cufflinks) (2.8.1)\n",
      "Requirement already satisfied: pytz>=2011k in /Users/gaby/opt/anaconda3/envs/pyvizenv/lib/python3.7/site-packages (from pandas>=0.19.2->cufflinks) (2020.1)\n",
      "Requirement already satisfied: wcwidth in /Users/gaby/opt/anaconda3/envs/pyvizenv/lib/python3.7/site-packages (from prompt-toolkit!=3.0.0,!=3.0.1,<3.1.0,>=2.0.0->ipython>=5.3.0->cufflinks) (0.2.5)\n",
      "Requirement already satisfied: ipython-genutils in /Users/gaby/opt/anaconda3/envs/pyvizenv/lib/python3.7/site-packages (from traitlets>=4.2->ipython>=5.3.0->cufflinks) (0.2.0)\n",
      "Requirement already satisfied: parso<0.8.0,>=0.7.0 in /Users/gaby/opt/anaconda3/envs/pyvizenv/lib/python3.7/site-packages (from jedi>=0.10->ipython>=5.3.0->cufflinks) (0.7.0)\n",
      "Requirement already satisfied: ptyprocess>=0.5 in /Users/gaby/opt/anaconda3/envs/pyvizenv/lib/python3.7/site-packages (from pexpect>4.3; sys_platform != \"win32\"->ipython>=5.3.0->cufflinks) (0.6.0)\n",
      "Requirement already satisfied: notebook>=4.4.1 in /Users/gaby/opt/anaconda3/envs/pyvizenv/lib/python3.7/site-packages (from widgetsnbextension~=3.5.0->ipywidgets>=7.0.0->cufflinks) (6.1.4)\n",
      "Requirement already satisfied: tornado>=4.2 in /Users/gaby/opt/anaconda3/envs/pyvizenv/lib/python3.7/site-packages (from ipykernel>=4.5.1->ipywidgets>=7.0.0->cufflinks) (6.0.4)\n",
      "Requirement already satisfied: jupyter-client in /Users/gaby/opt/anaconda3/envs/pyvizenv/lib/python3.7/site-packages (from ipykernel>=4.5.1->ipywidgets>=7.0.0->cufflinks) (6.1.7)\n",
      "Requirement already satisfied: jupyter-core in /Users/gaby/opt/anaconda3/envs/pyvizenv/lib/python3.7/site-packages (from nbformat>=4.2.0->ipywidgets>=7.0.0->cufflinks) (4.6.3)\n",
      "Requirement already satisfied: jsonschema!=2.5.0,>=2.4 in /Users/gaby/opt/anaconda3/envs/pyvizenv/lib/python3.7/site-packages (from nbformat>=4.2.0->ipywidgets>=7.0.0->cufflinks) (3.2.0)\n",
      "Requirement already satisfied: terminado>=0.8.3 in /Users/gaby/opt/anaconda3/envs/pyvizenv/lib/python3.7/site-packages (from notebook>=4.4.1->widgetsnbextension~=3.5.0->ipywidgets>=7.0.0->cufflinks) (0.9.1)\n",
      "Requirement already satisfied: pyzmq>=17 in /Users/gaby/opt/anaconda3/envs/pyvizenv/lib/python3.7/site-packages (from notebook>=4.4.1->widgetsnbextension~=3.5.0->ipywidgets>=7.0.0->cufflinks) (19.0.2)\n",
      "Requirement already satisfied: argon2-cffi in /Users/gaby/opt/anaconda3/envs/pyvizenv/lib/python3.7/site-packages (from notebook>=4.4.1->widgetsnbextension~=3.5.0->ipywidgets>=7.0.0->cufflinks) (20.1.0)\n",
      "Requirement already satisfied: prometheus-client in /Users/gaby/opt/anaconda3/envs/pyvizenv/lib/python3.7/site-packages (from notebook>=4.4.1->widgetsnbextension~=3.5.0->ipywidgets>=7.0.0->cufflinks) (0.8.0)\n",
      "Requirement already satisfied: nbconvert in /Users/gaby/opt/anaconda3/envs/pyvizenv/lib/python3.7/site-packages (from notebook>=4.4.1->widgetsnbextension~=3.5.0->ipywidgets>=7.0.0->cufflinks) (6.0.7)\n",
      "Requirement already satisfied: Send2Trash in /Users/gaby/opt/anaconda3/envs/pyvizenv/lib/python3.7/site-packages (from notebook>=4.4.1->widgetsnbextension~=3.5.0->ipywidgets>=7.0.0->cufflinks) (1.5.0)\n",
      "Requirement already satisfied: jinja2 in /Users/gaby/opt/anaconda3/envs/pyvizenv/lib/python3.7/site-packages (from notebook>=4.4.1->widgetsnbextension~=3.5.0->ipywidgets>=7.0.0->cufflinks) (2.11.2)\n",
      "Requirement already satisfied: importlib-metadata; python_version < \"3.8\" in /Users/gaby/opt/anaconda3/envs/pyvizenv/lib/python3.7/site-packages (from jsonschema!=2.5.0,>=2.4->nbformat>=4.2.0->ipywidgets>=7.0.0->cufflinks) (2.1.1)\n",
      "Requirement already satisfied: pyrsistent>=0.14.0 in /Users/gaby/opt/anaconda3/envs/pyvizenv/lib/python3.7/site-packages (from jsonschema!=2.5.0,>=2.4->nbformat>=4.2.0->ipywidgets>=7.0.0->cufflinks) (0.17.3)\n",
      "Requirement already satisfied: attrs>=17.4.0 in /Users/gaby/opt/anaconda3/envs/pyvizenv/lib/python3.7/site-packages (from jsonschema!=2.5.0,>=2.4->nbformat>=4.2.0->ipywidgets>=7.0.0->cufflinks) (20.3.0)\n",
      "Requirement already satisfied: cffi>=1.0.0 in /Users/gaby/opt/anaconda3/envs/pyvizenv/lib/python3.7/site-packages (from argon2-cffi->notebook>=4.4.1->widgetsnbextension~=3.5.0->ipywidgets>=7.0.0->cufflinks) (1.14.0)\n",
      "Requirement already satisfied: nbclient<0.6.0,>=0.5.0 in /Users/gaby/opt/anaconda3/envs/pyvizenv/lib/python3.7/site-packages (from nbconvert->notebook>=4.4.1->widgetsnbextension~=3.5.0->ipywidgets>=7.0.0->cufflinks) (0.5.1)\n",
      "Requirement already satisfied: defusedxml in /Users/gaby/opt/anaconda3/envs/pyvizenv/lib/python3.7/site-packages (from nbconvert->notebook>=4.4.1->widgetsnbextension~=3.5.0->ipywidgets>=7.0.0->cufflinks) (0.6.0)\n",
      "Requirement already satisfied: bleach in /Users/gaby/opt/anaconda3/envs/pyvizenv/lib/python3.7/site-packages (from nbconvert->notebook>=4.4.1->widgetsnbextension~=3.5.0->ipywidgets>=7.0.0->cufflinks) (3.2.1)\n",
      "Requirement already satisfied: mistune<2,>=0.8.1 in /Users/gaby/opt/anaconda3/envs/pyvizenv/lib/python3.7/site-packages (from nbconvert->notebook>=4.4.1->widgetsnbextension~=3.5.0->ipywidgets>=7.0.0->cufflinks) (0.8.4)\n",
      "Requirement already satisfied: pandocfilters>=1.4.1 in /Users/gaby/opt/anaconda3/envs/pyvizenv/lib/python3.7/site-packages (from nbconvert->notebook>=4.4.1->widgetsnbextension~=3.5.0->ipywidgets>=7.0.0->cufflinks) (1.4.3)\n",
      "Requirement already satisfied: testpath in /Users/gaby/opt/anaconda3/envs/pyvizenv/lib/python3.7/site-packages (from nbconvert->notebook>=4.4.1->widgetsnbextension~=3.5.0->ipywidgets>=7.0.0->cufflinks) (0.4.4)\n",
      "Requirement already satisfied: jupyterlab-pygments in /Users/gaby/opt/anaconda3/envs/pyvizenv/lib/python3.7/site-packages (from nbconvert->notebook>=4.4.1->widgetsnbextension~=3.5.0->ipywidgets>=7.0.0->cufflinks) (0.1.2)\n",
      "Requirement already satisfied: entrypoints>=0.2.2 in /Users/gaby/opt/anaconda3/envs/pyvizenv/lib/python3.7/site-packages (from nbconvert->notebook>=4.4.1->widgetsnbextension~=3.5.0->ipywidgets>=7.0.0->cufflinks) (0.3)\n",
      "Requirement already satisfied: MarkupSafe>=0.23 in /Users/gaby/opt/anaconda3/envs/pyvizenv/lib/python3.7/site-packages (from jinja2->notebook>=4.4.1->widgetsnbextension~=3.5.0->ipywidgets>=7.0.0->cufflinks) (1.1.1)\n",
      "Requirement already satisfied: zipp>=0.5 in /Users/gaby/opt/anaconda3/envs/pyvizenv/lib/python3.7/site-packages (from importlib-metadata; python_version < \"3.8\"->jsonschema!=2.5.0,>=2.4->nbformat>=4.2.0->ipywidgets>=7.0.0->cufflinks) (3.4.0)\n",
      "Requirement already satisfied: pycparser in /Users/gaby/opt/anaconda3/envs/pyvizenv/lib/python3.7/site-packages (from cffi>=1.0.0->argon2-cffi->notebook>=4.4.1->widgetsnbextension~=3.5.0->ipywidgets>=7.0.0->cufflinks) (2.20)\n",
      "Requirement already satisfied: async-generator in /Users/gaby/opt/anaconda3/envs/pyvizenv/lib/python3.7/site-packages (from nbclient<0.6.0,>=0.5.0->nbconvert->notebook>=4.4.1->widgetsnbextension~=3.5.0->ipywidgets>=7.0.0->cufflinks) (1.10)\n",
      "Requirement already satisfied: nest-asyncio in /Users/gaby/opt/anaconda3/envs/pyvizenv/lib/python3.7/site-packages (from nbclient<0.6.0,>=0.5.0->nbconvert->notebook>=4.4.1->widgetsnbextension~=3.5.0->ipywidgets>=7.0.0->cufflinks) (1.4.2)\n",
      "Requirement already satisfied: packaging in /Users/gaby/opt/anaconda3/envs/pyvizenv/lib/python3.7/site-packages (from bleach->nbconvert->notebook>=4.4.1->widgetsnbextension~=3.5.0->ipywidgets>=7.0.0->cufflinks) (20.4)\n",
      "Requirement already satisfied: webencodings in /Users/gaby/opt/anaconda3/envs/pyvizenv/lib/python3.7/site-packages (from bleach->nbconvert->notebook>=4.4.1->widgetsnbextension~=3.5.0->ipywidgets>=7.0.0->cufflinks) (0.5.1)\n",
      "Requirement already satisfied: pyparsing>=2.0.2 in /Users/gaby/opt/anaconda3/envs/pyvizenv/lib/python3.7/site-packages (from packaging->bleach->nbconvert->notebook>=4.4.1->widgetsnbextension~=3.5.0->ipywidgets>=7.0.0->cufflinks) (2.4.7)\n",
      "Installing collected packages: colorlover, cufflinks\n",
      "Successfully installed colorlover-0.3.0 cufflinks-0.17.3\n",
      "Note: you may need to restart the kernel to use updated packages.\n"
     ]
    }
   ],
   "source": [
    "pip install cufflinks"
   ]
  },
  {
   "cell_type": "code",
   "execution_count": 5,
   "id": "casual-barbados",
   "metadata": {},
   "outputs": [],
   "source": [
    "import plotly.offline as pyoff\n",
    "import plotly.graph_objs as go"
   ]
  },
  {
   "cell_type": "code",
   "execution_count": null,
   "id": "still-calculation",
   "metadata": {},
   "outputs": [],
   "source": [
    "pip install chart_studio"
   ]
  },
  {
   "cell_type": "code",
   "execution_count": 6,
   "id": "comparative-communication",
   "metadata": {},
   "outputs": [
    {
     "data": {
      "text/html": [
       "<div>\n",
       "<style scoped>\n",
       "    .dataframe tbody tr th:only-of-type {\n",
       "        vertical-align: middle;\n",
       "    }\n",
       "\n",
       "    .dataframe tbody tr th {\n",
       "        vertical-align: top;\n",
       "    }\n",
       "\n",
       "    .dataframe thead th {\n",
       "        text-align: right;\n",
       "    }\n",
       "</style>\n",
       "<table border=\"1\" class=\"dataframe\">\n",
       "  <thead>\n",
       "    <tr style=\"text-align: right;\">\n",
       "      <th></th>\n",
       "      <th>RegionID</th>\n",
       "      <th>SizeRank</th>\n",
       "      <th>RegionName</th>\n",
       "      <th>RegionType</th>\n",
       "      <th>StateName</th>\n",
       "      <th>State</th>\n",
       "      <th>City</th>\n",
       "      <th>Metro</th>\n",
       "      <th>CountyName</th>\n",
       "      <th>1/31/2000</th>\n",
       "      <th>...</th>\n",
       "      <th>7/31/2020</th>\n",
       "      <th>8/31/2020</th>\n",
       "      <th>9/30/2020</th>\n",
       "      <th>10/31/2020</th>\n",
       "      <th>11/30/2020</th>\n",
       "      <th>12/31/2020</th>\n",
       "      <th>1/31/2021</th>\n",
       "      <th>2/28/2021</th>\n",
       "      <th>3/31/2021</th>\n",
       "      <th>4/30/2021</th>\n",
       "    </tr>\n",
       "  </thead>\n",
       "  <tbody>\n",
       "    <tr>\n",
       "      <th>0</th>\n",
       "      <td>61639</td>\n",
       "      <td>0</td>\n",
       "      <td>10025</td>\n",
       "      <td>Zip</td>\n",
       "      <td>NY</td>\n",
       "      <td>NY</td>\n",
       "      <td>New York</td>\n",
       "      <td>New York-Newark-Jersey City</td>\n",
       "      <td>New York County</td>\n",
       "      <td>327302.0</td>\n",
       "      <td>...</td>\n",
       "      <td>1044070</td>\n",
       "      <td>1059557</td>\n",
       "      <td>1067331</td>\n",
       "      <td>1068534.0</td>\n",
       "      <td>1069807</td>\n",
       "      <td>1081347</td>\n",
       "      <td>1081855</td>\n",
       "      <td>1092196.0</td>\n",
       "      <td>1104487.0</td>\n",
       "      <td>1121360.0</td>\n",
       "    </tr>\n",
       "    <tr>\n",
       "      <th>1</th>\n",
       "      <td>84654</td>\n",
       "      <td>1</td>\n",
       "      <td>60657</td>\n",
       "      <td>Zip</td>\n",
       "      <td>IL</td>\n",
       "      <td>IL</td>\n",
       "      <td>Chicago</td>\n",
       "      <td>Chicago-Naperville-Elgin</td>\n",
       "      <td>Cook County</td>\n",
       "      <td>314318.0</td>\n",
       "      <td>...</td>\n",
       "      <td>498824</td>\n",
       "      <td>500922</td>\n",
       "      <td>503725</td>\n",
       "      <td>506441.0</td>\n",
       "      <td>508991</td>\n",
       "      <td>511451</td>\n",
       "      <td>513654</td>\n",
       "      <td>515983.0</td>\n",
       "      <td>517482.0</td>\n",
       "      <td>519569.0</td>\n",
       "    </tr>\n",
       "    <tr>\n",
       "      <th>2</th>\n",
       "      <td>61637</td>\n",
       "      <td>2</td>\n",
       "      <td>10023</td>\n",
       "      <td>Zip</td>\n",
       "      <td>NY</td>\n",
       "      <td>NY</td>\n",
       "      <td>New York</td>\n",
       "      <td>New York-Newark-Jersey City</td>\n",
       "      <td>New York County</td>\n",
       "      <td>380271.0</td>\n",
       "      <td>...</td>\n",
       "      <td>1131516</td>\n",
       "      <td>1133589</td>\n",
       "      <td>1144334</td>\n",
       "      <td>1144987.0</td>\n",
       "      <td>1140435</td>\n",
       "      <td>1130923</td>\n",
       "      <td>1121519</td>\n",
       "      <td>1120821.0</td>\n",
       "      <td>1118048.0</td>\n",
       "      <td>1120428.0</td>\n",
       "    </tr>\n",
       "    <tr>\n",
       "      <th>3</th>\n",
       "      <td>91982</td>\n",
       "      <td>3</td>\n",
       "      <td>77494</td>\n",
       "      <td>Zip</td>\n",
       "      <td>TX</td>\n",
       "      <td>TX</td>\n",
       "      <td>Katy</td>\n",
       "      <td>Houston-The Woodlands-Sugar Land</td>\n",
       "      <td>Harris County</td>\n",
       "      <td>223127.0</td>\n",
       "      <td>...</td>\n",
       "      <td>343268</td>\n",
       "      <td>344710</td>\n",
       "      <td>346294</td>\n",
       "      <td>348806.0</td>\n",
       "      <td>351884</td>\n",
       "      <td>356253</td>\n",
       "      <td>360496</td>\n",
       "      <td>365462.0</td>\n",
       "      <td>370763.0</td>\n",
       "      <td>376914.0</td>\n",
       "    </tr>\n",
       "    <tr>\n",
       "      <th>4</th>\n",
       "      <td>84616</td>\n",
       "      <td>4</td>\n",
       "      <td>60614</td>\n",
       "      <td>Zip</td>\n",
       "      <td>IL</td>\n",
       "      <td>IL</td>\n",
       "      <td>Chicago</td>\n",
       "      <td>Chicago-Naperville-Elgin</td>\n",
       "      <td>Cook County</td>\n",
       "      <td>407203.0</td>\n",
       "      <td>...</td>\n",
       "      <td>637989</td>\n",
       "      <td>639520</td>\n",
       "      <td>642386</td>\n",
       "      <td>645129.0</td>\n",
       "      <td>648104</td>\n",
       "      <td>650989</td>\n",
       "      <td>653530</td>\n",
       "      <td>656818.0</td>\n",
       "      <td>659416.0</td>\n",
       "      <td>662782.0</td>\n",
       "    </tr>\n",
       "  </tbody>\n",
       "</table>\n",
       "<p>5 rows × 265 columns</p>\n",
       "</div>"
      ],
      "text/plain": [
       "   RegionID  SizeRank  RegionName RegionType StateName State      City  \\\n",
       "0     61639         0       10025        Zip        NY    NY  New York   \n",
       "1     84654         1       60657        Zip        IL    IL   Chicago   \n",
       "2     61637         2       10023        Zip        NY    NY  New York   \n",
       "3     91982         3       77494        Zip        TX    TX      Katy   \n",
       "4     84616         4       60614        Zip        IL    IL   Chicago   \n",
       "\n",
       "                              Metro       CountyName  1/31/2000  ...  \\\n",
       "0       New York-Newark-Jersey City  New York County   327302.0  ...   \n",
       "1          Chicago-Naperville-Elgin      Cook County   314318.0  ...   \n",
       "2       New York-Newark-Jersey City  New York County   380271.0  ...   \n",
       "3  Houston-The Woodlands-Sugar Land    Harris County   223127.0  ...   \n",
       "4          Chicago-Naperville-Elgin      Cook County   407203.0  ...   \n",
       "\n",
       "   7/31/2020  8/31/2020  9/30/2020  10/31/2020  11/30/2020  12/31/2020  \\\n",
       "0    1044070    1059557    1067331   1068534.0     1069807     1081347   \n",
       "1     498824     500922     503725    506441.0      508991      511451   \n",
       "2    1131516    1133589    1144334   1144987.0     1140435     1130923   \n",
       "3     343268     344710     346294    348806.0      351884      356253   \n",
       "4     637989     639520     642386    645129.0      648104      650989   \n",
       "\n",
       "   1/31/2021  2/28/2021  3/31/2021  4/30/2021  \n",
       "0    1081855  1092196.0  1104487.0  1121360.0  \n",
       "1     513654   515983.0   517482.0   519569.0  \n",
       "2    1121519  1120821.0  1118048.0  1120428.0  \n",
       "3     360496   365462.0   370763.0   376914.0  \n",
       "4     653530   656818.0   659416.0   662782.0  \n",
       "\n",
       "[5 rows x 265 columns]"
      ]
     },
     "execution_count": 6,
     "metadata": {},
     "output_type": "execute_result"
    }
   ],
   "source": [
    "df = pd.read_csv(\"zillow_data.csv\")\n",
    "df.head()"
   ]
  },
  {
   "cell_type": "code",
   "execution_count": 7,
   "id": "stunning-flooring",
   "metadata": {},
   "outputs": [],
   "source": [
    "# Remove null values\n",
    "df = df.dropna()"
   ]
  },
  {
   "cell_type": "code",
   "execution_count": 8,
   "id": "limiting-editor",
   "metadata": {},
   "outputs": [
    {
     "data": {
      "text/html": [
       "<div>\n",
       "<style scoped>\n",
       "    .dataframe tbody tr th:only-of-type {\n",
       "        vertical-align: middle;\n",
       "    }\n",
       "\n",
       "    .dataframe tbody tr th {\n",
       "        vertical-align: top;\n",
       "    }\n",
       "\n",
       "    .dataframe thead th {\n",
       "        text-align: right;\n",
       "    }\n",
       "</style>\n",
       "<table border=\"1\" class=\"dataframe\">\n",
       "  <thead>\n",
       "    <tr style=\"text-align: right;\">\n",
       "      <th></th>\n",
       "      <th>RegionID</th>\n",
       "      <th>SizeRank</th>\n",
       "      <th>ZipCode</th>\n",
       "      <th>RegionType</th>\n",
       "      <th>StateName</th>\n",
       "      <th>State</th>\n",
       "      <th>City</th>\n",
       "      <th>Metro</th>\n",
       "      <th>CountyName</th>\n",
       "      <th>1/31/2000</th>\n",
       "      <th>...</th>\n",
       "      <th>7/31/2020</th>\n",
       "      <th>8/31/2020</th>\n",
       "      <th>9/30/2020</th>\n",
       "      <th>10/31/2020</th>\n",
       "      <th>11/30/2020</th>\n",
       "      <th>12/31/2020</th>\n",
       "      <th>1/31/2021</th>\n",
       "      <th>2/28/2021</th>\n",
       "      <th>3/31/2021</th>\n",
       "      <th>4/30/2021</th>\n",
       "    </tr>\n",
       "  </thead>\n",
       "  <tbody>\n",
       "    <tr>\n",
       "      <th>0</th>\n",
       "      <td>61639</td>\n",
       "      <td>0</td>\n",
       "      <td>10025</td>\n",
       "      <td>Zip</td>\n",
       "      <td>NY</td>\n",
       "      <td>NY</td>\n",
       "      <td>New York</td>\n",
       "      <td>New York-Newark-Jersey City</td>\n",
       "      <td>New York County</td>\n",
       "      <td>327302.0</td>\n",
       "      <td>...</td>\n",
       "      <td>1044070</td>\n",
       "      <td>1059557</td>\n",
       "      <td>1067331</td>\n",
       "      <td>1068534.0</td>\n",
       "      <td>1069807</td>\n",
       "      <td>1081347</td>\n",
       "      <td>1081855</td>\n",
       "      <td>1092196.0</td>\n",
       "      <td>1104487.0</td>\n",
       "      <td>1121360.0</td>\n",
       "    </tr>\n",
       "    <tr>\n",
       "      <th>1</th>\n",
       "      <td>84654</td>\n",
       "      <td>1</td>\n",
       "      <td>60657</td>\n",
       "      <td>Zip</td>\n",
       "      <td>IL</td>\n",
       "      <td>IL</td>\n",
       "      <td>Chicago</td>\n",
       "      <td>Chicago-Naperville-Elgin</td>\n",
       "      <td>Cook County</td>\n",
       "      <td>314318.0</td>\n",
       "      <td>...</td>\n",
       "      <td>498824</td>\n",
       "      <td>500922</td>\n",
       "      <td>503725</td>\n",
       "      <td>506441.0</td>\n",
       "      <td>508991</td>\n",
       "      <td>511451</td>\n",
       "      <td>513654</td>\n",
       "      <td>515983.0</td>\n",
       "      <td>517482.0</td>\n",
       "      <td>519569.0</td>\n",
       "    </tr>\n",
       "    <tr>\n",
       "      <th>2</th>\n",
       "      <td>61637</td>\n",
       "      <td>2</td>\n",
       "      <td>10023</td>\n",
       "      <td>Zip</td>\n",
       "      <td>NY</td>\n",
       "      <td>NY</td>\n",
       "      <td>New York</td>\n",
       "      <td>New York-Newark-Jersey City</td>\n",
       "      <td>New York County</td>\n",
       "      <td>380271.0</td>\n",
       "      <td>...</td>\n",
       "      <td>1131516</td>\n",
       "      <td>1133589</td>\n",
       "      <td>1144334</td>\n",
       "      <td>1144987.0</td>\n",
       "      <td>1140435</td>\n",
       "      <td>1130923</td>\n",
       "      <td>1121519</td>\n",
       "      <td>1120821.0</td>\n",
       "      <td>1118048.0</td>\n",
       "      <td>1120428.0</td>\n",
       "    </tr>\n",
       "    <tr>\n",
       "      <th>3</th>\n",
       "      <td>91982</td>\n",
       "      <td>3</td>\n",
       "      <td>77494</td>\n",
       "      <td>Zip</td>\n",
       "      <td>TX</td>\n",
       "      <td>TX</td>\n",
       "      <td>Katy</td>\n",
       "      <td>Houston-The Woodlands-Sugar Land</td>\n",
       "      <td>Harris County</td>\n",
       "      <td>223127.0</td>\n",
       "      <td>...</td>\n",
       "      <td>343268</td>\n",
       "      <td>344710</td>\n",
       "      <td>346294</td>\n",
       "      <td>348806.0</td>\n",
       "      <td>351884</td>\n",
       "      <td>356253</td>\n",
       "      <td>360496</td>\n",
       "      <td>365462.0</td>\n",
       "      <td>370763.0</td>\n",
       "      <td>376914.0</td>\n",
       "    </tr>\n",
       "    <tr>\n",
       "      <th>4</th>\n",
       "      <td>84616</td>\n",
       "      <td>4</td>\n",
       "      <td>60614</td>\n",
       "      <td>Zip</td>\n",
       "      <td>IL</td>\n",
       "      <td>IL</td>\n",
       "      <td>Chicago</td>\n",
       "      <td>Chicago-Naperville-Elgin</td>\n",
       "      <td>Cook County</td>\n",
       "      <td>407203.0</td>\n",
       "      <td>...</td>\n",
       "      <td>637989</td>\n",
       "      <td>639520</td>\n",
       "      <td>642386</td>\n",
       "      <td>645129.0</td>\n",
       "      <td>648104</td>\n",
       "      <td>650989</td>\n",
       "      <td>653530</td>\n",
       "      <td>656818.0</td>\n",
       "      <td>659416.0</td>\n",
       "      <td>662782.0</td>\n",
       "    </tr>\n",
       "  </tbody>\n",
       "</table>\n",
       "<p>5 rows × 265 columns</p>\n",
       "</div>"
      ],
      "text/plain": [
       "  RegionID  SizeRank ZipCode RegionType StateName State      City  \\\n",
       "0    61639         0   10025        Zip        NY    NY  New York   \n",
       "1    84654         1   60657        Zip        IL    IL   Chicago   \n",
       "2    61637         2   10023        Zip        NY    NY  New York   \n",
       "3    91982         3   77494        Zip        TX    TX      Katy   \n",
       "4    84616         4   60614        Zip        IL    IL   Chicago   \n",
       "\n",
       "                              Metro       CountyName  1/31/2000  ...  \\\n",
       "0       New York-Newark-Jersey City  New York County   327302.0  ...   \n",
       "1          Chicago-Naperville-Elgin      Cook County   314318.0  ...   \n",
       "2       New York-Newark-Jersey City  New York County   380271.0  ...   \n",
       "3  Houston-The Woodlands-Sugar Land    Harris County   223127.0  ...   \n",
       "4          Chicago-Naperville-Elgin      Cook County   407203.0  ...   \n",
       "\n",
       "   7/31/2020  8/31/2020  9/30/2020  10/31/2020  11/30/2020  12/31/2020  \\\n",
       "0    1044070    1059557    1067331   1068534.0     1069807     1081347   \n",
       "1     498824     500922     503725    506441.0      508991      511451   \n",
       "2    1131516    1133589    1144334   1144987.0     1140435     1130923   \n",
       "3     343268     344710     346294    348806.0      351884      356253   \n",
       "4     637989     639520     642386    645129.0      648104      650989   \n",
       "\n",
       "   1/31/2021  2/28/2021  3/31/2021  4/30/2021  \n",
       "0    1081855  1092196.0  1104487.0  1121360.0  \n",
       "1     513654   515983.0   517482.0   519569.0  \n",
       "2    1121519  1120821.0  1118048.0  1120428.0  \n",
       "3     360496   365462.0   370763.0   376914.0  \n",
       "4     653530   656818.0   659416.0   662782.0  \n",
       "\n",
       "[5 rows x 265 columns]"
      ]
     },
     "execution_count": 8,
     "metadata": {},
     "output_type": "execute_result"
    }
   ],
   "source": [
    "df.rename(columns={\"RegionName\":\"ZipCode\"}, inplace=True)\n",
    "df[\"ZipCode\"]=df[\"ZipCode\"].map(lambda x: \"{:.0f}\".format(x))\n",
    "df[\"RegionID\"]=df[\"RegionID\"].map(lambda x: \"{:.0f}\".format(x))\n",
    "df.head()"
   ]
  },
  {
   "cell_type": "code",
   "execution_count": 9,
   "id": "placed-relationship",
   "metadata": {},
   "outputs": [
    {
     "data": {
      "text/html": [
       "<div>\n",
       "<style scoped>\n",
       "    .dataframe tbody tr th:only-of-type {\n",
       "        vertical-align: middle;\n",
       "    }\n",
       "\n",
       "    .dataframe tbody tr th {\n",
       "        vertical-align: top;\n",
       "    }\n",
       "\n",
       "    .dataframe thead th {\n",
       "        text-align: right;\n",
       "    }\n",
       "</style>\n",
       "<table border=\"1\" class=\"dataframe\">\n",
       "  <thead>\n",
       "    <tr style=\"text-align: right;\">\n",
       "      <th></th>\n",
       "      <th>0</th>\n",
       "      <th>1</th>\n",
       "      <th>2</th>\n",
       "      <th>3</th>\n",
       "      <th>4</th>\n",
       "      <th>5</th>\n",
       "      <th>6</th>\n",
       "      <th>7</th>\n",
       "      <th>8</th>\n",
       "      <th>9</th>\n",
       "      <th>...</th>\n",
       "      <th>30802</th>\n",
       "      <th>30804</th>\n",
       "      <th>30814</th>\n",
       "      <th>30816</th>\n",
       "      <th>30821</th>\n",
       "      <th>30822</th>\n",
       "      <th>30827</th>\n",
       "      <th>30828</th>\n",
       "      <th>30830</th>\n",
       "      <th>30831</th>\n",
       "    </tr>\n",
       "  </thead>\n",
       "  <tbody>\n",
       "    <tr>\n",
       "      <th>4/30/2000</th>\n",
       "      <td>348716.0</td>\n",
       "      <td>326931.0</td>\n",
       "      <td>394224.0</td>\n",
       "      <td>227925.0</td>\n",
       "      <td>421469.0</td>\n",
       "      <td>106485.0</td>\n",
       "      <td>426013.0</td>\n",
       "      <td>105782.0</td>\n",
       "      <td>89811.0</td>\n",
       "      <td>195800.0</td>\n",
       "      <td>...</td>\n",
       "      <td>276944.0</td>\n",
       "      <td>359284.0</td>\n",
       "      <td>99940.0</td>\n",
       "      <td>218641.0</td>\n",
       "      <td>326623.0</td>\n",
       "      <td>450151.0</td>\n",
       "      <td>1837726.0</td>\n",
       "      <td>314142.0</td>\n",
       "      <td>113091.0</td>\n",
       "      <td>221538.0</td>\n",
       "    </tr>\n",
       "    <tr>\n",
       "      <th>5/31/2000</th>\n",
       "      <td>356557.0</td>\n",
       "      <td>331085.0</td>\n",
       "      <td>400534.0</td>\n",
       "      <td>227131.0</td>\n",
       "      <td>426227.0</td>\n",
       "      <td>106531.0</td>\n",
       "      <td>429756.0</td>\n",
       "      <td>105823.0</td>\n",
       "      <td>89806.0</td>\n",
       "      <td>198606.0</td>\n",
       "      <td>...</td>\n",
       "      <td>279522.0</td>\n",
       "      <td>360945.0</td>\n",
       "      <td>101149.0</td>\n",
       "      <td>219641.0</td>\n",
       "      <td>329608.0</td>\n",
       "      <td>450598.0</td>\n",
       "      <td>1871906.0</td>\n",
       "      <td>299144.0</td>\n",
       "      <td>111687.0</td>\n",
       "      <td>222853.0</td>\n",
       "    </tr>\n",
       "    <tr>\n",
       "      <th>6/30/2000</th>\n",
       "      <td>363894.0</td>\n",
       "      <td>335104.0</td>\n",
       "      <td>408671.0</td>\n",
       "      <td>226349.0</td>\n",
       "      <td>430855.0</td>\n",
       "      <td>106697.0</td>\n",
       "      <td>431719.0</td>\n",
       "      <td>105954.0</td>\n",
       "      <td>89676.0</td>\n",
       "      <td>201307.0</td>\n",
       "      <td>...</td>\n",
       "      <td>279184.0</td>\n",
       "      <td>361550.0</td>\n",
       "      <td>102499.0</td>\n",
       "      <td>224039.0</td>\n",
       "      <td>333533.0</td>\n",
       "      <td>452551.0</td>\n",
       "      <td>1902100.0</td>\n",
       "      <td>284628.0</td>\n",
       "      <td>111674.0</td>\n",
       "      <td>223848.0</td>\n",
       "    </tr>\n",
       "    <tr>\n",
       "      <th>7/31/2000</th>\n",
       "      <td>370953.0</td>\n",
       "      <td>339022.0</td>\n",
       "      <td>416193.0</td>\n",
       "      <td>225192.0</td>\n",
       "      <td>435420.0</td>\n",
       "      <td>106801.0</td>\n",
       "      <td>437733.0</td>\n",
       "      <td>105960.0</td>\n",
       "      <td>89558.0</td>\n",
       "      <td>203630.0</td>\n",
       "      <td>...</td>\n",
       "      <td>281396.0</td>\n",
       "      <td>364551.0</td>\n",
       "      <td>103853.0</td>\n",
       "      <td>226287.0</td>\n",
       "      <td>335948.0</td>\n",
       "      <td>459797.0</td>\n",
       "      <td>1910204.0</td>\n",
       "      <td>270764.0</td>\n",
       "      <td>110666.0</td>\n",
       "      <td>224326.0</td>\n",
       "    </tr>\n",
       "    <tr>\n",
       "      <th>8/31/2000</th>\n",
       "      <td>376962.0</td>\n",
       "      <td>343108.0</td>\n",
       "      <td>423100.0</td>\n",
       "      <td>225702.0</td>\n",
       "      <td>439915.0</td>\n",
       "      <td>107065.0</td>\n",
       "      <td>440354.0</td>\n",
       "      <td>106187.0</td>\n",
       "      <td>89446.0</td>\n",
       "      <td>206387.0</td>\n",
       "      <td>...</td>\n",
       "      <td>284001.0</td>\n",
       "      <td>369502.0</td>\n",
       "      <td>105818.0</td>\n",
       "      <td>230468.0</td>\n",
       "      <td>345577.0</td>\n",
       "      <td>464686.0</td>\n",
       "      <td>1930185.0</td>\n",
       "      <td>264862.0</td>\n",
       "      <td>108143.0</td>\n",
       "      <td>224817.0</td>\n",
       "    </tr>\n",
       "  </tbody>\n",
       "</table>\n",
       "<p>5 rows × 15989 columns</p>\n",
       "</div>"
      ],
      "text/plain": [
       "              0         1         2         3         4         5      \\\n",
       "4/30/2000  348716.0  326931.0  394224.0  227925.0  421469.0  106485.0   \n",
       "5/31/2000  356557.0  331085.0  400534.0  227131.0  426227.0  106531.0   \n",
       "6/30/2000  363894.0  335104.0  408671.0  226349.0  430855.0  106697.0   \n",
       "7/31/2000  370953.0  339022.0  416193.0  225192.0  435420.0  106801.0   \n",
       "8/31/2000  376962.0  343108.0  423100.0  225702.0  439915.0  107065.0   \n",
       "\n",
       "              6         7        8         9      ...     30802     30804  \\\n",
       "4/30/2000  426013.0  105782.0  89811.0  195800.0  ...  276944.0  359284.0   \n",
       "5/31/2000  429756.0  105823.0  89806.0  198606.0  ...  279522.0  360945.0   \n",
       "6/30/2000  431719.0  105954.0  89676.0  201307.0  ...  279184.0  361550.0   \n",
       "7/31/2000  437733.0  105960.0  89558.0  203630.0  ...  281396.0  364551.0   \n",
       "8/31/2000  440354.0  106187.0  89446.0  206387.0  ...  284001.0  369502.0   \n",
       "\n",
       "              30814     30816     30821     30822      30827     30828  \\\n",
       "4/30/2000   99940.0  218641.0  326623.0  450151.0  1837726.0  314142.0   \n",
       "5/31/2000  101149.0  219641.0  329608.0  450598.0  1871906.0  299144.0   \n",
       "6/30/2000  102499.0  224039.0  333533.0  452551.0  1902100.0  284628.0   \n",
       "7/31/2000  103853.0  226287.0  335948.0  459797.0  1910204.0  270764.0   \n",
       "8/31/2000  105818.0  230468.0  345577.0  464686.0  1930185.0  264862.0   \n",
       "\n",
       "              30830     30831  \n",
       "4/30/2000  113091.0  221538.0  \n",
       "5/31/2000  111687.0  222853.0  \n",
       "6/30/2000  111674.0  223848.0  \n",
       "7/31/2000  110666.0  224326.0  \n",
       "8/31/2000  108143.0  224817.0  \n",
       "\n",
       "[5 rows x 15989 columns]"
      ]
     },
     "execution_count": 9,
     "metadata": {},
     "output_type": "execute_result"
    }
   ],
   "source": [
    "df_usa = df.loc[:,'4/30/2000':'4/30/2021']\n",
    "df_usa = df_usa.transpose()\n",
    "df_usa.head()"
   ]
  },
  {
   "cell_type": "code",
   "execution_count": 10,
   "id": "known-bracket",
   "metadata": {},
   "outputs": [
    {
     "data": {
      "text/html": [
       "<div>\n",
       "<style scoped>\n",
       "    .dataframe tbody tr th:only-of-type {\n",
       "        vertical-align: middle;\n",
       "    }\n",
       "\n",
       "    .dataframe tbody tr th {\n",
       "        vertical-align: top;\n",
       "    }\n",
       "\n",
       "    .dataframe thead th {\n",
       "        text-align: right;\n",
       "    }\n",
       "</style>\n",
       "<table border=\"1\" class=\"dataframe\">\n",
       "  <thead>\n",
       "    <tr style=\"text-align: right;\">\n",
       "      <th></th>\n",
       "      <th>Average Price</th>\n",
       "    </tr>\n",
       "    <tr>\n",
       "      <th>Time</th>\n",
       "      <th></th>\n",
       "    </tr>\n",
       "  </thead>\n",
       "  <tbody>\n",
       "    <tr>\n",
       "      <th>2000-04-30</th>\n",
       "      <td>152603.319032</td>\n",
       "    </tr>\n",
       "    <tr>\n",
       "      <th>2000-05-31</th>\n",
       "      <td>153671.983864</td>\n",
       "    </tr>\n",
       "    <tr>\n",
       "      <th>2000-06-30</th>\n",
       "      <td>154744.463694</td>\n",
       "    </tr>\n",
       "    <tr>\n",
       "      <th>2000-07-31</th>\n",
       "      <td>155805.848771</td>\n",
       "    </tr>\n",
       "    <tr>\n",
       "      <th>2000-08-31</th>\n",
       "      <td>156941.502470</td>\n",
       "    </tr>\n",
       "  </tbody>\n",
       "</table>\n",
       "</div>"
      ],
      "text/plain": [
       "            Average Price\n",
       "Time                     \n",
       "2000-04-30  152603.319032\n",
       "2000-05-31  153671.983864\n",
       "2000-06-30  154744.463694\n",
       "2000-07-31  155805.848771\n",
       "2000-08-31  156941.502470"
      ]
     },
     "execution_count": 10,
     "metadata": {},
     "output_type": "execute_result"
    }
   ],
   "source": [
    "usa_price = df_usa.mean(axis=1)\n",
    "usa_price = pd.DataFrame(usa_price)\n",
    "usa_price = usa_price.reset_index()\n",
    "usa_price = usa_price.rename(columns={'index':'Time', 0:'Average Price'})\n",
    "usa_price['Time'] = pd.to_datetime(usa_price['Time'])\n",
    "usa_price.set_index('Time', inplace=True)\n",
    "usa_price.head()"
   ]
  },
  {
   "cell_type": "code",
   "execution_count": 11,
   "id": "banned-british",
   "metadata": {},
   "outputs": [
    {
     "data": {
      "application/vnd.plotly.v1+json": {
       "config": {
        "linkText": "Export to plot.ly",
        "plotlyServerURL": "https://plot.ly",
        "showLink": true
       },
       "data": [
        {
         "line": {
          "color": "rgba(255, 153, 51, 1.0)",
          "dash": "solid",
          "shape": "linear",
          "width": 1.3
         },
         "mode": "lines",
         "name": "Average Price",
         "text": "",
         "type": "scatter",
         "x": [
          "2000-04-30",
          "2000-05-31",
          "2000-06-30",
          "2000-07-31",
          "2000-08-31",
          "2000-09-30",
          "2000-10-31",
          "2000-11-30",
          "2000-12-31",
          "2001-01-31",
          "2001-02-28",
          "2001-03-31",
          "2001-04-30",
          "2001-05-31",
          "2001-06-30",
          "2001-07-31",
          "2001-08-31",
          "2001-09-30",
          "2001-10-31",
          "2001-11-30",
          "2001-12-31",
          "2002-01-31",
          "2002-02-28",
          "2002-03-31",
          "2002-04-30",
          "2002-05-31",
          "2002-06-30",
          "2002-07-31",
          "2002-08-31",
          "2002-09-30",
          "2002-10-31",
          "2002-11-30",
          "2002-12-31",
          "2003-01-31",
          "2003-02-28",
          "2003-03-31",
          "2003-04-30",
          "2003-05-31",
          "2003-06-30",
          "2003-07-31",
          "2003-08-31",
          "2003-09-30",
          "2003-10-31",
          "2003-11-30",
          "2003-12-31",
          "2004-01-31",
          "2004-02-29",
          "2004-03-31",
          "2004-04-30",
          "2004-05-31",
          "2004-06-30",
          "2004-07-31",
          "2004-08-31",
          "2004-09-30",
          "2004-10-31",
          "2004-11-30",
          "2004-12-31",
          "2005-01-31",
          "2005-02-28",
          "2005-03-31",
          "2005-04-30",
          "2005-05-31",
          "2005-06-30",
          "2005-07-31",
          "2005-08-31",
          "2005-09-30",
          "2005-10-31",
          "2005-11-30",
          "2005-12-31",
          "2006-01-31",
          "2006-02-28",
          "2006-03-31",
          "2006-04-30",
          "2006-05-31",
          "2006-06-30",
          "2006-07-31",
          "2006-08-31",
          "2006-09-30",
          "2006-10-31",
          "2006-11-30",
          "2006-12-31",
          "2007-01-31",
          "2007-02-28",
          "2007-03-31",
          "2007-04-30",
          "2007-05-31",
          "2007-06-30",
          "2007-07-31",
          "2007-08-31",
          "2007-09-30",
          "2007-10-31",
          "2007-11-30",
          "2007-12-31",
          "2008-01-31",
          "2008-02-29",
          "2008-03-31",
          "2008-04-30",
          "2008-05-31",
          "2008-06-30",
          "2008-07-31",
          "2008-08-31",
          "2008-09-30",
          "2008-10-31",
          "2008-11-30",
          "2008-12-31",
          "2009-01-31",
          "2009-02-28",
          "2009-03-31",
          "2009-04-30",
          "2009-05-31",
          "2009-06-30",
          "2009-07-31",
          "2009-08-31",
          "2009-09-30",
          "2009-10-31",
          "2009-11-30",
          "2009-12-31",
          "2010-01-31",
          "2010-02-28",
          "2010-03-31",
          "2010-04-30",
          "2010-05-31",
          "2010-06-30",
          "2010-07-31",
          "2010-08-31",
          "2010-09-30",
          "2010-10-31",
          "2010-11-30",
          "2010-12-31",
          "2011-01-31",
          "2011-02-28",
          "2011-03-31",
          "2011-04-30",
          "2011-05-31",
          "2011-06-30",
          "2011-07-31",
          "2011-08-31",
          "2011-09-30",
          "2011-10-31",
          "2011-11-30",
          "2011-12-31",
          "2012-01-31",
          "2012-02-29",
          "2012-03-31",
          "2012-04-30",
          "2012-05-31",
          "2012-06-30",
          "2012-07-31",
          "2012-08-31",
          "2012-09-30",
          "2012-10-31",
          "2012-11-30",
          "2012-12-31",
          "2013-01-31",
          "2013-02-28",
          "2013-03-31",
          "2013-04-30",
          "2013-05-31",
          "2013-06-30",
          "2013-07-31",
          "2013-08-31",
          "2013-09-30",
          "2013-10-31",
          "2013-11-30",
          "2013-12-31",
          "2014-01-31",
          "2014-02-28",
          "2014-03-31",
          "2014-04-30",
          "2014-05-31",
          "2014-06-30",
          "2014-07-31",
          "2014-08-31",
          "2014-09-30",
          "2014-10-31",
          "2014-11-30",
          "2014-12-31",
          "2015-01-31",
          "2015-02-28",
          "2015-03-31",
          "2015-04-30",
          "2015-05-31",
          "2015-06-30",
          "2015-07-31",
          "2015-08-31",
          "2015-09-30",
          "2015-10-31",
          "2015-11-30",
          "2015-12-31",
          "2016-01-31",
          "2016-02-29",
          "2016-03-31",
          "2016-04-30",
          "2016-05-31",
          "2016-06-30",
          "2016-07-31",
          "2016-08-31",
          "2016-09-30",
          "2016-10-31",
          "2016-11-30",
          "2016-12-31",
          "2017-01-31",
          "2017-02-28",
          "2017-03-31",
          "2017-04-30",
          "2017-05-31",
          "2017-06-30",
          "2017-07-31",
          "2017-08-31",
          "2017-09-30",
          "2017-10-31",
          "2017-11-30",
          "2017-12-31",
          "2018-01-31",
          "2018-02-28",
          "2018-03-31",
          "2018-04-30",
          "2018-05-31",
          "2018-06-30",
          "2018-07-31",
          "2018-08-31",
          "2018-09-30",
          "2018-10-31",
          "2018-11-30",
          "2018-12-31",
          "2019-01-31",
          "2019-02-28",
          "2019-03-31",
          "2019-04-30",
          "2019-05-31",
          "2019-06-30",
          "2019-07-31",
          "2019-08-31",
          "2019-09-30",
          "2019-10-31",
          "2019-11-30",
          "2019-12-31",
          "2020-01-31",
          "2020-02-29",
          "2020-03-31",
          "2020-04-30",
          "2020-05-31",
          "2020-06-30",
          "2020-07-31",
          "2020-08-31",
          "2020-09-30",
          "2020-10-31",
          "2020-11-30",
          "2020-12-31",
          "2021-01-31",
          "2021-02-28",
          "2021-03-31",
          "2021-04-30"
         ],
         "y": [
          152603.3190318344,
          153671.98386390644,
          154744.46369378947,
          155805.84877103008,
          156941.50247044844,
          158121.6849083745,
          159344.88417036712,
          160588.16486334355,
          161879.15979736068,
          163171.81731190192,
          164386.5741447245,
          165602.17887297517,
          166776.85358684097,
          167928.58371380324,
          168969.14916505097,
          169966.53161548564,
          170959.40940646693,
          171967.3488023016,
          172979.09825505034,
          173958.555631997,
          174901.67308774783,
          175820.09231346552,
          176788.39789855527,
          177787.39070611045,
          178863.1784351742,
          179975.53036462568,
          181195.3518043655,
          182498.62236537618,
          183845.13571830632,
          185185.72706235538,
          186540.3589968103,
          187947.97861029458,
          189404.69016198636,
          190831.10619801114,
          192243.0627931703,
          193634.67996747763,
          195003.52842579273,
          196337.54656326224,
          197615.67540183876,
          198911.26261804992,
          200313.73094002125,
          201826.61948839828,
          203401.72337231846,
          204980.00544124085,
          206548.34680092565,
          208294.66389392706,
          210171.22615548188,
          212152.92713740698,
          214133.36212396022,
          216281.46431921946,
          218598.0928138095,
          221010.36812808807,
          223327.31052598663,
          225666.2880105072,
          227994.32278441428,
          230351.71586715867,
          232742.42510475952,
          235127.02013884546,
          237525.25417474515,
          239923.34229782975,
          242453.073988367,
          244983.99355807118,
          247527.02476702732,
          250105.57695915943,
          252732.3294765151,
          255348.88861092,
          257845.55306773406,
          260115.9369566577,
          262196.34573769465,
          264004.2714991557,
          265631.10138220026,
          267105.409093752,
          268439.0778034899,
          269633.0620426543,
          270577.50290824944,
          271174.98836700234,
          271497.71611733065,
          271486.6450684846,
          271367.2065795234,
          271266.6042904497,
          271215.2838201263,
          271163.80461567326,
          271039.6829695416,
          270876.3957095503,
          270607.6213646882,
          270111.23903933953,
          269377.05397460755,
          268533.1963224717,
          267707.55075364315,
          266817.53611858154,
          265818.83107136155,
          264629.10869973106,
          263216.3637500782,
          261591.52411032584,
          259666.8471449121,
          257582.3476139846,
          255357.25761461005,
          253094.16842829445,
          250938.5673275377,
          248784.53586840953,
          246624.01382200263,
          244490.7958596535,
          242290.01613609356,
          239915.17174307336,
          237439.32028269436,
          235133.55256739008,
          233206.89086246796,
          231328.60491587967,
          229399.51810619803,
          227602.55606979798,
          225975.38094940272,
          224700.3034586278,
          223524.74313590594,
          222603.49321408468,
          221951.30189505283,
          221768.83444868348,
          221787.93539308273,
          221756.8808555882,
          221530.26149227595,
          221363.8701607355,
          221404.2698730377,
          221432.91769341423,
          221176.75820876853,
          220475.15979736068,
          219670.23872662455,
          218669.4703858903,
          217605.39658515228,
          216247.40471574207,
          215028.4035899681,
          213903.60404027769,
          212921.2442929514,
          211830.17193070234,
          210629.08987428856,
          209333.1594846457,
          208300.8331352805,
          207555.77271874415,
          206932.9666645819,
          206389.2142097692,
          205777.67327537682,
          205377.4109074989,
          204904.39427106135,
          204512.8966164238,
          204178.1222090187,
          204175.13890799924,
          204399.4509350178,
          204867.3148414535,
          205347.5069735443,
          205926.68584651948,
          206576.05741447245,
          207304.17962349116,
          208232.17067984238,
          209238.16111076364,
          210440.75777096755,
          211722.12339733567,
          213115.00031271498,
          214589.30120707987,
          216148.64882106447,
          217786.9153793233,
          219450.61592344736,
          221120.78716617674,
          222846.51241478516,
          224553.9108762274,
          226138.3220964413,
          227556.52479829884,
          228830.87328788542,
          230093.45750203266,
          231231.97679654762,
          232111.85490024392,
          232819.0338983051,
          233392.5965976609,
          234067.68040527863,
          234760.43035837138,
          235279.50553505536,
          235814.56832822567,
          236403.69735443118,
          237299.64275439366,
          238198.85696416287,
          239073.3637500782,
          240017.15998498967,
          241127.63087122396,
          242153.49165050974,
          243231.110826193,
          244171.86221777473,
          245151.65344924637,
          246203.1156420039,
          247283.259553443,
          248335.0485959097,
          249171.1739320783,
          250101.13415473138,
          251035.23103383576,
          251971.19507161173,
          252746.30546000376,
          253699.1222090187,
          254583.31721808744,
          255566.93852023265,
          256417.08643442366,
          257371.27562699356,
          258322.64006504472,
          259415.44711989493,
          260575.57833510538,
          261750.75501907562,
          262917.1626743386,
          264012.98292576143,
          265151.43898930517,
          266332.07630245795,
          267649.61636124837,
          268964.9309525299,
          270269.8493339171,
          271575.6580148852,
          273002.09600350243,
          274474.0581649884,
          276026.4578772906,
          277563.4627556445,
          279069.69916817814,
          280643.5302395397,
          282209.8777284383,
          283667.3083369817,
          285105.0066295578,
          286473.8340734255,
          287664.35049096256,
          288479.9727312527,
          289022.9168803552,
          289512.30095690786,
          289996.43167177436,
          290409.037150541,
          290867.41384701984,
          291237.2776283695,
          291657.13140283944,
          292186.3833260366,
          293143.13071486645,
          294176.04471824376,
          294948.7173056476,
          295275.5149790481,
          295528.7854775158,
          295825.6117330665,
          296163.8363875164,
          296793.91281506035,
          297898.59053099004,
          299289.6189255113,
          300862.79579711054,
          302085.814372381,
          303084.8224404278,
          304072.295640753,
          305808.5660766777,
          308264.49534054665,
          311113.1988867346,
          314192.998624054,
          317494.8577772218,
          320892.66608293203,
          324223.147226218,
          327725.185627619,
          331465.41784977174,
          335902.33391706797
         ]
        }
       ],
       "layout": {
        "legend": {
         "bgcolor": "#F5F6F9",
         "font": {
          "color": "#4D5663"
         }
        },
        "paper_bgcolor": "#F5F6F9",
        "plot_bgcolor": "#F5F6F9",
        "template": {
         "data": {
          "bar": [
           {
            "error_x": {
             "color": "#2a3f5f"
            },
            "error_y": {
             "color": "#2a3f5f"
            },
            "marker": {
             "line": {
              "color": "#E5ECF6",
              "width": 0.5
             }
            },
            "type": "bar"
           }
          ],
          "barpolar": [
           {
            "marker": {
             "line": {
              "color": "#E5ECF6",
              "width": 0.5
             }
            },
            "type": "barpolar"
           }
          ],
          "carpet": [
           {
            "aaxis": {
             "endlinecolor": "#2a3f5f",
             "gridcolor": "white",
             "linecolor": "white",
             "minorgridcolor": "white",
             "startlinecolor": "#2a3f5f"
            },
            "baxis": {
             "endlinecolor": "#2a3f5f",
             "gridcolor": "white",
             "linecolor": "white",
             "minorgridcolor": "white",
             "startlinecolor": "#2a3f5f"
            },
            "type": "carpet"
           }
          ],
          "choropleth": [
           {
            "colorbar": {
             "outlinewidth": 0,
             "ticks": ""
            },
            "type": "choropleth"
           }
          ],
          "contour": [
           {
            "colorbar": {
             "outlinewidth": 0,
             "ticks": ""
            },
            "colorscale": [
             [
              0,
              "#0d0887"
             ],
             [
              0.1111111111111111,
              "#46039f"
             ],
             [
              0.2222222222222222,
              "#7201a8"
             ],
             [
              0.3333333333333333,
              "#9c179e"
             ],
             [
              0.4444444444444444,
              "#bd3786"
             ],
             [
              0.5555555555555556,
              "#d8576b"
             ],
             [
              0.6666666666666666,
              "#ed7953"
             ],
             [
              0.7777777777777778,
              "#fb9f3a"
             ],
             [
              0.8888888888888888,
              "#fdca26"
             ],
             [
              1,
              "#f0f921"
             ]
            ],
            "type": "contour"
           }
          ],
          "contourcarpet": [
           {
            "colorbar": {
             "outlinewidth": 0,
             "ticks": ""
            },
            "type": "contourcarpet"
           }
          ],
          "heatmap": [
           {
            "colorbar": {
             "outlinewidth": 0,
             "ticks": ""
            },
            "colorscale": [
             [
              0,
              "#0d0887"
             ],
             [
              0.1111111111111111,
              "#46039f"
             ],
             [
              0.2222222222222222,
              "#7201a8"
             ],
             [
              0.3333333333333333,
              "#9c179e"
             ],
             [
              0.4444444444444444,
              "#bd3786"
             ],
             [
              0.5555555555555556,
              "#d8576b"
             ],
             [
              0.6666666666666666,
              "#ed7953"
             ],
             [
              0.7777777777777778,
              "#fb9f3a"
             ],
             [
              0.8888888888888888,
              "#fdca26"
             ],
             [
              1,
              "#f0f921"
             ]
            ],
            "type": "heatmap"
           }
          ],
          "heatmapgl": [
           {
            "colorbar": {
             "outlinewidth": 0,
             "ticks": ""
            },
            "colorscale": [
             [
              0,
              "#0d0887"
             ],
             [
              0.1111111111111111,
              "#46039f"
             ],
             [
              0.2222222222222222,
              "#7201a8"
             ],
             [
              0.3333333333333333,
              "#9c179e"
             ],
             [
              0.4444444444444444,
              "#bd3786"
             ],
             [
              0.5555555555555556,
              "#d8576b"
             ],
             [
              0.6666666666666666,
              "#ed7953"
             ],
             [
              0.7777777777777778,
              "#fb9f3a"
             ],
             [
              0.8888888888888888,
              "#fdca26"
             ],
             [
              1,
              "#f0f921"
             ]
            ],
            "type": "heatmapgl"
           }
          ],
          "histogram": [
           {
            "marker": {
             "colorbar": {
              "outlinewidth": 0,
              "ticks": ""
             }
            },
            "type": "histogram"
           }
          ],
          "histogram2d": [
           {
            "colorbar": {
             "outlinewidth": 0,
             "ticks": ""
            },
            "colorscale": [
             [
              0,
              "#0d0887"
             ],
             [
              0.1111111111111111,
              "#46039f"
             ],
             [
              0.2222222222222222,
              "#7201a8"
             ],
             [
              0.3333333333333333,
              "#9c179e"
             ],
             [
              0.4444444444444444,
              "#bd3786"
             ],
             [
              0.5555555555555556,
              "#d8576b"
             ],
             [
              0.6666666666666666,
              "#ed7953"
             ],
             [
              0.7777777777777778,
              "#fb9f3a"
             ],
             [
              0.8888888888888888,
              "#fdca26"
             ],
             [
              1,
              "#f0f921"
             ]
            ],
            "type": "histogram2d"
           }
          ],
          "histogram2dcontour": [
           {
            "colorbar": {
             "outlinewidth": 0,
             "ticks": ""
            },
            "colorscale": [
             [
              0,
              "#0d0887"
             ],
             [
              0.1111111111111111,
              "#46039f"
             ],
             [
              0.2222222222222222,
              "#7201a8"
             ],
             [
              0.3333333333333333,
              "#9c179e"
             ],
             [
              0.4444444444444444,
              "#bd3786"
             ],
             [
              0.5555555555555556,
              "#d8576b"
             ],
             [
              0.6666666666666666,
              "#ed7953"
             ],
             [
              0.7777777777777778,
              "#fb9f3a"
             ],
             [
              0.8888888888888888,
              "#fdca26"
             ],
             [
              1,
              "#f0f921"
             ]
            ],
            "type": "histogram2dcontour"
           }
          ],
          "mesh3d": [
           {
            "colorbar": {
             "outlinewidth": 0,
             "ticks": ""
            },
            "type": "mesh3d"
           }
          ],
          "parcoords": [
           {
            "line": {
             "colorbar": {
              "outlinewidth": 0,
              "ticks": ""
             }
            },
            "type": "parcoords"
           }
          ],
          "pie": [
           {
            "automargin": true,
            "type": "pie"
           }
          ],
          "scatter": [
           {
            "marker": {
             "colorbar": {
              "outlinewidth": 0,
              "ticks": ""
             }
            },
            "type": "scatter"
           }
          ],
          "scatter3d": [
           {
            "line": {
             "colorbar": {
              "outlinewidth": 0,
              "ticks": ""
             }
            },
            "marker": {
             "colorbar": {
              "outlinewidth": 0,
              "ticks": ""
             }
            },
            "type": "scatter3d"
           }
          ],
          "scattercarpet": [
           {
            "marker": {
             "colorbar": {
              "outlinewidth": 0,
              "ticks": ""
             }
            },
            "type": "scattercarpet"
           }
          ],
          "scattergeo": [
           {
            "marker": {
             "colorbar": {
              "outlinewidth": 0,
              "ticks": ""
             }
            },
            "type": "scattergeo"
           }
          ],
          "scattergl": [
           {
            "marker": {
             "colorbar": {
              "outlinewidth": 0,
              "ticks": ""
             }
            },
            "type": "scattergl"
           }
          ],
          "scattermapbox": [
           {
            "marker": {
             "colorbar": {
              "outlinewidth": 0,
              "ticks": ""
             }
            },
            "type": "scattermapbox"
           }
          ],
          "scatterpolar": [
           {
            "marker": {
             "colorbar": {
              "outlinewidth": 0,
              "ticks": ""
             }
            },
            "type": "scatterpolar"
           }
          ],
          "scatterpolargl": [
           {
            "marker": {
             "colorbar": {
              "outlinewidth": 0,
              "ticks": ""
             }
            },
            "type": "scatterpolargl"
           }
          ],
          "scatterternary": [
           {
            "marker": {
             "colorbar": {
              "outlinewidth": 0,
              "ticks": ""
             }
            },
            "type": "scatterternary"
           }
          ],
          "surface": [
           {
            "colorbar": {
             "outlinewidth": 0,
             "ticks": ""
            },
            "colorscale": [
             [
              0,
              "#0d0887"
             ],
             [
              0.1111111111111111,
              "#46039f"
             ],
             [
              0.2222222222222222,
              "#7201a8"
             ],
             [
              0.3333333333333333,
              "#9c179e"
             ],
             [
              0.4444444444444444,
              "#bd3786"
             ],
             [
              0.5555555555555556,
              "#d8576b"
             ],
             [
              0.6666666666666666,
              "#ed7953"
             ],
             [
              0.7777777777777778,
              "#fb9f3a"
             ],
             [
              0.8888888888888888,
              "#fdca26"
             ],
             [
              1,
              "#f0f921"
             ]
            ],
            "type": "surface"
           }
          ],
          "table": [
           {
            "cells": {
             "fill": {
              "color": "#EBF0F8"
             },
             "line": {
              "color": "white"
             }
            },
            "header": {
             "fill": {
              "color": "#C8D4E3"
             },
             "line": {
              "color": "white"
             }
            },
            "type": "table"
           }
          ]
         },
         "layout": {
          "annotationdefaults": {
           "arrowcolor": "#2a3f5f",
           "arrowhead": 0,
           "arrowwidth": 1
          },
          "autotypenumbers": "strict",
          "coloraxis": {
           "colorbar": {
            "outlinewidth": 0,
            "ticks": ""
           }
          },
          "colorscale": {
           "diverging": [
            [
             0,
             "#8e0152"
            ],
            [
             0.1,
             "#c51b7d"
            ],
            [
             0.2,
             "#de77ae"
            ],
            [
             0.3,
             "#f1b6da"
            ],
            [
             0.4,
             "#fde0ef"
            ],
            [
             0.5,
             "#f7f7f7"
            ],
            [
             0.6,
             "#e6f5d0"
            ],
            [
             0.7,
             "#b8e186"
            ],
            [
             0.8,
             "#7fbc41"
            ],
            [
             0.9,
             "#4d9221"
            ],
            [
             1,
             "#276419"
            ]
           ],
           "sequential": [
            [
             0,
             "#0d0887"
            ],
            [
             0.1111111111111111,
             "#46039f"
            ],
            [
             0.2222222222222222,
             "#7201a8"
            ],
            [
             0.3333333333333333,
             "#9c179e"
            ],
            [
             0.4444444444444444,
             "#bd3786"
            ],
            [
             0.5555555555555556,
             "#d8576b"
            ],
            [
             0.6666666666666666,
             "#ed7953"
            ],
            [
             0.7777777777777778,
             "#fb9f3a"
            ],
            [
             0.8888888888888888,
             "#fdca26"
            ],
            [
             1,
             "#f0f921"
            ]
           ],
           "sequentialminus": [
            [
             0,
             "#0d0887"
            ],
            [
             0.1111111111111111,
             "#46039f"
            ],
            [
             0.2222222222222222,
             "#7201a8"
            ],
            [
             0.3333333333333333,
             "#9c179e"
            ],
            [
             0.4444444444444444,
             "#bd3786"
            ],
            [
             0.5555555555555556,
             "#d8576b"
            ],
            [
             0.6666666666666666,
             "#ed7953"
            ],
            [
             0.7777777777777778,
             "#fb9f3a"
            ],
            [
             0.8888888888888888,
             "#fdca26"
            ],
            [
             1,
             "#f0f921"
            ]
           ]
          },
          "colorway": [
           "#636efa",
           "#EF553B",
           "#00cc96",
           "#ab63fa",
           "#FFA15A",
           "#19d3f3",
           "#FF6692",
           "#B6E880",
           "#FF97FF",
           "#FECB52"
          ],
          "font": {
           "color": "#2a3f5f"
          },
          "geo": {
           "bgcolor": "white",
           "lakecolor": "white",
           "landcolor": "#E5ECF6",
           "showlakes": true,
           "showland": true,
           "subunitcolor": "white"
          },
          "hoverlabel": {
           "align": "left"
          },
          "hovermode": "closest",
          "mapbox": {
           "style": "light"
          },
          "paper_bgcolor": "white",
          "plot_bgcolor": "#E5ECF6",
          "polar": {
           "angularaxis": {
            "gridcolor": "white",
            "linecolor": "white",
            "ticks": ""
           },
           "bgcolor": "#E5ECF6",
           "radialaxis": {
            "gridcolor": "white",
            "linecolor": "white",
            "ticks": ""
           }
          },
          "scene": {
           "xaxis": {
            "backgroundcolor": "#E5ECF6",
            "gridcolor": "white",
            "gridwidth": 2,
            "linecolor": "white",
            "showbackground": true,
            "ticks": "",
            "zerolinecolor": "white"
           },
           "yaxis": {
            "backgroundcolor": "#E5ECF6",
            "gridcolor": "white",
            "gridwidth": 2,
            "linecolor": "white",
            "showbackground": true,
            "ticks": "",
            "zerolinecolor": "white"
           },
           "zaxis": {
            "backgroundcolor": "#E5ECF6",
            "gridcolor": "white",
            "gridwidth": 2,
            "linecolor": "white",
            "showbackground": true,
            "ticks": "",
            "zerolinecolor": "white"
           }
          },
          "shapedefaults": {
           "line": {
            "color": "#2a3f5f"
           }
          },
          "ternary": {
           "aaxis": {
            "gridcolor": "white",
            "linecolor": "white",
            "ticks": ""
           },
           "baxis": {
            "gridcolor": "white",
            "linecolor": "white",
            "ticks": ""
           },
           "bgcolor": "#E5ECF6",
           "caxis": {
            "gridcolor": "white",
            "linecolor": "white",
            "ticks": ""
           }
          },
          "title": {
           "x": 0.05
          },
          "xaxis": {
           "automargin": true,
           "gridcolor": "white",
           "linecolor": "white",
           "ticks": "",
           "title": {
            "standoff": 15
           },
           "zerolinecolor": "white",
           "zerolinewidth": 2
          },
          "yaxis": {
           "automargin": true,
           "gridcolor": "white",
           "linecolor": "white",
           "ticks": "",
           "title": {
            "standoff": 15
           },
           "zerolinecolor": "white",
           "zerolinewidth": 2
          }
         }
        },
        "title": {
         "font": {
          "color": "#4D5663"
         },
         "text": "The USA Single Family Home Prices 2001-2021"
        },
        "xaxis": {
         "gridcolor": "#E1E5ED",
         "showgrid": true,
         "tickfont": {
          "color": "#4D5663"
         },
         "title": {
          "font": {
           "color": "#4D5663"
          },
          "text": "Year"
         },
         "zerolinecolor": "#E1E5ED"
        },
        "yaxis": {
         "gridcolor": "#E1E5ED",
         "showgrid": true,
         "tickfont": {
          "color": "#4D5663"
         },
         "title": {
          "font": {
           "color": "#4D5663"
          },
          "text": "Sales Price"
         },
         "zerolinecolor": "#E1E5ED"
        }
       }
      },
      "text/html": [
       "<div>                            <div id=\"1a84313d-bcbf-4c44-b17f-e1071f96b3f7\" class=\"plotly-graph-div\" style=\"height:525px; width:100%;\"></div>            <script type=\"text/javascript\">                require([\"plotly\"], function(Plotly) {                    window.PLOTLYENV=window.PLOTLYENV || {};\n",
       "                    window.PLOTLYENV.BASE_URL='https://plot.ly';                                    if (document.getElementById(\"1a84313d-bcbf-4c44-b17f-e1071f96b3f7\")) {                    Plotly.newPlot(                        \"1a84313d-bcbf-4c44-b17f-e1071f96b3f7\",                        [{\"line\": {\"color\": \"rgba(255, 153, 51, 1.0)\", \"dash\": \"solid\", \"shape\": \"linear\", \"width\": 1.3}, \"mode\": \"lines\", \"name\": \"Average Price\", \"text\": \"\", \"type\": \"scatter\", \"x\": [\"2000-04-30\", \"2000-05-31\", \"2000-06-30\", \"2000-07-31\", \"2000-08-31\", \"2000-09-30\", \"2000-10-31\", \"2000-11-30\", \"2000-12-31\", \"2001-01-31\", \"2001-02-28\", \"2001-03-31\", \"2001-04-30\", \"2001-05-31\", \"2001-06-30\", \"2001-07-31\", \"2001-08-31\", \"2001-09-30\", \"2001-10-31\", \"2001-11-30\", \"2001-12-31\", \"2002-01-31\", \"2002-02-28\", \"2002-03-31\", \"2002-04-30\", \"2002-05-31\", \"2002-06-30\", \"2002-07-31\", \"2002-08-31\", \"2002-09-30\", \"2002-10-31\", \"2002-11-30\", \"2002-12-31\", \"2003-01-31\", \"2003-02-28\", \"2003-03-31\", \"2003-04-30\", \"2003-05-31\", \"2003-06-30\", \"2003-07-31\", \"2003-08-31\", \"2003-09-30\", \"2003-10-31\", \"2003-11-30\", \"2003-12-31\", \"2004-01-31\", \"2004-02-29\", \"2004-03-31\", \"2004-04-30\", \"2004-05-31\", \"2004-06-30\", \"2004-07-31\", \"2004-08-31\", \"2004-09-30\", \"2004-10-31\", \"2004-11-30\", \"2004-12-31\", \"2005-01-31\", \"2005-02-28\", \"2005-03-31\", \"2005-04-30\", \"2005-05-31\", \"2005-06-30\", \"2005-07-31\", \"2005-08-31\", \"2005-09-30\", \"2005-10-31\", \"2005-11-30\", \"2005-12-31\", \"2006-01-31\", \"2006-02-28\", \"2006-03-31\", \"2006-04-30\", \"2006-05-31\", \"2006-06-30\", \"2006-07-31\", \"2006-08-31\", \"2006-09-30\", \"2006-10-31\", \"2006-11-30\", \"2006-12-31\", \"2007-01-31\", \"2007-02-28\", \"2007-03-31\", \"2007-04-30\", \"2007-05-31\", \"2007-06-30\", \"2007-07-31\", \"2007-08-31\", \"2007-09-30\", \"2007-10-31\", \"2007-11-30\", \"2007-12-31\", \"2008-01-31\", \"2008-02-29\", \"2008-03-31\", \"2008-04-30\", \"2008-05-31\", \"2008-06-30\", \"2008-07-31\", \"2008-08-31\", \"2008-09-30\", \"2008-10-31\", \"2008-11-30\", \"2008-12-31\", \"2009-01-31\", \"2009-02-28\", \"2009-03-31\", \"2009-04-30\", \"2009-05-31\", \"2009-06-30\", \"2009-07-31\", \"2009-08-31\", \"2009-09-30\", \"2009-10-31\", \"2009-11-30\", \"2009-12-31\", \"2010-01-31\", \"2010-02-28\", \"2010-03-31\", \"2010-04-30\", \"2010-05-31\", \"2010-06-30\", \"2010-07-31\", \"2010-08-31\", \"2010-09-30\", \"2010-10-31\", \"2010-11-30\", \"2010-12-31\", \"2011-01-31\", \"2011-02-28\", \"2011-03-31\", \"2011-04-30\", \"2011-05-31\", \"2011-06-30\", \"2011-07-31\", \"2011-08-31\", \"2011-09-30\", \"2011-10-31\", \"2011-11-30\", \"2011-12-31\", \"2012-01-31\", \"2012-02-29\", \"2012-03-31\", \"2012-04-30\", \"2012-05-31\", \"2012-06-30\", \"2012-07-31\", \"2012-08-31\", \"2012-09-30\", \"2012-10-31\", \"2012-11-30\", \"2012-12-31\", \"2013-01-31\", \"2013-02-28\", \"2013-03-31\", \"2013-04-30\", \"2013-05-31\", \"2013-06-30\", \"2013-07-31\", \"2013-08-31\", \"2013-09-30\", \"2013-10-31\", \"2013-11-30\", \"2013-12-31\", \"2014-01-31\", \"2014-02-28\", \"2014-03-31\", \"2014-04-30\", \"2014-05-31\", \"2014-06-30\", \"2014-07-31\", \"2014-08-31\", \"2014-09-30\", \"2014-10-31\", \"2014-11-30\", \"2014-12-31\", \"2015-01-31\", \"2015-02-28\", \"2015-03-31\", \"2015-04-30\", \"2015-05-31\", \"2015-06-30\", \"2015-07-31\", \"2015-08-31\", \"2015-09-30\", \"2015-10-31\", \"2015-11-30\", \"2015-12-31\", \"2016-01-31\", \"2016-02-29\", \"2016-03-31\", \"2016-04-30\", \"2016-05-31\", \"2016-06-30\", \"2016-07-31\", \"2016-08-31\", \"2016-09-30\", \"2016-10-31\", \"2016-11-30\", \"2016-12-31\", \"2017-01-31\", \"2017-02-28\", \"2017-03-31\", \"2017-04-30\", \"2017-05-31\", \"2017-06-30\", \"2017-07-31\", \"2017-08-31\", \"2017-09-30\", \"2017-10-31\", \"2017-11-30\", \"2017-12-31\", \"2018-01-31\", \"2018-02-28\", \"2018-03-31\", \"2018-04-30\", \"2018-05-31\", \"2018-06-30\", \"2018-07-31\", \"2018-08-31\", \"2018-09-30\", \"2018-10-31\", \"2018-11-30\", \"2018-12-31\", \"2019-01-31\", \"2019-02-28\", \"2019-03-31\", \"2019-04-30\", \"2019-05-31\", \"2019-06-30\", \"2019-07-31\", \"2019-08-31\", \"2019-09-30\", \"2019-10-31\", \"2019-11-30\", \"2019-12-31\", \"2020-01-31\", \"2020-02-29\", \"2020-03-31\", \"2020-04-30\", \"2020-05-31\", \"2020-06-30\", \"2020-07-31\", \"2020-08-31\", \"2020-09-30\", \"2020-10-31\", \"2020-11-30\", \"2020-12-31\", \"2021-01-31\", \"2021-02-28\", \"2021-03-31\", \"2021-04-30\"], \"y\": [152603.3190318344, 153671.98386390644, 154744.46369378947, 155805.84877103008, 156941.50247044844, 158121.6849083745, 159344.88417036712, 160588.16486334355, 161879.15979736068, 163171.81731190192, 164386.5741447245, 165602.17887297517, 166776.85358684097, 167928.58371380324, 168969.14916505097, 169966.53161548564, 170959.40940646693, 171967.3488023016, 172979.09825505034, 173958.555631997, 174901.67308774783, 175820.09231346552, 176788.39789855527, 177787.39070611045, 178863.1784351742, 179975.53036462568, 181195.3518043655, 182498.62236537618, 183845.13571830632, 185185.72706235538, 186540.3589968103, 187947.97861029458, 189404.69016198636, 190831.10619801114, 192243.0627931703, 193634.67996747763, 195003.52842579273, 196337.54656326224, 197615.67540183876, 198911.26261804992, 200313.73094002125, 201826.61948839828, 203401.72337231846, 204980.00544124085, 206548.34680092565, 208294.66389392706, 210171.22615548188, 212152.92713740698, 214133.36212396022, 216281.46431921946, 218598.0928138095, 221010.36812808807, 223327.31052598663, 225666.2880105072, 227994.32278441428, 230351.71586715867, 232742.42510475952, 235127.02013884546, 237525.25417474515, 239923.34229782975, 242453.073988367, 244983.99355807118, 247527.02476702732, 250105.57695915943, 252732.3294765151, 255348.88861092, 257845.55306773406, 260115.9369566577, 262196.34573769465, 264004.2714991557, 265631.10138220026, 267105.409093752, 268439.0778034899, 269633.0620426543, 270577.50290824944, 271174.98836700234, 271497.71611733065, 271486.6450684846, 271367.2065795234, 271266.6042904497, 271215.2838201263, 271163.80461567326, 271039.6829695416, 270876.3957095503, 270607.6213646882, 270111.23903933953, 269377.05397460755, 268533.1963224717, 267707.55075364315, 266817.53611858154, 265818.83107136155, 264629.10869973106, 263216.3637500782, 261591.52411032584, 259666.8471449121, 257582.3476139846, 255357.25761461005, 253094.16842829445, 250938.5673275377, 248784.53586840953, 246624.01382200263, 244490.7958596535, 242290.01613609356, 239915.17174307336, 237439.32028269436, 235133.55256739008, 233206.89086246796, 231328.60491587967, 229399.51810619803, 227602.55606979798, 225975.38094940272, 224700.3034586278, 223524.74313590594, 222603.49321408468, 221951.30189505283, 221768.83444868348, 221787.93539308273, 221756.8808555882, 221530.26149227595, 221363.8701607355, 221404.2698730377, 221432.91769341423, 221176.75820876853, 220475.15979736068, 219670.23872662455, 218669.4703858903, 217605.39658515228, 216247.40471574207, 215028.4035899681, 213903.60404027769, 212921.2442929514, 211830.17193070234, 210629.08987428856, 209333.1594846457, 208300.8331352805, 207555.77271874415, 206932.9666645819, 206389.2142097692, 205777.67327537682, 205377.4109074989, 204904.39427106135, 204512.8966164238, 204178.1222090187, 204175.13890799924, 204399.4509350178, 204867.3148414535, 205347.5069735443, 205926.68584651948, 206576.05741447245, 207304.17962349116, 208232.17067984238, 209238.16111076364, 210440.75777096755, 211722.12339733567, 213115.00031271498, 214589.30120707987, 216148.64882106447, 217786.9153793233, 219450.61592344736, 221120.78716617674, 222846.51241478516, 224553.9108762274, 226138.3220964413, 227556.52479829884, 228830.87328788542, 230093.45750203266, 231231.97679654762, 232111.85490024392, 232819.0338983051, 233392.5965976609, 234067.68040527863, 234760.43035837138, 235279.50553505536, 235814.56832822567, 236403.69735443118, 237299.64275439366, 238198.85696416287, 239073.3637500782, 240017.15998498967, 241127.63087122396, 242153.49165050974, 243231.110826193, 244171.86221777473, 245151.65344924637, 246203.1156420039, 247283.259553443, 248335.0485959097, 249171.1739320783, 250101.13415473138, 251035.23103383576, 251971.19507161173, 252746.30546000376, 253699.1222090187, 254583.31721808744, 255566.93852023265, 256417.08643442366, 257371.27562699356, 258322.64006504472, 259415.44711989493, 260575.57833510538, 261750.75501907562, 262917.1626743386, 264012.98292576143, 265151.43898930517, 266332.07630245795, 267649.61636124837, 268964.9309525299, 270269.8493339171, 271575.6580148852, 273002.09600350243, 274474.0581649884, 276026.4578772906, 277563.4627556445, 279069.69916817814, 280643.5302395397, 282209.8777284383, 283667.3083369817, 285105.0066295578, 286473.8340734255, 287664.35049096256, 288479.9727312527, 289022.9168803552, 289512.30095690786, 289996.43167177436, 290409.037150541, 290867.41384701984, 291237.2776283695, 291657.13140283944, 292186.3833260366, 293143.13071486645, 294176.04471824376, 294948.7173056476, 295275.5149790481, 295528.7854775158, 295825.6117330665, 296163.8363875164, 296793.91281506035, 297898.59053099004, 299289.6189255113, 300862.79579711054, 302085.814372381, 303084.8224404278, 304072.295640753, 305808.5660766777, 308264.49534054665, 311113.1988867346, 314192.998624054, 317494.8577772218, 320892.66608293203, 324223.147226218, 327725.185627619, 331465.41784977174, 335902.33391706797]}],                        {\"legend\": {\"bgcolor\": \"#F5F6F9\", \"font\": {\"color\": \"#4D5663\"}}, \"paper_bgcolor\": \"#F5F6F9\", \"plot_bgcolor\": \"#F5F6F9\", \"template\": {\"data\": {\"bar\": [{\"error_x\": {\"color\": \"#2a3f5f\"}, \"error_y\": {\"color\": \"#2a3f5f\"}, \"marker\": {\"line\": {\"color\": \"#E5ECF6\", \"width\": 0.5}}, \"type\": \"bar\"}], \"barpolar\": [{\"marker\": {\"line\": {\"color\": \"#E5ECF6\", \"width\": 0.5}}, \"type\": \"barpolar\"}], \"carpet\": [{\"aaxis\": {\"endlinecolor\": \"#2a3f5f\", \"gridcolor\": \"white\", \"linecolor\": \"white\", \"minorgridcolor\": \"white\", \"startlinecolor\": \"#2a3f5f\"}, \"baxis\": {\"endlinecolor\": \"#2a3f5f\", \"gridcolor\": \"white\", \"linecolor\": \"white\", \"minorgridcolor\": \"white\", \"startlinecolor\": \"#2a3f5f\"}, \"type\": \"carpet\"}], \"choropleth\": [{\"colorbar\": {\"outlinewidth\": 0, \"ticks\": \"\"}, \"type\": \"choropleth\"}], \"contour\": [{\"colorbar\": {\"outlinewidth\": 0, \"ticks\": \"\"}, \"colorscale\": [[0.0, \"#0d0887\"], [0.1111111111111111, \"#46039f\"], [0.2222222222222222, \"#7201a8\"], [0.3333333333333333, \"#9c179e\"], [0.4444444444444444, \"#bd3786\"], [0.5555555555555556, \"#d8576b\"], [0.6666666666666666, \"#ed7953\"], [0.7777777777777778, \"#fb9f3a\"], [0.8888888888888888, \"#fdca26\"], [1.0, \"#f0f921\"]], \"type\": \"contour\"}], \"contourcarpet\": [{\"colorbar\": {\"outlinewidth\": 0, \"ticks\": \"\"}, \"type\": \"contourcarpet\"}], \"heatmap\": [{\"colorbar\": {\"outlinewidth\": 0, \"ticks\": \"\"}, \"colorscale\": [[0.0, \"#0d0887\"], [0.1111111111111111, \"#46039f\"], [0.2222222222222222, \"#7201a8\"], [0.3333333333333333, \"#9c179e\"], [0.4444444444444444, \"#bd3786\"], [0.5555555555555556, \"#d8576b\"], [0.6666666666666666, \"#ed7953\"], [0.7777777777777778, \"#fb9f3a\"], [0.8888888888888888, \"#fdca26\"], [1.0, \"#f0f921\"]], \"type\": \"heatmap\"}], \"heatmapgl\": [{\"colorbar\": {\"outlinewidth\": 0, \"ticks\": \"\"}, \"colorscale\": [[0.0, \"#0d0887\"], [0.1111111111111111, \"#46039f\"], [0.2222222222222222, \"#7201a8\"], [0.3333333333333333, \"#9c179e\"], [0.4444444444444444, \"#bd3786\"], [0.5555555555555556, \"#d8576b\"], [0.6666666666666666, \"#ed7953\"], [0.7777777777777778, \"#fb9f3a\"], [0.8888888888888888, \"#fdca26\"], [1.0, \"#f0f921\"]], \"type\": \"heatmapgl\"}], \"histogram\": [{\"marker\": {\"colorbar\": {\"outlinewidth\": 0, \"ticks\": \"\"}}, \"type\": \"histogram\"}], \"histogram2d\": [{\"colorbar\": {\"outlinewidth\": 0, \"ticks\": \"\"}, \"colorscale\": [[0.0, \"#0d0887\"], [0.1111111111111111, \"#46039f\"], [0.2222222222222222, \"#7201a8\"], [0.3333333333333333, \"#9c179e\"], [0.4444444444444444, \"#bd3786\"], [0.5555555555555556, \"#d8576b\"], [0.6666666666666666, \"#ed7953\"], [0.7777777777777778, \"#fb9f3a\"], [0.8888888888888888, \"#fdca26\"], [1.0, \"#f0f921\"]], \"type\": \"histogram2d\"}], \"histogram2dcontour\": [{\"colorbar\": {\"outlinewidth\": 0, \"ticks\": \"\"}, \"colorscale\": [[0.0, \"#0d0887\"], [0.1111111111111111, \"#46039f\"], [0.2222222222222222, \"#7201a8\"], [0.3333333333333333, \"#9c179e\"], [0.4444444444444444, \"#bd3786\"], [0.5555555555555556, \"#d8576b\"], [0.6666666666666666, \"#ed7953\"], [0.7777777777777778, \"#fb9f3a\"], [0.8888888888888888, \"#fdca26\"], [1.0, \"#f0f921\"]], \"type\": \"histogram2dcontour\"}], \"mesh3d\": [{\"colorbar\": {\"outlinewidth\": 0, \"ticks\": \"\"}, \"type\": \"mesh3d\"}], \"parcoords\": [{\"line\": {\"colorbar\": {\"outlinewidth\": 0, \"ticks\": \"\"}}, \"type\": \"parcoords\"}], \"pie\": [{\"automargin\": true, \"type\": \"pie\"}], \"scatter\": [{\"marker\": {\"colorbar\": {\"outlinewidth\": 0, \"ticks\": \"\"}}, \"type\": \"scatter\"}], \"scatter3d\": [{\"line\": {\"colorbar\": {\"outlinewidth\": 0, \"ticks\": \"\"}}, \"marker\": {\"colorbar\": {\"outlinewidth\": 0, \"ticks\": \"\"}}, \"type\": \"scatter3d\"}], \"scattercarpet\": [{\"marker\": {\"colorbar\": {\"outlinewidth\": 0, \"ticks\": \"\"}}, \"type\": \"scattercarpet\"}], \"scattergeo\": [{\"marker\": {\"colorbar\": {\"outlinewidth\": 0, \"ticks\": \"\"}}, \"type\": \"scattergeo\"}], \"scattergl\": [{\"marker\": {\"colorbar\": {\"outlinewidth\": 0, \"ticks\": \"\"}}, \"type\": \"scattergl\"}], \"scattermapbox\": [{\"marker\": {\"colorbar\": {\"outlinewidth\": 0, \"ticks\": \"\"}}, \"type\": \"scattermapbox\"}], \"scatterpolar\": [{\"marker\": {\"colorbar\": {\"outlinewidth\": 0, \"ticks\": \"\"}}, \"type\": \"scatterpolar\"}], \"scatterpolargl\": [{\"marker\": {\"colorbar\": {\"outlinewidth\": 0, \"ticks\": \"\"}}, \"type\": \"scatterpolargl\"}], \"scatterternary\": [{\"marker\": {\"colorbar\": {\"outlinewidth\": 0, \"ticks\": \"\"}}, \"type\": \"scatterternary\"}], \"surface\": [{\"colorbar\": {\"outlinewidth\": 0, \"ticks\": \"\"}, \"colorscale\": [[0.0, \"#0d0887\"], [0.1111111111111111, \"#46039f\"], [0.2222222222222222, \"#7201a8\"], [0.3333333333333333, \"#9c179e\"], [0.4444444444444444, \"#bd3786\"], [0.5555555555555556, \"#d8576b\"], [0.6666666666666666, \"#ed7953\"], [0.7777777777777778, \"#fb9f3a\"], [0.8888888888888888, \"#fdca26\"], [1.0, \"#f0f921\"]], \"type\": \"surface\"}], \"table\": [{\"cells\": {\"fill\": {\"color\": \"#EBF0F8\"}, \"line\": {\"color\": \"white\"}}, \"header\": {\"fill\": {\"color\": \"#C8D4E3\"}, \"line\": {\"color\": \"white\"}}, \"type\": \"table\"}]}, \"layout\": {\"annotationdefaults\": {\"arrowcolor\": \"#2a3f5f\", \"arrowhead\": 0, \"arrowwidth\": 1}, \"autotypenumbers\": \"strict\", \"coloraxis\": {\"colorbar\": {\"outlinewidth\": 0, \"ticks\": \"\"}}, \"colorscale\": {\"diverging\": [[0, \"#8e0152\"], [0.1, \"#c51b7d\"], [0.2, \"#de77ae\"], [0.3, \"#f1b6da\"], [0.4, \"#fde0ef\"], [0.5, \"#f7f7f7\"], [0.6, \"#e6f5d0\"], [0.7, \"#b8e186\"], [0.8, \"#7fbc41\"], [0.9, \"#4d9221\"], [1, \"#276419\"]], \"sequential\": [[0.0, \"#0d0887\"], [0.1111111111111111, \"#46039f\"], [0.2222222222222222, \"#7201a8\"], [0.3333333333333333, \"#9c179e\"], [0.4444444444444444, \"#bd3786\"], [0.5555555555555556, \"#d8576b\"], [0.6666666666666666, \"#ed7953\"], [0.7777777777777778, \"#fb9f3a\"], [0.8888888888888888, \"#fdca26\"], [1.0, \"#f0f921\"]], \"sequentialminus\": [[0.0, \"#0d0887\"], [0.1111111111111111, \"#46039f\"], [0.2222222222222222, \"#7201a8\"], [0.3333333333333333, \"#9c179e\"], [0.4444444444444444, \"#bd3786\"], [0.5555555555555556, \"#d8576b\"], [0.6666666666666666, \"#ed7953\"], [0.7777777777777778, \"#fb9f3a\"], [0.8888888888888888, \"#fdca26\"], [1.0, \"#f0f921\"]]}, \"colorway\": [\"#636efa\", \"#EF553B\", \"#00cc96\", \"#ab63fa\", \"#FFA15A\", \"#19d3f3\", \"#FF6692\", \"#B6E880\", \"#FF97FF\", \"#FECB52\"], \"font\": {\"color\": \"#2a3f5f\"}, \"geo\": {\"bgcolor\": \"white\", \"lakecolor\": \"white\", \"landcolor\": \"#E5ECF6\", \"showlakes\": true, \"showland\": true, \"subunitcolor\": \"white\"}, \"hoverlabel\": {\"align\": \"left\"}, \"hovermode\": \"closest\", \"mapbox\": {\"style\": \"light\"}, \"paper_bgcolor\": \"white\", \"plot_bgcolor\": \"#E5ECF6\", \"polar\": {\"angularaxis\": {\"gridcolor\": \"white\", \"linecolor\": \"white\", \"ticks\": \"\"}, \"bgcolor\": \"#E5ECF6\", \"radialaxis\": {\"gridcolor\": \"white\", \"linecolor\": \"white\", \"ticks\": \"\"}}, \"scene\": {\"xaxis\": {\"backgroundcolor\": \"#E5ECF6\", \"gridcolor\": \"white\", \"gridwidth\": 2, \"linecolor\": \"white\", \"showbackground\": true, \"ticks\": \"\", \"zerolinecolor\": \"white\"}, \"yaxis\": {\"backgroundcolor\": \"#E5ECF6\", \"gridcolor\": \"white\", \"gridwidth\": 2, \"linecolor\": \"white\", \"showbackground\": true, \"ticks\": \"\", \"zerolinecolor\": \"white\"}, \"zaxis\": {\"backgroundcolor\": \"#E5ECF6\", \"gridcolor\": \"white\", \"gridwidth\": 2, \"linecolor\": \"white\", \"showbackground\": true, \"ticks\": \"\", \"zerolinecolor\": \"white\"}}, \"shapedefaults\": {\"line\": {\"color\": \"#2a3f5f\"}}, \"ternary\": {\"aaxis\": {\"gridcolor\": \"white\", \"linecolor\": \"white\", \"ticks\": \"\"}, \"baxis\": {\"gridcolor\": \"white\", \"linecolor\": \"white\", \"ticks\": \"\"}, \"bgcolor\": \"#E5ECF6\", \"caxis\": {\"gridcolor\": \"white\", \"linecolor\": \"white\", \"ticks\": \"\"}}, \"title\": {\"x\": 0.05}, \"xaxis\": {\"automargin\": true, \"gridcolor\": \"white\", \"linecolor\": \"white\", \"ticks\": \"\", \"title\": {\"standoff\": 15}, \"zerolinecolor\": \"white\", \"zerolinewidth\": 2}, \"yaxis\": {\"automargin\": true, \"gridcolor\": \"white\", \"linecolor\": \"white\", \"ticks\": \"\", \"title\": {\"standoff\": 15}, \"zerolinecolor\": \"white\", \"zerolinewidth\": 2}}}, \"title\": {\"font\": {\"color\": \"#4D5663\"}, \"text\": \"The USA Single Family Home Prices 2001-2021\"}, \"xaxis\": {\"gridcolor\": \"#E1E5ED\", \"showgrid\": true, \"tickfont\": {\"color\": \"#4D5663\"}, \"title\": {\"font\": {\"color\": \"#4D5663\"}, \"text\": \"Year\"}, \"zerolinecolor\": \"#E1E5ED\"}, \"yaxis\": {\"gridcolor\": \"#E1E5ED\", \"showgrid\": true, \"tickfont\": {\"color\": \"#4D5663\"}, \"title\": {\"font\": {\"color\": \"#4D5663\"}, \"text\": \"Sales Price\"}, \"zerolinecolor\": \"#E1E5ED\"}},                        {\"showLink\": true, \"linkText\": \"Export to plot.ly\", \"plotlyServerURL\": \"https://plot.ly\", \"responsive\": true}                    ).then(function(){\n",
       "                            \n",
       "var gd = document.getElementById('1a84313d-bcbf-4c44-b17f-e1071f96b3f7');\n",
       "var x = new MutationObserver(function (mutations, observer) {{\n",
       "        var display = window.getComputedStyle(gd).display;\n",
       "        if (!display || display === 'none') {{\n",
       "            console.log([gd, 'removed!']);\n",
       "            Plotly.purge(gd);\n",
       "            observer.disconnect();\n",
       "        }}\n",
       "}});\n",
       "\n",
       "// Listen for the removal of the full notebook cells\n",
       "var notebookContainer = gd.closest('#notebook-container');\n",
       "if (notebookContainer) {{\n",
       "    x.observe(notebookContainer, {childList: true});\n",
       "}}\n",
       "\n",
       "// Listen for the clearing of the current output cell\n",
       "var outputEl = gd.closest('.output');\n",
       "if (outputEl) {{\n",
       "    x.observe(outputEl, {childList: true});\n",
       "}}\n",
       "\n",
       "                        })                };                });            </script>        </div>"
      ]
     },
     "metadata": {},
     "output_type": "display_data"
    }
   ],
   "source": [
    "usa_price.iplot(title=\"The USA Single Family Home Prices 2001-2021\",\n",
    "                    xTitle=\"Year\",\n",
    "                    yTitle=\"Sales Price\",\n",
    "                    shape=(12,1)\n",
    "                    )"
   ]
  },
  {
   "cell_type": "code",
   "execution_count": 12,
   "id": "collected-dance",
   "metadata": {},
   "outputs": [],
   "source": [
    "df_state = df.copy()"
   ]
  },
  {
   "cell_type": "code",
   "execution_count": 13,
   "id": "black-gross",
   "metadata": {},
   "outputs": [],
   "source": [
    "df_state['row_mean'] = df_usa.mean(axis=0) "
   ]
  },
  {
   "cell_type": "code",
   "execution_count": 14,
   "id": "nasty-douglas",
   "metadata": {},
   "outputs": [
    {
     "data": {
      "text/html": [
       "<div>\n",
       "<style scoped>\n",
       "    .dataframe tbody tr th:only-of-type {\n",
       "        vertical-align: middle;\n",
       "    }\n",
       "\n",
       "    .dataframe tbody tr th {\n",
       "        vertical-align: top;\n",
       "    }\n",
       "\n",
       "    .dataframe thead th {\n",
       "        text-align: right;\n",
       "    }\n",
       "</style>\n",
       "<table border=\"1\" class=\"dataframe\">\n",
       "  <thead>\n",
       "    <tr style=\"text-align: right;\">\n",
       "      <th></th>\n",
       "      <th>RegionID</th>\n",
       "      <th>SizeRank</th>\n",
       "      <th>ZipCode</th>\n",
       "      <th>RegionType</th>\n",
       "      <th>StateName</th>\n",
       "      <th>State</th>\n",
       "      <th>City</th>\n",
       "      <th>Metro</th>\n",
       "      <th>CountyName</th>\n",
       "      <th>1/31/2000</th>\n",
       "      <th>...</th>\n",
       "      <th>8/31/2020</th>\n",
       "      <th>9/30/2020</th>\n",
       "      <th>10/31/2020</th>\n",
       "      <th>11/30/2020</th>\n",
       "      <th>12/31/2020</th>\n",
       "      <th>1/31/2021</th>\n",
       "      <th>2/28/2021</th>\n",
       "      <th>3/31/2021</th>\n",
       "      <th>4/30/2021</th>\n",
       "      <th>row_mean</th>\n",
       "    </tr>\n",
       "  </thead>\n",
       "  <tbody>\n",
       "    <tr>\n",
       "      <th>0</th>\n",
       "      <td>61639</td>\n",
       "      <td>0</td>\n",
       "      <td>10025</td>\n",
       "      <td>Zip</td>\n",
       "      <td>NY</td>\n",
       "      <td>NY</td>\n",
       "      <td>New York</td>\n",
       "      <td>New York-Newark-Jersey City</td>\n",
       "      <td>New York County</td>\n",
       "      <td>327302.0</td>\n",
       "      <td>...</td>\n",
       "      <td>1059557</td>\n",
       "      <td>1067331</td>\n",
       "      <td>1068534.0</td>\n",
       "      <td>1069807</td>\n",
       "      <td>1081347</td>\n",
       "      <td>1081855</td>\n",
       "      <td>1092196.0</td>\n",
       "      <td>1104487.0</td>\n",
       "      <td>1121360.0</td>\n",
       "      <td>816090.762846</td>\n",
       "    </tr>\n",
       "    <tr>\n",
       "      <th>1</th>\n",
       "      <td>84654</td>\n",
       "      <td>1</td>\n",
       "      <td>60657</td>\n",
       "      <td>Zip</td>\n",
       "      <td>IL</td>\n",
       "      <td>IL</td>\n",
       "      <td>Chicago</td>\n",
       "      <td>Chicago-Naperville-Elgin</td>\n",
       "      <td>Cook County</td>\n",
       "      <td>314318.0</td>\n",
       "      <td>...</td>\n",
       "      <td>500922</td>\n",
       "      <td>503725</td>\n",
       "      <td>506441.0</td>\n",
       "      <td>508991</td>\n",
       "      <td>511451</td>\n",
       "      <td>513654</td>\n",
       "      <td>515983.0</td>\n",
       "      <td>517482.0</td>\n",
       "      <td>519569.0</td>\n",
       "      <td>452310.537549</td>\n",
       "    </tr>\n",
       "    <tr>\n",
       "      <th>2</th>\n",
       "      <td>61637</td>\n",
       "      <td>2</td>\n",
       "      <td>10023</td>\n",
       "      <td>Zip</td>\n",
       "      <td>NY</td>\n",
       "      <td>NY</td>\n",
       "      <td>New York</td>\n",
       "      <td>New York-Newark-Jersey City</td>\n",
       "      <td>New York County</td>\n",
       "      <td>380271.0</td>\n",
       "      <td>...</td>\n",
       "      <td>1133589</td>\n",
       "      <td>1144334</td>\n",
       "      <td>1144987.0</td>\n",
       "      <td>1140435</td>\n",
       "      <td>1130923</td>\n",
       "      <td>1121519</td>\n",
       "      <td>1120821.0</td>\n",
       "      <td>1118048.0</td>\n",
       "      <td>1120428.0</td>\n",
       "      <td>858449.786561</td>\n",
       "    </tr>\n",
       "    <tr>\n",
       "      <th>3</th>\n",
       "      <td>91982</td>\n",
       "      <td>3</td>\n",
       "      <td>77494</td>\n",
       "      <td>Zip</td>\n",
       "      <td>TX</td>\n",
       "      <td>TX</td>\n",
       "      <td>Katy</td>\n",
       "      <td>Houston-The Woodlands-Sugar Land</td>\n",
       "      <td>Harris County</td>\n",
       "      <td>223127.0</td>\n",
       "      <td>...</td>\n",
       "      <td>344710</td>\n",
       "      <td>346294</td>\n",
       "      <td>348806.0</td>\n",
       "      <td>351884</td>\n",
       "      <td>356253</td>\n",
       "      <td>360496</td>\n",
       "      <td>365462.0</td>\n",
       "      <td>370763.0</td>\n",
       "      <td>376914.0</td>\n",
       "      <td>283558.241107</td>\n",
       "    </tr>\n",
       "    <tr>\n",
       "      <th>4</th>\n",
       "      <td>84616</td>\n",
       "      <td>4</td>\n",
       "      <td>60614</td>\n",
       "      <td>Zip</td>\n",
       "      <td>IL</td>\n",
       "      <td>IL</td>\n",
       "      <td>Chicago</td>\n",
       "      <td>Chicago-Naperville-Elgin</td>\n",
       "      <td>Cook County</td>\n",
       "      <td>407203.0</td>\n",
       "      <td>...</td>\n",
       "      <td>639520</td>\n",
       "      <td>642386</td>\n",
       "      <td>645129.0</td>\n",
       "      <td>648104</td>\n",
       "      <td>650989</td>\n",
       "      <td>653530</td>\n",
       "      <td>656818.0</td>\n",
       "      <td>659416.0</td>\n",
       "      <td>662782.0</td>\n",
       "      <td>577159.992095</td>\n",
       "    </tr>\n",
       "  </tbody>\n",
       "</table>\n",
       "<p>5 rows × 266 columns</p>\n",
       "</div>"
      ],
      "text/plain": [
       "  RegionID  SizeRank ZipCode RegionType StateName State      City  \\\n",
       "0    61639         0   10025        Zip        NY    NY  New York   \n",
       "1    84654         1   60657        Zip        IL    IL   Chicago   \n",
       "2    61637         2   10023        Zip        NY    NY  New York   \n",
       "3    91982         3   77494        Zip        TX    TX      Katy   \n",
       "4    84616         4   60614        Zip        IL    IL   Chicago   \n",
       "\n",
       "                              Metro       CountyName  1/31/2000  ...  \\\n",
       "0       New York-Newark-Jersey City  New York County   327302.0  ...   \n",
       "1          Chicago-Naperville-Elgin      Cook County   314318.0  ...   \n",
       "2       New York-Newark-Jersey City  New York County   380271.0  ...   \n",
       "3  Houston-The Woodlands-Sugar Land    Harris County   223127.0  ...   \n",
       "4          Chicago-Naperville-Elgin      Cook County   407203.0  ...   \n",
       "\n",
       "   8/31/2020  9/30/2020  10/31/2020  11/30/2020  12/31/2020  1/31/2021  \\\n",
       "0    1059557    1067331   1068534.0     1069807     1081347    1081855   \n",
       "1     500922     503725    506441.0      508991      511451     513654   \n",
       "2    1133589    1144334   1144987.0     1140435     1130923    1121519   \n",
       "3     344710     346294    348806.0      351884      356253     360496   \n",
       "4     639520     642386    645129.0      648104      650989     653530   \n",
       "\n",
       "   2/28/2021  3/31/2021  4/30/2021       row_mean  \n",
       "0  1092196.0  1104487.0  1121360.0  816090.762846  \n",
       "1   515983.0   517482.0   519569.0  452310.537549  \n",
       "2  1120821.0  1118048.0  1120428.0  858449.786561  \n",
       "3   365462.0   370763.0   376914.0  283558.241107  \n",
       "4   656818.0   659416.0   662782.0  577159.992095  \n",
       "\n",
       "[5 rows x 266 columns]"
      ]
     },
     "execution_count": 14,
     "metadata": {},
     "output_type": "execute_result"
    }
   ],
   "source": [
    "df_state.head()"
   ]
  },
  {
   "cell_type": "code",
   "execution_count": 15,
   "id": "arranged-loading",
   "metadata": {},
   "outputs": [
    {
     "data": {
      "text/html": [
       "<div>\n",
       "<style scoped>\n",
       "    .dataframe tbody tr th:only-of-type {\n",
       "        vertical-align: middle;\n",
       "    }\n",
       "\n",
       "    .dataframe tbody tr th {\n",
       "        vertical-align: top;\n",
       "    }\n",
       "\n",
       "    .dataframe thead th {\n",
       "        text-align: right;\n",
       "    }\n",
       "</style>\n",
       "<table border=\"1\" class=\"dataframe\">\n",
       "  <thead>\n",
       "    <tr style=\"text-align: right;\">\n",
       "      <th></th>\n",
       "      <th>Code</th>\n",
       "      <th>State Housing Price</th>\n",
       "    </tr>\n",
       "  </thead>\n",
       "  <tbody>\n",
       "    <tr>\n",
       "      <th>0</th>\n",
       "      <td>AK</td>\n",
       "      <td>247182.18</td>\n",
       "    </tr>\n",
       "    <tr>\n",
       "      <th>1</th>\n",
       "      <td>AL</td>\n",
       "      <td>128518.45</td>\n",
       "    </tr>\n",
       "    <tr>\n",
       "      <th>2</th>\n",
       "      <td>AR</td>\n",
       "      <td>96411.08</td>\n",
       "    </tr>\n",
       "    <tr>\n",
       "      <th>3</th>\n",
       "      <td>AZ</td>\n",
       "      <td>211610.51</td>\n",
       "    </tr>\n",
       "    <tr>\n",
       "      <th>4</th>\n",
       "      <td>CA</td>\n",
       "      <td>522087.13</td>\n",
       "    </tr>\n",
       "  </tbody>\n",
       "</table>\n",
       "</div>"
      ],
      "text/plain": [
       "  Code  State Housing Price\n",
       "0   AK            247182.18\n",
       "1   AL            128518.45\n",
       "2   AR             96411.08\n",
       "3   AZ            211610.51\n",
       "4   CA            522087.13"
      ]
     },
     "execution_count": 15,
     "metadata": {},
     "output_type": "execute_result"
    }
   ],
   "source": [
    "df_state_price = df_state[['State', 'row_mean']]\n",
    "df_state_avg_price = df_state_price.groupby(['State'], as_index=False).mean()\n",
    "df_state_avg_price = df_state_avg_price.rename(columns={'State': 'Code', 'row_mean': 'State Housing Price'})\n",
    "df_state_avg_price['State Housing Price'] = df_state_avg_price['State Housing Price'].round(2)\n",
    "df_state_avg_price.head()"
   ]
  },
  {
   "cell_type": "code",
   "execution_count": 16,
   "id": "protective-arcade",
   "metadata": {},
   "outputs": [],
   "source": [
    "us_state_abbrev = {\n",
    "    'Alabama': 'AL',\n",
    "    'Alaska': 'AK',\n",
    "    'Arizona': 'AZ',\n",
    "    'Arkansas': 'AR',\n",
    "    'California': 'CA',\n",
    "    'Colorado': 'CO',\n",
    "    'Connecticut': 'CT',\n",
    "    'Delaware': 'DE',\n",
    "    'Florida': 'FL',\n",
    "    'Georgia': 'GA',\n",
    "    'Hawaii': 'HI',\n",
    "    'Idaho': 'ID',\n",
    "    'Illinois': 'IL',\n",
    "    'Indiana': 'IN',\n",
    "    'Iowa': 'IA',\n",
    "    'Kansas': 'KS',\n",
    "    'Kentucky': 'KY',\n",
    "    'Louisiana': 'LA',\n",
    "    'Maine': 'ME',\n",
    "    'Maryland': 'MD',\n",
    "    'Massachusetts': 'MA',\n",
    "    'Michigan': 'MI',\n",
    "    'Minnesota': 'MN',\n",
    "    'Mississippi': 'MS',\n",
    "    'Missouri': 'MO',\n",
    "    'Montana': 'MT',\n",
    "    'Nebraska': 'NE',\n",
    "    'Nevada': 'NV',\n",
    "    'New Hampshire': 'NH',\n",
    "    'New Jersey': 'NJ',\n",
    "    'New Mexico': 'NM',\n",
    "    'New York': 'NY',\n",
    "    'North Carolina': 'NC',\n",
    "    'North Dakota': 'ND',\n",
    "    'Ohio': 'OH',\n",
    "    'Oklahoma': 'OK',\n",
    "    'Oregon': 'OR',\n",
    "    'Pennsylvania': 'PA',\n",
    "    'Rhode Island': 'RI',\n",
    "    'South Carolina': 'SC',\n",
    "    'South Dakota': 'SD',\n",
    "    'Tennessee': 'TN',\n",
    "    'Texas': 'TX',\n",
    "    'Utah': 'UT',\n",
    "    'Vermont': 'VT',\n",
    "    'Virginia': 'VA',\n",
    "    'Washington': 'WA',\n",
    "    'West Virginia': 'WV',\n",
    "    'Wisconsin': 'WI',\n",
    "    'Wyoming': 'WY',\n",
    "}"
   ]
  },
  {
   "cell_type": "code",
   "execution_count": 17,
   "id": "reflected-reset",
   "metadata": {},
   "outputs": [
    {
     "data": {
      "text/html": [
       "<div>\n",
       "<style scoped>\n",
       "    .dataframe tbody tr th:only-of-type {\n",
       "        vertical-align: middle;\n",
       "    }\n",
       "\n",
       "    .dataframe tbody tr th {\n",
       "        vertical-align: top;\n",
       "    }\n",
       "\n",
       "    .dataframe thead th {\n",
       "        text-align: right;\n",
       "    }\n",
       "</style>\n",
       "<table border=\"1\" class=\"dataframe\">\n",
       "  <thead>\n",
       "    <tr style=\"text-align: right;\">\n",
       "      <th></th>\n",
       "      <th>Code</th>\n",
       "      <th>State Housing Price</th>\n",
       "      <th>State</th>\n",
       "      <th>Description</th>\n",
       "    </tr>\n",
       "  </thead>\n",
       "  <tbody>\n",
       "    <tr>\n",
       "      <th>0</th>\n",
       "      <td>AK</td>\n",
       "      <td>247182.18</td>\n",
       "      <td>Alaska</td>\n",
       "      <td>Alaska-247182.18</td>\n",
       "    </tr>\n",
       "    <tr>\n",
       "      <th>1</th>\n",
       "      <td>AL</td>\n",
       "      <td>128518.45</td>\n",
       "      <td>Alabama</td>\n",
       "      <td>Alabama-128518.45</td>\n",
       "    </tr>\n",
       "    <tr>\n",
       "      <th>2</th>\n",
       "      <td>AR</td>\n",
       "      <td>96411.08</td>\n",
       "      <td>Arkansas</td>\n",
       "      <td>Arkansas-96411.08</td>\n",
       "    </tr>\n",
       "    <tr>\n",
       "      <th>3</th>\n",
       "      <td>AZ</td>\n",
       "      <td>211610.51</td>\n",
       "      <td>Arizona</td>\n",
       "      <td>Arizona-211610.51</td>\n",
       "    </tr>\n",
       "    <tr>\n",
       "      <th>4</th>\n",
       "      <td>CA</td>\n",
       "      <td>522087.13</td>\n",
       "      <td>California</td>\n",
       "      <td>California-522087.13</td>\n",
       "    </tr>\n",
       "  </tbody>\n",
       "</table>\n",
       "</div>"
      ],
      "text/plain": [
       "  Code  State Housing Price       State           Description\n",
       "0   AK            247182.18      Alaska      Alaska-247182.18\n",
       "1   AL            128518.45     Alabama     Alabama-128518.45\n",
       "2   AR             96411.08    Arkansas     Arkansas-96411.08\n",
       "3   AZ            211610.51     Arizona     Arizona-211610.51\n",
       "4   CA            522087.13  California  California-522087.13"
      ]
     },
     "execution_count": 17,
     "metadata": {},
     "output_type": "execute_result"
    }
   ],
   "source": [
    "us_state_code = pd.DataFrame.from_dict(us_state_abbrev, orient='index')\n",
    "us_state_code = us_state_code.reset_index()\n",
    "us_state_code = us_state_code.rename(columns={'index': 'State', 0: 'Code'})\n",
    "df_state_avg_price = df_state_avg_price.merge(us_state_code, on='Code', how='inner')\n",
    "df_state_avg_price['Description'] = df_state_avg_price['State'].map(str) + '-' + df_state_avg_price['State Housing Price'].map(str)\n",
    "df_state_avg_price.head()"
   ]
  },
  {
   "cell_type": "code",
   "execution_count": 18,
   "id": "perfect-annotation",
   "metadata": {},
   "outputs": [
    {
     "data": {
      "application/vnd.plotly.v1+json": {
       "config": {
        "linkText": "Export to plot.ly",
        "plotlyServerURL": "https://plot.ly",
        "showLink": false
       },
       "data": [
        {
         "colorbar": {
          "title": {
           "text": "Housing Price"
          }
         },
         "colorscale": [
          [
           0,
           "rgb(0,0,255)"
          ],
          [
           0.1,
           "rgb(51,153,255)"
          ],
          [
           0.2,
           "rgb(102,204,255)"
          ],
          [
           0.3,
           "rgb(153,204,255)"
          ],
          [
           0.4,
           "rgb(204,204,255)"
          ],
          [
           0.5,
           "rgb(255,255,255)"
          ],
          [
           0.6,
           "rgb(255,204,255)"
          ],
          [
           0.7,
           "rgb(255,153,255)"
          ],
          [
           0.8,
           "rgb(255,102,204)"
          ],
          [
           0.9,
           "rgb(255,102,102)"
          ],
          [
           1,
           "rgb(255,0,0)"
          ]
         ],
         "locationmode": "USA-states",
         "locations": [
          "AK",
          "AL",
          "AR",
          "AZ",
          "CA",
          "CO",
          "CT",
          "DE",
          "FL",
          "GA",
          "HI",
          "IA",
          "ID",
          "IL",
          "IN",
          "KS",
          "KY",
          "LA",
          "MA",
          "MD",
          "ME",
          "MI",
          "MN",
          "MO",
          "MS",
          "NC",
          "NE",
          "NH",
          "NJ",
          "NM",
          "NV",
          "NY",
          "OH",
          "OK",
          "OR",
          "PA",
          "RI",
          "SC",
          "TN",
          "TX",
          "UT",
          "VA",
          "VT",
          "WA",
          "WI",
          "WV",
          "WY"
         ],
         "marker": {
          "line": {
           "color": "rgb(255, 255,255)",
           "width": 2
          }
         },
         "text": [
          "Alaska-247182.18",
          "Alabama-128518.45",
          "Arkansas-96411.08",
          "Arizona-211610.51",
          "California-522087.13",
          "Colorado-299575.23",
          "Connecticut-286300.86",
          "Delaware-284337.44",
          "Florida-208979.89",
          "Georgia-149662.72",
          "Hawaii-504896.37",
          "Iowa-134524.36",
          "Idaho-201081.43",
          "Illinois-197301.48",
          "Indiana-125895.82",
          "Kansas-175174.53",
          "Kentucky-119921.61",
          "Louisiana-156723.25",
          "Massachusetts-374286.15",
          "Maryland-304697.16",
          "Maine-218274.5",
          "Michigan-153258.18",
          "Minnesota-224534.34",
          "Missouri-156891.45",
          "Mississippi-78148.15",
          "North Carolina-166369.15",
          "Nebraska-156074.14",
          "New Hampshire-244970.3",
          "New Jersey-366680.8",
          "New Mexico-212677.43",
          "Nevada-292833.43",
          "New York-270715.63",
          "Ohio-124293.65",
          "Oklahoma-92453.05",
          "Oregon-247706.75",
          "Pennsylvania-176032.56",
          "Rhode Island-280795.58",
          "South Carolina-162483.46",
          "Tennessee-135731.94",
          "Texas-184595.83",
          "Utah-267363.03",
          "Virginia-295799.92",
          "Vermont-200816.98",
          "Washington-295564.2",
          "Wisconsin-191627.19",
          "West Virginia-85906.61",
          "Wyoming-221632.85"
         ],
         "type": "choropleth",
         "z": [
          247182.18,
          128518.45,
          96411.08,
          211610.51,
          522087.13,
          299575.23,
          286300.86,
          284337.44,
          208979.89,
          149662.72,
          504896.37,
          134524.36,
          201081.43,
          197301.48,
          125895.82,
          175174.53,
          119921.61,
          156723.25,
          374286.15,
          304697.16,
          218274.5,
          153258.18,
          224534.34,
          156891.45,
          78148.15,
          166369.15,
          156074.14,
          244970.3,
          366680.8,
          212677.43,
          292833.43,
          270715.63,
          124293.65,
          92453.05,
          247706.75,
          176032.56,
          280795.58,
          162483.46,
          135731.94,
          184595.83,
          267363.03,
          295799.92,
          200816.98,
          295564.2,
          191627.19,
          85906.61,
          221632.85
         ]
        }
       ],
       "layout": {
        "geo": {
         "lakecolor": "rgb(85,173,240)",
         "scope": "usa",
         "showlakes": true
        },
        "template": {
         "data": {
          "bar": [
           {
            "error_x": {
             "color": "#2a3f5f"
            },
            "error_y": {
             "color": "#2a3f5f"
            },
            "marker": {
             "line": {
              "color": "#E5ECF6",
              "width": 0.5
             }
            },
            "type": "bar"
           }
          ],
          "barpolar": [
           {
            "marker": {
             "line": {
              "color": "#E5ECF6",
              "width": 0.5
             }
            },
            "type": "barpolar"
           }
          ],
          "carpet": [
           {
            "aaxis": {
             "endlinecolor": "#2a3f5f",
             "gridcolor": "white",
             "linecolor": "white",
             "minorgridcolor": "white",
             "startlinecolor": "#2a3f5f"
            },
            "baxis": {
             "endlinecolor": "#2a3f5f",
             "gridcolor": "white",
             "linecolor": "white",
             "minorgridcolor": "white",
             "startlinecolor": "#2a3f5f"
            },
            "type": "carpet"
           }
          ],
          "choropleth": [
           {
            "colorbar": {
             "outlinewidth": 0,
             "ticks": ""
            },
            "type": "choropleth"
           }
          ],
          "contour": [
           {
            "colorbar": {
             "outlinewidth": 0,
             "ticks": ""
            },
            "colorscale": [
             [
              0,
              "#0d0887"
             ],
             [
              0.1111111111111111,
              "#46039f"
             ],
             [
              0.2222222222222222,
              "#7201a8"
             ],
             [
              0.3333333333333333,
              "#9c179e"
             ],
             [
              0.4444444444444444,
              "#bd3786"
             ],
             [
              0.5555555555555556,
              "#d8576b"
             ],
             [
              0.6666666666666666,
              "#ed7953"
             ],
             [
              0.7777777777777778,
              "#fb9f3a"
             ],
             [
              0.8888888888888888,
              "#fdca26"
             ],
             [
              1,
              "#f0f921"
             ]
            ],
            "type": "contour"
           }
          ],
          "contourcarpet": [
           {
            "colorbar": {
             "outlinewidth": 0,
             "ticks": ""
            },
            "type": "contourcarpet"
           }
          ],
          "heatmap": [
           {
            "colorbar": {
             "outlinewidth": 0,
             "ticks": ""
            },
            "colorscale": [
             [
              0,
              "#0d0887"
             ],
             [
              0.1111111111111111,
              "#46039f"
             ],
             [
              0.2222222222222222,
              "#7201a8"
             ],
             [
              0.3333333333333333,
              "#9c179e"
             ],
             [
              0.4444444444444444,
              "#bd3786"
             ],
             [
              0.5555555555555556,
              "#d8576b"
             ],
             [
              0.6666666666666666,
              "#ed7953"
             ],
             [
              0.7777777777777778,
              "#fb9f3a"
             ],
             [
              0.8888888888888888,
              "#fdca26"
             ],
             [
              1,
              "#f0f921"
             ]
            ],
            "type": "heatmap"
           }
          ],
          "heatmapgl": [
           {
            "colorbar": {
             "outlinewidth": 0,
             "ticks": ""
            },
            "colorscale": [
             [
              0,
              "#0d0887"
             ],
             [
              0.1111111111111111,
              "#46039f"
             ],
             [
              0.2222222222222222,
              "#7201a8"
             ],
             [
              0.3333333333333333,
              "#9c179e"
             ],
             [
              0.4444444444444444,
              "#bd3786"
             ],
             [
              0.5555555555555556,
              "#d8576b"
             ],
             [
              0.6666666666666666,
              "#ed7953"
             ],
             [
              0.7777777777777778,
              "#fb9f3a"
             ],
             [
              0.8888888888888888,
              "#fdca26"
             ],
             [
              1,
              "#f0f921"
             ]
            ],
            "type": "heatmapgl"
           }
          ],
          "histogram": [
           {
            "marker": {
             "colorbar": {
              "outlinewidth": 0,
              "ticks": ""
             }
            },
            "type": "histogram"
           }
          ],
          "histogram2d": [
           {
            "colorbar": {
             "outlinewidth": 0,
             "ticks": ""
            },
            "colorscale": [
             [
              0,
              "#0d0887"
             ],
             [
              0.1111111111111111,
              "#46039f"
             ],
             [
              0.2222222222222222,
              "#7201a8"
             ],
             [
              0.3333333333333333,
              "#9c179e"
             ],
             [
              0.4444444444444444,
              "#bd3786"
             ],
             [
              0.5555555555555556,
              "#d8576b"
             ],
             [
              0.6666666666666666,
              "#ed7953"
             ],
             [
              0.7777777777777778,
              "#fb9f3a"
             ],
             [
              0.8888888888888888,
              "#fdca26"
             ],
             [
              1,
              "#f0f921"
             ]
            ],
            "type": "histogram2d"
           }
          ],
          "histogram2dcontour": [
           {
            "colorbar": {
             "outlinewidth": 0,
             "ticks": ""
            },
            "colorscale": [
             [
              0,
              "#0d0887"
             ],
             [
              0.1111111111111111,
              "#46039f"
             ],
             [
              0.2222222222222222,
              "#7201a8"
             ],
             [
              0.3333333333333333,
              "#9c179e"
             ],
             [
              0.4444444444444444,
              "#bd3786"
             ],
             [
              0.5555555555555556,
              "#d8576b"
             ],
             [
              0.6666666666666666,
              "#ed7953"
             ],
             [
              0.7777777777777778,
              "#fb9f3a"
             ],
             [
              0.8888888888888888,
              "#fdca26"
             ],
             [
              1,
              "#f0f921"
             ]
            ],
            "type": "histogram2dcontour"
           }
          ],
          "mesh3d": [
           {
            "colorbar": {
             "outlinewidth": 0,
             "ticks": ""
            },
            "type": "mesh3d"
           }
          ],
          "parcoords": [
           {
            "line": {
             "colorbar": {
              "outlinewidth": 0,
              "ticks": ""
             }
            },
            "type": "parcoords"
           }
          ],
          "pie": [
           {
            "automargin": true,
            "type": "pie"
           }
          ],
          "scatter": [
           {
            "marker": {
             "colorbar": {
              "outlinewidth": 0,
              "ticks": ""
             }
            },
            "type": "scatter"
           }
          ],
          "scatter3d": [
           {
            "line": {
             "colorbar": {
              "outlinewidth": 0,
              "ticks": ""
             }
            },
            "marker": {
             "colorbar": {
              "outlinewidth": 0,
              "ticks": ""
             }
            },
            "type": "scatter3d"
           }
          ],
          "scattercarpet": [
           {
            "marker": {
             "colorbar": {
              "outlinewidth": 0,
              "ticks": ""
             }
            },
            "type": "scattercarpet"
           }
          ],
          "scattergeo": [
           {
            "marker": {
             "colorbar": {
              "outlinewidth": 0,
              "ticks": ""
             }
            },
            "type": "scattergeo"
           }
          ],
          "scattergl": [
           {
            "marker": {
             "colorbar": {
              "outlinewidth": 0,
              "ticks": ""
             }
            },
            "type": "scattergl"
           }
          ],
          "scattermapbox": [
           {
            "marker": {
             "colorbar": {
              "outlinewidth": 0,
              "ticks": ""
             }
            },
            "type": "scattermapbox"
           }
          ],
          "scatterpolar": [
           {
            "marker": {
             "colorbar": {
              "outlinewidth": 0,
              "ticks": ""
             }
            },
            "type": "scatterpolar"
           }
          ],
          "scatterpolargl": [
           {
            "marker": {
             "colorbar": {
              "outlinewidth": 0,
              "ticks": ""
             }
            },
            "type": "scatterpolargl"
           }
          ],
          "scatterternary": [
           {
            "marker": {
             "colorbar": {
              "outlinewidth": 0,
              "ticks": ""
             }
            },
            "type": "scatterternary"
           }
          ],
          "surface": [
           {
            "colorbar": {
             "outlinewidth": 0,
             "ticks": ""
            },
            "colorscale": [
             [
              0,
              "#0d0887"
             ],
             [
              0.1111111111111111,
              "#46039f"
             ],
             [
              0.2222222222222222,
              "#7201a8"
             ],
             [
              0.3333333333333333,
              "#9c179e"
             ],
             [
              0.4444444444444444,
              "#bd3786"
             ],
             [
              0.5555555555555556,
              "#d8576b"
             ],
             [
              0.6666666666666666,
              "#ed7953"
             ],
             [
              0.7777777777777778,
              "#fb9f3a"
             ],
             [
              0.8888888888888888,
              "#fdca26"
             ],
             [
              1,
              "#f0f921"
             ]
            ],
            "type": "surface"
           }
          ],
          "table": [
           {
            "cells": {
             "fill": {
              "color": "#EBF0F8"
             },
             "line": {
              "color": "white"
             }
            },
            "header": {
             "fill": {
              "color": "#C8D4E3"
             },
             "line": {
              "color": "white"
             }
            },
            "type": "table"
           }
          ]
         },
         "layout": {
          "annotationdefaults": {
           "arrowcolor": "#2a3f5f",
           "arrowhead": 0,
           "arrowwidth": 1
          },
          "autotypenumbers": "strict",
          "coloraxis": {
           "colorbar": {
            "outlinewidth": 0,
            "ticks": ""
           }
          },
          "colorscale": {
           "diverging": [
            [
             0,
             "#8e0152"
            ],
            [
             0.1,
             "#c51b7d"
            ],
            [
             0.2,
             "#de77ae"
            ],
            [
             0.3,
             "#f1b6da"
            ],
            [
             0.4,
             "#fde0ef"
            ],
            [
             0.5,
             "#f7f7f7"
            ],
            [
             0.6,
             "#e6f5d0"
            ],
            [
             0.7,
             "#b8e186"
            ],
            [
             0.8,
             "#7fbc41"
            ],
            [
             0.9,
             "#4d9221"
            ],
            [
             1,
             "#276419"
            ]
           ],
           "sequential": [
            [
             0,
             "#0d0887"
            ],
            [
             0.1111111111111111,
             "#46039f"
            ],
            [
             0.2222222222222222,
             "#7201a8"
            ],
            [
             0.3333333333333333,
             "#9c179e"
            ],
            [
             0.4444444444444444,
             "#bd3786"
            ],
            [
             0.5555555555555556,
             "#d8576b"
            ],
            [
             0.6666666666666666,
             "#ed7953"
            ],
            [
             0.7777777777777778,
             "#fb9f3a"
            ],
            [
             0.8888888888888888,
             "#fdca26"
            ],
            [
             1,
             "#f0f921"
            ]
           ],
           "sequentialminus": [
            [
             0,
             "#0d0887"
            ],
            [
             0.1111111111111111,
             "#46039f"
            ],
            [
             0.2222222222222222,
             "#7201a8"
            ],
            [
             0.3333333333333333,
             "#9c179e"
            ],
            [
             0.4444444444444444,
             "#bd3786"
            ],
            [
             0.5555555555555556,
             "#d8576b"
            ],
            [
             0.6666666666666666,
             "#ed7953"
            ],
            [
             0.7777777777777778,
             "#fb9f3a"
            ],
            [
             0.8888888888888888,
             "#fdca26"
            ],
            [
             1,
             "#f0f921"
            ]
           ]
          },
          "colorway": [
           "#636efa",
           "#EF553B",
           "#00cc96",
           "#ab63fa",
           "#FFA15A",
           "#19d3f3",
           "#FF6692",
           "#B6E880",
           "#FF97FF",
           "#FECB52"
          ],
          "font": {
           "color": "#2a3f5f"
          },
          "geo": {
           "bgcolor": "white",
           "lakecolor": "white",
           "landcolor": "#E5ECF6",
           "showlakes": true,
           "showland": true,
           "subunitcolor": "white"
          },
          "hoverlabel": {
           "align": "left"
          },
          "hovermode": "closest",
          "mapbox": {
           "style": "light"
          },
          "paper_bgcolor": "white",
          "plot_bgcolor": "#E5ECF6",
          "polar": {
           "angularaxis": {
            "gridcolor": "white",
            "linecolor": "white",
            "ticks": ""
           },
           "bgcolor": "#E5ECF6",
           "radialaxis": {
            "gridcolor": "white",
            "linecolor": "white",
            "ticks": ""
           }
          },
          "scene": {
           "xaxis": {
            "backgroundcolor": "#E5ECF6",
            "gridcolor": "white",
            "gridwidth": 2,
            "linecolor": "white",
            "showbackground": true,
            "ticks": "",
            "zerolinecolor": "white"
           },
           "yaxis": {
            "backgroundcolor": "#E5ECF6",
            "gridcolor": "white",
            "gridwidth": 2,
            "linecolor": "white",
            "showbackground": true,
            "ticks": "",
            "zerolinecolor": "white"
           },
           "zaxis": {
            "backgroundcolor": "#E5ECF6",
            "gridcolor": "white",
            "gridwidth": 2,
            "linecolor": "white",
            "showbackground": true,
            "ticks": "",
            "zerolinecolor": "white"
           }
          },
          "shapedefaults": {
           "line": {
            "color": "#2a3f5f"
           }
          },
          "ternary": {
           "aaxis": {
            "gridcolor": "white",
            "linecolor": "white",
            "ticks": ""
           },
           "baxis": {
            "gridcolor": "white",
            "linecolor": "white",
            "ticks": ""
           },
           "bgcolor": "#E5ECF6",
           "caxis": {
            "gridcolor": "white",
            "linecolor": "white",
            "ticks": ""
           }
          },
          "title": {
           "x": 0.05
          },
          "xaxis": {
           "automargin": true,
           "gridcolor": "white",
           "linecolor": "white",
           "ticks": "",
           "title": {
            "standoff": 15
           },
           "zerolinecolor": "white",
           "zerolinewidth": 2
          },
          "yaxis": {
           "automargin": true,
           "gridcolor": "white",
           "linecolor": "white",
           "ticks": "",
           "title": {
            "standoff": 15
           },
           "zerolinecolor": "white",
           "zerolinewidth": 2
          }
         }
        },
        "title": {
         "text": "The USA Housing Price"
        }
       }
      },
      "text/html": [
       "<div>                            <div id=\"2fbed67f-a7d4-4893-9e6a-1f25afc4f481\" class=\"plotly-graph-div\" style=\"height:525px; width:100%;\"></div>            <script type=\"text/javascript\">                require([\"plotly\"], function(Plotly) {                    window.PLOTLYENV=window.PLOTLYENV || {};                                    if (document.getElementById(\"2fbed67f-a7d4-4893-9e6a-1f25afc4f481\")) {                    Plotly.newPlot(                        \"2fbed67f-a7d4-4893-9e6a-1f25afc4f481\",                        [{\"colorbar\": {\"title\": {\"text\": \"Housing Price\"}}, \"colorscale\": [[0.0, \"rgb(0,0,255)\"], [0.1, \"rgb(51,153,255)\"], [0.2, \"rgb(102,204,255)\"], [0.3, \"rgb(153,204,255)\"], [0.4, \"rgb(204,204,255)\"], [0.5, \"rgb(255,255,255)\"], [0.6, \"rgb(255,204,255)\"], [0.7, \"rgb(255,153,255)\"], [0.8, \"rgb(255,102,204)\"], [0.9, \"rgb(255,102,102)\"], [1.0, \"rgb(255,0,0)\"]], \"locationmode\": \"USA-states\", \"locations\": [\"AK\", \"AL\", \"AR\", \"AZ\", \"CA\", \"CO\", \"CT\", \"DE\", \"FL\", \"GA\", \"HI\", \"IA\", \"ID\", \"IL\", \"IN\", \"KS\", \"KY\", \"LA\", \"MA\", \"MD\", \"ME\", \"MI\", \"MN\", \"MO\", \"MS\", \"NC\", \"NE\", \"NH\", \"NJ\", \"NM\", \"NV\", \"NY\", \"OH\", \"OK\", \"OR\", \"PA\", \"RI\", \"SC\", \"TN\", \"TX\", \"UT\", \"VA\", \"VT\", \"WA\", \"WI\", \"WV\", \"WY\"], \"marker\": {\"line\": {\"color\": \"rgb(255, 255,255)\", \"width\": 2}}, \"text\": [\"Alaska-247182.18\", \"Alabama-128518.45\", \"Arkansas-96411.08\", \"Arizona-211610.51\", \"California-522087.13\", \"Colorado-299575.23\", \"Connecticut-286300.86\", \"Delaware-284337.44\", \"Florida-208979.89\", \"Georgia-149662.72\", \"Hawaii-504896.37\", \"Iowa-134524.36\", \"Idaho-201081.43\", \"Illinois-197301.48\", \"Indiana-125895.82\", \"Kansas-175174.53\", \"Kentucky-119921.61\", \"Louisiana-156723.25\", \"Massachusetts-374286.15\", \"Maryland-304697.16\", \"Maine-218274.5\", \"Michigan-153258.18\", \"Minnesota-224534.34\", \"Missouri-156891.45\", \"Mississippi-78148.15\", \"North Carolina-166369.15\", \"Nebraska-156074.14\", \"New Hampshire-244970.3\", \"New Jersey-366680.8\", \"New Mexico-212677.43\", \"Nevada-292833.43\", \"New York-270715.63\", \"Ohio-124293.65\", \"Oklahoma-92453.05\", \"Oregon-247706.75\", \"Pennsylvania-176032.56\", \"Rhode Island-280795.58\", \"South Carolina-162483.46\", \"Tennessee-135731.94\", \"Texas-184595.83\", \"Utah-267363.03\", \"Virginia-295799.92\", \"Vermont-200816.98\", \"Washington-295564.2\", \"Wisconsin-191627.19\", \"West Virginia-85906.61\", \"Wyoming-221632.85\"], \"type\": \"choropleth\", \"z\": [247182.18, 128518.45, 96411.08, 211610.51, 522087.13, 299575.23, 286300.86, 284337.44, 208979.89, 149662.72, 504896.37, 134524.36, 201081.43, 197301.48, 125895.82, 175174.53, 119921.61, 156723.25, 374286.15, 304697.16, 218274.5, 153258.18, 224534.34, 156891.45, 78148.15, 166369.15, 156074.14, 244970.3, 366680.8, 212677.43, 292833.43, 270715.63, 124293.65, 92453.05, 247706.75, 176032.56, 280795.58, 162483.46, 135731.94, 184595.83, 267363.03, 295799.92, 200816.98, 295564.2, 191627.19, 85906.61, 221632.85]}],                        {\"geo\": {\"lakecolor\": \"rgb(85,173,240)\", \"scope\": \"usa\", \"showlakes\": true}, \"template\": {\"data\": {\"bar\": [{\"error_x\": {\"color\": \"#2a3f5f\"}, \"error_y\": {\"color\": \"#2a3f5f\"}, \"marker\": {\"line\": {\"color\": \"#E5ECF6\", \"width\": 0.5}}, \"type\": \"bar\"}], \"barpolar\": [{\"marker\": {\"line\": {\"color\": \"#E5ECF6\", \"width\": 0.5}}, \"type\": \"barpolar\"}], \"carpet\": [{\"aaxis\": {\"endlinecolor\": \"#2a3f5f\", \"gridcolor\": \"white\", \"linecolor\": \"white\", \"minorgridcolor\": \"white\", \"startlinecolor\": \"#2a3f5f\"}, \"baxis\": {\"endlinecolor\": \"#2a3f5f\", \"gridcolor\": \"white\", \"linecolor\": \"white\", \"minorgridcolor\": \"white\", \"startlinecolor\": \"#2a3f5f\"}, \"type\": \"carpet\"}], \"choropleth\": [{\"colorbar\": {\"outlinewidth\": 0, \"ticks\": \"\"}, \"type\": \"choropleth\"}], \"contour\": [{\"colorbar\": {\"outlinewidth\": 0, \"ticks\": \"\"}, \"colorscale\": [[0.0, \"#0d0887\"], [0.1111111111111111, \"#46039f\"], [0.2222222222222222, \"#7201a8\"], [0.3333333333333333, \"#9c179e\"], [0.4444444444444444, \"#bd3786\"], [0.5555555555555556, \"#d8576b\"], [0.6666666666666666, \"#ed7953\"], [0.7777777777777778, \"#fb9f3a\"], [0.8888888888888888, \"#fdca26\"], [1.0, \"#f0f921\"]], \"type\": \"contour\"}], \"contourcarpet\": [{\"colorbar\": {\"outlinewidth\": 0, \"ticks\": \"\"}, \"type\": \"contourcarpet\"}], \"heatmap\": [{\"colorbar\": {\"outlinewidth\": 0, \"ticks\": \"\"}, \"colorscale\": [[0.0, \"#0d0887\"], [0.1111111111111111, \"#46039f\"], [0.2222222222222222, \"#7201a8\"], [0.3333333333333333, \"#9c179e\"], [0.4444444444444444, \"#bd3786\"], [0.5555555555555556, \"#d8576b\"], [0.6666666666666666, \"#ed7953\"], [0.7777777777777778, \"#fb9f3a\"], [0.8888888888888888, \"#fdca26\"], [1.0, \"#f0f921\"]], \"type\": \"heatmap\"}], \"heatmapgl\": [{\"colorbar\": {\"outlinewidth\": 0, \"ticks\": \"\"}, \"colorscale\": [[0.0, \"#0d0887\"], [0.1111111111111111, \"#46039f\"], [0.2222222222222222, \"#7201a8\"], [0.3333333333333333, \"#9c179e\"], [0.4444444444444444, \"#bd3786\"], [0.5555555555555556, \"#d8576b\"], [0.6666666666666666, \"#ed7953\"], [0.7777777777777778, \"#fb9f3a\"], [0.8888888888888888, \"#fdca26\"], [1.0, \"#f0f921\"]], \"type\": \"heatmapgl\"}], \"histogram\": [{\"marker\": {\"colorbar\": {\"outlinewidth\": 0, \"ticks\": \"\"}}, \"type\": \"histogram\"}], \"histogram2d\": [{\"colorbar\": {\"outlinewidth\": 0, \"ticks\": \"\"}, \"colorscale\": [[0.0, \"#0d0887\"], [0.1111111111111111, \"#46039f\"], [0.2222222222222222, \"#7201a8\"], [0.3333333333333333, \"#9c179e\"], [0.4444444444444444, \"#bd3786\"], [0.5555555555555556, \"#d8576b\"], [0.6666666666666666, \"#ed7953\"], [0.7777777777777778, \"#fb9f3a\"], [0.8888888888888888, \"#fdca26\"], [1.0, \"#f0f921\"]], \"type\": \"histogram2d\"}], \"histogram2dcontour\": [{\"colorbar\": {\"outlinewidth\": 0, \"ticks\": \"\"}, \"colorscale\": [[0.0, \"#0d0887\"], [0.1111111111111111, \"#46039f\"], [0.2222222222222222, \"#7201a8\"], [0.3333333333333333, \"#9c179e\"], [0.4444444444444444, \"#bd3786\"], [0.5555555555555556, \"#d8576b\"], [0.6666666666666666, \"#ed7953\"], [0.7777777777777778, \"#fb9f3a\"], [0.8888888888888888, \"#fdca26\"], [1.0, \"#f0f921\"]], \"type\": \"histogram2dcontour\"}], \"mesh3d\": [{\"colorbar\": {\"outlinewidth\": 0, \"ticks\": \"\"}, \"type\": \"mesh3d\"}], \"parcoords\": [{\"line\": {\"colorbar\": {\"outlinewidth\": 0, \"ticks\": \"\"}}, \"type\": \"parcoords\"}], \"pie\": [{\"automargin\": true, \"type\": \"pie\"}], \"scatter\": [{\"marker\": {\"colorbar\": {\"outlinewidth\": 0, \"ticks\": \"\"}}, \"type\": \"scatter\"}], \"scatter3d\": [{\"line\": {\"colorbar\": {\"outlinewidth\": 0, \"ticks\": \"\"}}, \"marker\": {\"colorbar\": {\"outlinewidth\": 0, \"ticks\": \"\"}}, \"type\": \"scatter3d\"}], \"scattercarpet\": [{\"marker\": {\"colorbar\": {\"outlinewidth\": 0, \"ticks\": \"\"}}, \"type\": \"scattercarpet\"}], \"scattergeo\": [{\"marker\": {\"colorbar\": {\"outlinewidth\": 0, \"ticks\": \"\"}}, \"type\": \"scattergeo\"}], \"scattergl\": [{\"marker\": {\"colorbar\": {\"outlinewidth\": 0, \"ticks\": \"\"}}, \"type\": \"scattergl\"}], \"scattermapbox\": [{\"marker\": {\"colorbar\": {\"outlinewidth\": 0, \"ticks\": \"\"}}, \"type\": \"scattermapbox\"}], \"scatterpolar\": [{\"marker\": {\"colorbar\": {\"outlinewidth\": 0, \"ticks\": \"\"}}, \"type\": \"scatterpolar\"}], \"scatterpolargl\": [{\"marker\": {\"colorbar\": {\"outlinewidth\": 0, \"ticks\": \"\"}}, \"type\": \"scatterpolargl\"}], \"scatterternary\": [{\"marker\": {\"colorbar\": {\"outlinewidth\": 0, \"ticks\": \"\"}}, \"type\": \"scatterternary\"}], \"surface\": [{\"colorbar\": {\"outlinewidth\": 0, \"ticks\": \"\"}, \"colorscale\": [[0.0, \"#0d0887\"], [0.1111111111111111, \"#46039f\"], [0.2222222222222222, \"#7201a8\"], [0.3333333333333333, \"#9c179e\"], [0.4444444444444444, \"#bd3786\"], [0.5555555555555556, \"#d8576b\"], [0.6666666666666666, \"#ed7953\"], [0.7777777777777778, \"#fb9f3a\"], [0.8888888888888888, \"#fdca26\"], [1.0, \"#f0f921\"]], \"type\": \"surface\"}], \"table\": [{\"cells\": {\"fill\": {\"color\": \"#EBF0F8\"}, \"line\": {\"color\": \"white\"}}, \"header\": {\"fill\": {\"color\": \"#C8D4E3\"}, \"line\": {\"color\": \"white\"}}, \"type\": \"table\"}]}, \"layout\": {\"annotationdefaults\": {\"arrowcolor\": \"#2a3f5f\", \"arrowhead\": 0, \"arrowwidth\": 1}, \"autotypenumbers\": \"strict\", \"coloraxis\": {\"colorbar\": {\"outlinewidth\": 0, \"ticks\": \"\"}}, \"colorscale\": {\"diverging\": [[0, \"#8e0152\"], [0.1, \"#c51b7d\"], [0.2, \"#de77ae\"], [0.3, \"#f1b6da\"], [0.4, \"#fde0ef\"], [0.5, \"#f7f7f7\"], [0.6, \"#e6f5d0\"], [0.7, \"#b8e186\"], [0.8, \"#7fbc41\"], [0.9, \"#4d9221\"], [1, \"#276419\"]], \"sequential\": [[0.0, \"#0d0887\"], [0.1111111111111111, \"#46039f\"], [0.2222222222222222, \"#7201a8\"], [0.3333333333333333, \"#9c179e\"], [0.4444444444444444, \"#bd3786\"], [0.5555555555555556, \"#d8576b\"], [0.6666666666666666, \"#ed7953\"], [0.7777777777777778, \"#fb9f3a\"], [0.8888888888888888, \"#fdca26\"], [1.0, \"#f0f921\"]], \"sequentialminus\": [[0.0, \"#0d0887\"], [0.1111111111111111, \"#46039f\"], [0.2222222222222222, \"#7201a8\"], [0.3333333333333333, \"#9c179e\"], [0.4444444444444444, \"#bd3786\"], [0.5555555555555556, \"#d8576b\"], [0.6666666666666666, \"#ed7953\"], [0.7777777777777778, \"#fb9f3a\"], [0.8888888888888888, \"#fdca26\"], [1.0, \"#f0f921\"]]}, \"colorway\": [\"#636efa\", \"#EF553B\", \"#00cc96\", \"#ab63fa\", \"#FFA15A\", \"#19d3f3\", \"#FF6692\", \"#B6E880\", \"#FF97FF\", \"#FECB52\"], \"font\": {\"color\": \"#2a3f5f\"}, \"geo\": {\"bgcolor\": \"white\", \"lakecolor\": \"white\", \"landcolor\": \"#E5ECF6\", \"showlakes\": true, \"showland\": true, \"subunitcolor\": \"white\"}, \"hoverlabel\": {\"align\": \"left\"}, \"hovermode\": \"closest\", \"mapbox\": {\"style\": \"light\"}, \"paper_bgcolor\": \"white\", \"plot_bgcolor\": \"#E5ECF6\", \"polar\": {\"angularaxis\": {\"gridcolor\": \"white\", \"linecolor\": \"white\", \"ticks\": \"\"}, \"bgcolor\": \"#E5ECF6\", \"radialaxis\": {\"gridcolor\": \"white\", \"linecolor\": \"white\", \"ticks\": \"\"}}, \"scene\": {\"xaxis\": {\"backgroundcolor\": \"#E5ECF6\", \"gridcolor\": \"white\", \"gridwidth\": 2, \"linecolor\": \"white\", \"showbackground\": true, \"ticks\": \"\", \"zerolinecolor\": \"white\"}, \"yaxis\": {\"backgroundcolor\": \"#E5ECF6\", \"gridcolor\": \"white\", \"gridwidth\": 2, \"linecolor\": \"white\", \"showbackground\": true, \"ticks\": \"\", \"zerolinecolor\": \"white\"}, \"zaxis\": {\"backgroundcolor\": \"#E5ECF6\", \"gridcolor\": \"white\", \"gridwidth\": 2, \"linecolor\": \"white\", \"showbackground\": true, \"ticks\": \"\", \"zerolinecolor\": \"white\"}}, \"shapedefaults\": {\"line\": {\"color\": \"#2a3f5f\"}}, \"ternary\": {\"aaxis\": {\"gridcolor\": \"white\", \"linecolor\": \"white\", \"ticks\": \"\"}, \"baxis\": {\"gridcolor\": \"white\", \"linecolor\": \"white\", \"ticks\": \"\"}, \"bgcolor\": \"#E5ECF6\", \"caxis\": {\"gridcolor\": \"white\", \"linecolor\": \"white\", \"ticks\": \"\"}}, \"title\": {\"x\": 0.05}, \"xaxis\": {\"automargin\": true, \"gridcolor\": \"white\", \"linecolor\": \"white\", \"ticks\": \"\", \"title\": {\"standoff\": 15}, \"zerolinecolor\": \"white\", \"zerolinewidth\": 2}, \"yaxis\": {\"automargin\": true, \"gridcolor\": \"white\", \"linecolor\": \"white\", \"ticks\": \"\", \"title\": {\"standoff\": 15}, \"zerolinecolor\": \"white\", \"zerolinewidth\": 2}}}, \"title\": {\"text\": \"The USA Housing Price\"}},                        {\"responsive\": true}                    ).then(function(){\n",
       "                            \n",
       "var gd = document.getElementById('2fbed67f-a7d4-4893-9e6a-1f25afc4f481');\n",
       "var x = new MutationObserver(function (mutations, observer) {{\n",
       "        var display = window.getComputedStyle(gd).display;\n",
       "        if (!display || display === 'none') {{\n",
       "            console.log([gd, 'removed!']);\n",
       "            Plotly.purge(gd);\n",
       "            observer.disconnect();\n",
       "        }}\n",
       "}});\n",
       "\n",
       "// Listen for the removal of the full notebook cells\n",
       "var notebookContainer = gd.closest('#notebook-container');\n",
       "if (notebookContainer) {{\n",
       "    x.observe(notebookContainer, {childList: true});\n",
       "}}\n",
       "\n",
       "// Listen for the clearing of the current output cell\n",
       "var outputEl = gd.closest('.output');\n",
       "if (outputEl) {{\n",
       "    x.observe(outputEl, {childList: true});\n",
       "}}\n",
       "\n",
       "                        })                };                });            </script>        </div>"
      ]
     },
     "metadata": {},
     "output_type": "display_data"
    }
   ],
   "source": [
    "data = dict(type = 'choropleth', \n",
    "            colorscale = 'Picnic', \n",
    "            locations = df_state_avg_price['Code'], \n",
    "            z = df_state_avg_price['State Housing Price'], \n",
    "            locationmode = 'USA-states', \n",
    "            text = df_state_avg_price['Description'], \n",
    "            marker = dict(line = dict(color = 'rgb(255, 255,255)', width = 2)),\n",
    "            colorbar = {'title':\"Housing Price\"}\n",
    "           )\n",
    "\n",
    "layout = dict(title = 'The USA Housing Price',\n",
    "              geo = dict(scope='usa',\n",
    "                         showlakes = True,\n",
    "                         lakecolor = 'rgb(85,173,240)')\n",
    "             )\n",
    "\n",
    "choromap = go.Figure(data = [data], layout=layout)\n",
    "\n",
    "iplot(choromap)"
   ]
  },
  {
   "cell_type": "code",
   "execution_count": 17,
   "id": "diverse-destiny",
   "metadata": {},
   "outputs": [
    {
     "data": {
      "text/html": [
       "<div>\n",
       "<style scoped>\n",
       "    .dataframe tbody tr th:only-of-type {\n",
       "        vertical-align: middle;\n",
       "    }\n",
       "\n",
       "    .dataframe tbody tr th {\n",
       "        vertical-align: top;\n",
       "    }\n",
       "\n",
       "    .dataframe thead th {\n",
       "        text-align: right;\n",
       "    }\n",
       "</style>\n",
       "<table border=\"1\" class=\"dataframe\">\n",
       "  <thead>\n",
       "    <tr style=\"text-align: right;\">\n",
       "      <th></th>\n",
       "      <th>Code</th>\n",
       "      <th>2020 State Housing Price</th>\n",
       "    </tr>\n",
       "  </thead>\n",
       "  <tbody>\n",
       "    <tr>\n",
       "      <th>0</th>\n",
       "      <td>AK</td>\n",
       "      <td>300314.31</td>\n",
       "    </tr>\n",
       "    <tr>\n",
       "      <th>1</th>\n",
       "      <td>AL</td>\n",
       "      <td>156181.58</td>\n",
       "    </tr>\n",
       "    <tr>\n",
       "      <th>2</th>\n",
       "      <td>AR</td>\n",
       "      <td>120551.51</td>\n",
       "    </tr>\n",
       "    <tr>\n",
       "      <th>3</th>\n",
       "      <td>AZ</td>\n",
       "      <td>290685.23</td>\n",
       "    </tr>\n",
       "    <tr>\n",
       "      <th>4</th>\n",
       "      <td>CA</td>\n",
       "      <td>724163.66</td>\n",
       "    </tr>\n",
       "  </tbody>\n",
       "</table>\n",
       "</div>"
      ],
      "text/plain": [
       "  Code  2020 State Housing Price\n",
       "0   AK                 300314.31\n",
       "1   AL                 156181.58\n",
       "2   AR                 120551.51\n",
       "3   AZ                 290685.23\n",
       "4   CA                 724163.66"
      ]
     },
     "execution_count": 17,
     "metadata": {},
     "output_type": "execute_result"
    }
   ],
   "source": [
    "df_2018 = df.loc[:, '12/31/2019':'12/31/2020']\n",
    "df_state = pd.DataFrame(df['State'])\n",
    "df_recent = pd.concat([df_state, df_2018], axis=1)\n",
    "df_recent['row_mean'] = df_recent.mean(axis=1) \n",
    "df_state_recent_price = df_recent[['State', 'row_mean']]\n",
    "df_state_recent_avg_price = df_state_recent_price.groupby(['State'], as_index=False).mean()\n",
    "df_state_recent_avg_price = df_state_recent_avg_price.rename(columns={'State': 'Code', 'row_mean': '2020 State Housing Price'})\n",
    "df_state_recent_avg_price['2020 State Housing Price'] = df_state_recent_avg_price['2020 State Housing Price'].round(2)\n",
    "df_state_recent_avg_price.head()"
   ]
  },
  {
   "cell_type": "code",
   "execution_count": 18,
   "id": "drawn-creation",
   "metadata": {},
   "outputs": [
    {
     "data": {
      "text/html": [
       "<div>\n",
       "<style scoped>\n",
       "    .dataframe tbody tr th:only-of-type {\n",
       "        vertical-align: middle;\n",
       "    }\n",
       "\n",
       "    .dataframe tbody tr th {\n",
       "        vertical-align: top;\n",
       "    }\n",
       "\n",
       "    .dataframe thead th {\n",
       "        text-align: right;\n",
       "    }\n",
       "</style>\n",
       "<table border=\"1\" class=\"dataframe\">\n",
       "  <thead>\n",
       "    <tr style=\"text-align: right;\">\n",
       "      <th></th>\n",
       "      <th>Code</th>\n",
       "      <th>2020 State Housing Price</th>\n",
       "      <th>State</th>\n",
       "      <th>Description</th>\n",
       "    </tr>\n",
       "  </thead>\n",
       "  <tbody>\n",
       "    <tr>\n",
       "      <th>0</th>\n",
       "      <td>AK</td>\n",
       "      <td>300314.31</td>\n",
       "      <td>Alaska</td>\n",
       "      <td>Alaska-300314.31</td>\n",
       "    </tr>\n",
       "    <tr>\n",
       "      <th>1</th>\n",
       "      <td>AL</td>\n",
       "      <td>156181.58</td>\n",
       "      <td>Alabama</td>\n",
       "      <td>Alabama-156181.58</td>\n",
       "    </tr>\n",
       "    <tr>\n",
       "      <th>2</th>\n",
       "      <td>AR</td>\n",
       "      <td>120551.51</td>\n",
       "      <td>Arkansas</td>\n",
       "      <td>Arkansas-120551.51</td>\n",
       "    </tr>\n",
       "    <tr>\n",
       "      <th>3</th>\n",
       "      <td>AZ</td>\n",
       "      <td>290685.23</td>\n",
       "      <td>Arizona</td>\n",
       "      <td>Arizona-290685.23</td>\n",
       "    </tr>\n",
       "    <tr>\n",
       "      <th>4</th>\n",
       "      <td>CA</td>\n",
       "      <td>724163.66</td>\n",
       "      <td>California</td>\n",
       "      <td>California-724163.66</td>\n",
       "    </tr>\n",
       "  </tbody>\n",
       "</table>\n",
       "</div>"
      ],
      "text/plain": [
       "  Code  2020 State Housing Price       State           Description\n",
       "0   AK                 300314.31      Alaska      Alaska-300314.31\n",
       "1   AL                 156181.58     Alabama     Alabama-156181.58\n",
       "2   AR                 120551.51    Arkansas    Arkansas-120551.51\n",
       "3   AZ                 290685.23     Arizona     Arizona-290685.23\n",
       "4   CA                 724163.66  California  California-724163.66"
      ]
     },
     "execution_count": 18,
     "metadata": {},
     "output_type": "execute_result"
    }
   ],
   "source": [
    "df_state_recent_avg_price = df_state_recent_avg_price.merge(us_state_code, on='Code', how='inner')\n",
    "df_state_recent_avg_price['Description'] = df_state_recent_avg_price['State'].map(str) + '-' + df_state_recent_avg_price['2020 State Housing Price'].map(str)\n",
    "df_state_recent_avg_price.head()"
   ]
  },
  {
   "cell_type": "code",
   "execution_count": 19,
   "id": "common-broad",
   "metadata": {},
   "outputs": [
    {
     "data": {
      "application/vnd.plotly.v1+json": {
       "config": {
        "linkText": "Export to plot.ly",
        "plotlyServerURL": "https://plot.ly",
        "showLink": false
       },
       "data": [
        {
         "colorbar": {
          "title": {
           "text": "2020 Housing Price"
          }
         },
         "colorscale": [
          [
           0,
           "rgb(0,0,255)"
          ],
          [
           0.1,
           "rgb(51,153,255)"
          ],
          [
           0.2,
           "rgb(102,204,255)"
          ],
          [
           0.3,
           "rgb(153,204,255)"
          ],
          [
           0.4,
           "rgb(204,204,255)"
          ],
          [
           0.5,
           "rgb(255,255,255)"
          ],
          [
           0.6,
           "rgb(255,204,255)"
          ],
          [
           0.7,
           "rgb(255,153,255)"
          ],
          [
           0.8,
           "rgb(255,102,204)"
          ],
          [
           0.9,
           "rgb(255,102,102)"
          ],
          [
           1,
           "rgb(255,0,0)"
          ]
         ],
         "locationmode": "USA-states",
         "locations": [
          "AK",
          "AL",
          "AR",
          "AZ",
          "CA",
          "CO",
          "CT",
          "DE",
          "FL",
          "GA",
          "HI",
          "IA",
          "ID",
          "IL",
          "IN",
          "KS",
          "KY",
          "LA",
          "MA",
          "MD",
          "ME",
          "MI",
          "MN",
          "MO",
          "MS",
          "NC",
          "NE",
          "NH",
          "NJ",
          "NM",
          "NV",
          "NY",
          "OH",
          "OK",
          "OR",
          "PA",
          "RI",
          "SC",
          "TN",
          "TX",
          "UT",
          "VA",
          "VT",
          "WA",
          "WI",
          "WV",
          "WY"
         ],
         "marker": {
          "line": {
           "color": "rgb(255, 255,255)",
           "width": 2
          }
         },
         "text": [
          "Alaska-300314.31",
          "Alabama-156181.58",
          "Arkansas-120551.51",
          "Arizona-290685.23",
          "California-724163.66",
          "Colorado-443427.86",
          "Connecticut-304604.74",
          "Delaware-316179.4",
          "Florida-273123.1",
          "Georgia-196927.01",
          "Hawaii-673642.19",
          "Iowa-168070.37",
          "Idaho-332705.48",
          "Illinois-213045.26",
          "Indiana-162909.55",
          "Kansas-222502.98",
          "Kentucky-151097.05",
          "Louisiana-183931.68",
          "Massachusetts-475818.12",
          "Maryland-344272.81",
          "Maine-277735.25",
          "Michigan-196920.87",
          "Minnesota-290336.73",
          "Missouri-196554.52",
          "Mississippi-86655.06",
          "North Carolina-210194.57",
          "Nebraska-213942.15",
          "New Hampshire-307179.67",
          "New Jersey-407872.72",
          "New Mexico-251165.84",
          "Nevada-391813.79",
          "New York-334557.93",
          "Ohio-154115.44",
          "Oklahoma-117784.37",
          "Oregon-356557.54",
          "Pennsylvania-213065.34",
          "Rhode Island-343595.38",
          "South Carolina-203780.19",
          "Tennessee-189220.79",
          "Texas-259513.7",
          "Utah-407897.13",
          "Virginia-359575.4",
          "Vermont-241759.43",
          "Washington-456211.54",
          "Wisconsin-246068.55",
          "West Virginia-100444.58",
          "Wyoming-320531.49"
         ],
         "type": "choropleth",
         "z": [
          300314.31,
          156181.58,
          120551.51,
          290685.23,
          724163.66,
          443427.86,
          304604.74,
          316179.4,
          273123.1,
          196927.01,
          673642.19,
          168070.37,
          332705.48,
          213045.26,
          162909.55,
          222502.98,
          151097.05,
          183931.68,
          475818.12,
          344272.81,
          277735.25,
          196920.87,
          290336.73,
          196554.52,
          86655.06,
          210194.57,
          213942.15,
          307179.67,
          407872.72,
          251165.84,
          391813.79,
          334557.93,
          154115.44,
          117784.37,
          356557.54,
          213065.34,
          343595.38,
          203780.19,
          189220.79,
          259513.7,
          407897.13,
          359575.4,
          241759.43,
          456211.54,
          246068.55,
          100444.58,
          320531.49
         ]
        }
       ],
       "layout": {
        "geo": {
         "lakecolor": "rgb(85,173,240)",
         "scope": "usa",
         "showlakes": true
        },
        "template": {
         "data": {
          "bar": [
           {
            "error_x": {
             "color": "#2a3f5f"
            },
            "error_y": {
             "color": "#2a3f5f"
            },
            "marker": {
             "line": {
              "color": "#E5ECF6",
              "width": 0.5
             }
            },
            "type": "bar"
           }
          ],
          "barpolar": [
           {
            "marker": {
             "line": {
              "color": "#E5ECF6",
              "width": 0.5
             }
            },
            "type": "barpolar"
           }
          ],
          "carpet": [
           {
            "aaxis": {
             "endlinecolor": "#2a3f5f",
             "gridcolor": "white",
             "linecolor": "white",
             "minorgridcolor": "white",
             "startlinecolor": "#2a3f5f"
            },
            "baxis": {
             "endlinecolor": "#2a3f5f",
             "gridcolor": "white",
             "linecolor": "white",
             "minorgridcolor": "white",
             "startlinecolor": "#2a3f5f"
            },
            "type": "carpet"
           }
          ],
          "choropleth": [
           {
            "colorbar": {
             "outlinewidth": 0,
             "ticks": ""
            },
            "type": "choropleth"
           }
          ],
          "contour": [
           {
            "colorbar": {
             "outlinewidth": 0,
             "ticks": ""
            },
            "colorscale": [
             [
              0,
              "#0d0887"
             ],
             [
              0.1111111111111111,
              "#46039f"
             ],
             [
              0.2222222222222222,
              "#7201a8"
             ],
             [
              0.3333333333333333,
              "#9c179e"
             ],
             [
              0.4444444444444444,
              "#bd3786"
             ],
             [
              0.5555555555555556,
              "#d8576b"
             ],
             [
              0.6666666666666666,
              "#ed7953"
             ],
             [
              0.7777777777777778,
              "#fb9f3a"
             ],
             [
              0.8888888888888888,
              "#fdca26"
             ],
             [
              1,
              "#f0f921"
             ]
            ],
            "type": "contour"
           }
          ],
          "contourcarpet": [
           {
            "colorbar": {
             "outlinewidth": 0,
             "ticks": ""
            },
            "type": "contourcarpet"
           }
          ],
          "heatmap": [
           {
            "colorbar": {
             "outlinewidth": 0,
             "ticks": ""
            },
            "colorscale": [
             [
              0,
              "#0d0887"
             ],
             [
              0.1111111111111111,
              "#46039f"
             ],
             [
              0.2222222222222222,
              "#7201a8"
             ],
             [
              0.3333333333333333,
              "#9c179e"
             ],
             [
              0.4444444444444444,
              "#bd3786"
             ],
             [
              0.5555555555555556,
              "#d8576b"
             ],
             [
              0.6666666666666666,
              "#ed7953"
             ],
             [
              0.7777777777777778,
              "#fb9f3a"
             ],
             [
              0.8888888888888888,
              "#fdca26"
             ],
             [
              1,
              "#f0f921"
             ]
            ],
            "type": "heatmap"
           }
          ],
          "heatmapgl": [
           {
            "colorbar": {
             "outlinewidth": 0,
             "ticks": ""
            },
            "colorscale": [
             [
              0,
              "#0d0887"
             ],
             [
              0.1111111111111111,
              "#46039f"
             ],
             [
              0.2222222222222222,
              "#7201a8"
             ],
             [
              0.3333333333333333,
              "#9c179e"
             ],
             [
              0.4444444444444444,
              "#bd3786"
             ],
             [
              0.5555555555555556,
              "#d8576b"
             ],
             [
              0.6666666666666666,
              "#ed7953"
             ],
             [
              0.7777777777777778,
              "#fb9f3a"
             ],
             [
              0.8888888888888888,
              "#fdca26"
             ],
             [
              1,
              "#f0f921"
             ]
            ],
            "type": "heatmapgl"
           }
          ],
          "histogram": [
           {
            "marker": {
             "colorbar": {
              "outlinewidth": 0,
              "ticks": ""
             }
            },
            "type": "histogram"
           }
          ],
          "histogram2d": [
           {
            "colorbar": {
             "outlinewidth": 0,
             "ticks": ""
            },
            "colorscale": [
             [
              0,
              "#0d0887"
             ],
             [
              0.1111111111111111,
              "#46039f"
             ],
             [
              0.2222222222222222,
              "#7201a8"
             ],
             [
              0.3333333333333333,
              "#9c179e"
             ],
             [
              0.4444444444444444,
              "#bd3786"
             ],
             [
              0.5555555555555556,
              "#d8576b"
             ],
             [
              0.6666666666666666,
              "#ed7953"
             ],
             [
              0.7777777777777778,
              "#fb9f3a"
             ],
             [
              0.8888888888888888,
              "#fdca26"
             ],
             [
              1,
              "#f0f921"
             ]
            ],
            "type": "histogram2d"
           }
          ],
          "histogram2dcontour": [
           {
            "colorbar": {
             "outlinewidth": 0,
             "ticks": ""
            },
            "colorscale": [
             [
              0,
              "#0d0887"
             ],
             [
              0.1111111111111111,
              "#46039f"
             ],
             [
              0.2222222222222222,
              "#7201a8"
             ],
             [
              0.3333333333333333,
              "#9c179e"
             ],
             [
              0.4444444444444444,
              "#bd3786"
             ],
             [
              0.5555555555555556,
              "#d8576b"
             ],
             [
              0.6666666666666666,
              "#ed7953"
             ],
             [
              0.7777777777777778,
              "#fb9f3a"
             ],
             [
              0.8888888888888888,
              "#fdca26"
             ],
             [
              1,
              "#f0f921"
             ]
            ],
            "type": "histogram2dcontour"
           }
          ],
          "mesh3d": [
           {
            "colorbar": {
             "outlinewidth": 0,
             "ticks": ""
            },
            "type": "mesh3d"
           }
          ],
          "parcoords": [
           {
            "line": {
             "colorbar": {
              "outlinewidth": 0,
              "ticks": ""
             }
            },
            "type": "parcoords"
           }
          ],
          "pie": [
           {
            "automargin": true,
            "type": "pie"
           }
          ],
          "scatter": [
           {
            "marker": {
             "colorbar": {
              "outlinewidth": 0,
              "ticks": ""
             }
            },
            "type": "scatter"
           }
          ],
          "scatter3d": [
           {
            "line": {
             "colorbar": {
              "outlinewidth": 0,
              "ticks": ""
             }
            },
            "marker": {
             "colorbar": {
              "outlinewidth": 0,
              "ticks": ""
             }
            },
            "type": "scatter3d"
           }
          ],
          "scattercarpet": [
           {
            "marker": {
             "colorbar": {
              "outlinewidth": 0,
              "ticks": ""
             }
            },
            "type": "scattercarpet"
           }
          ],
          "scattergeo": [
           {
            "marker": {
             "colorbar": {
              "outlinewidth": 0,
              "ticks": ""
             }
            },
            "type": "scattergeo"
           }
          ],
          "scattergl": [
           {
            "marker": {
             "colorbar": {
              "outlinewidth": 0,
              "ticks": ""
             }
            },
            "type": "scattergl"
           }
          ],
          "scattermapbox": [
           {
            "marker": {
             "colorbar": {
              "outlinewidth": 0,
              "ticks": ""
             }
            },
            "type": "scattermapbox"
           }
          ],
          "scatterpolar": [
           {
            "marker": {
             "colorbar": {
              "outlinewidth": 0,
              "ticks": ""
             }
            },
            "type": "scatterpolar"
           }
          ],
          "scatterpolargl": [
           {
            "marker": {
             "colorbar": {
              "outlinewidth": 0,
              "ticks": ""
             }
            },
            "type": "scatterpolargl"
           }
          ],
          "scatterternary": [
           {
            "marker": {
             "colorbar": {
              "outlinewidth": 0,
              "ticks": ""
             }
            },
            "type": "scatterternary"
           }
          ],
          "surface": [
           {
            "colorbar": {
             "outlinewidth": 0,
             "ticks": ""
            },
            "colorscale": [
             [
              0,
              "#0d0887"
             ],
             [
              0.1111111111111111,
              "#46039f"
             ],
             [
              0.2222222222222222,
              "#7201a8"
             ],
             [
              0.3333333333333333,
              "#9c179e"
             ],
             [
              0.4444444444444444,
              "#bd3786"
             ],
             [
              0.5555555555555556,
              "#d8576b"
             ],
             [
              0.6666666666666666,
              "#ed7953"
             ],
             [
              0.7777777777777778,
              "#fb9f3a"
             ],
             [
              0.8888888888888888,
              "#fdca26"
             ],
             [
              1,
              "#f0f921"
             ]
            ],
            "type": "surface"
           }
          ],
          "table": [
           {
            "cells": {
             "fill": {
              "color": "#EBF0F8"
             },
             "line": {
              "color": "white"
             }
            },
            "header": {
             "fill": {
              "color": "#C8D4E3"
             },
             "line": {
              "color": "white"
             }
            },
            "type": "table"
           }
          ]
         },
         "layout": {
          "annotationdefaults": {
           "arrowcolor": "#2a3f5f",
           "arrowhead": 0,
           "arrowwidth": 1
          },
          "autotypenumbers": "strict",
          "coloraxis": {
           "colorbar": {
            "outlinewidth": 0,
            "ticks": ""
           }
          },
          "colorscale": {
           "diverging": [
            [
             0,
             "#8e0152"
            ],
            [
             0.1,
             "#c51b7d"
            ],
            [
             0.2,
             "#de77ae"
            ],
            [
             0.3,
             "#f1b6da"
            ],
            [
             0.4,
             "#fde0ef"
            ],
            [
             0.5,
             "#f7f7f7"
            ],
            [
             0.6,
             "#e6f5d0"
            ],
            [
             0.7,
             "#b8e186"
            ],
            [
             0.8,
             "#7fbc41"
            ],
            [
             0.9,
             "#4d9221"
            ],
            [
             1,
             "#276419"
            ]
           ],
           "sequential": [
            [
             0,
             "#0d0887"
            ],
            [
             0.1111111111111111,
             "#46039f"
            ],
            [
             0.2222222222222222,
             "#7201a8"
            ],
            [
             0.3333333333333333,
             "#9c179e"
            ],
            [
             0.4444444444444444,
             "#bd3786"
            ],
            [
             0.5555555555555556,
             "#d8576b"
            ],
            [
             0.6666666666666666,
             "#ed7953"
            ],
            [
             0.7777777777777778,
             "#fb9f3a"
            ],
            [
             0.8888888888888888,
             "#fdca26"
            ],
            [
             1,
             "#f0f921"
            ]
           ],
           "sequentialminus": [
            [
             0,
             "#0d0887"
            ],
            [
             0.1111111111111111,
             "#46039f"
            ],
            [
             0.2222222222222222,
             "#7201a8"
            ],
            [
             0.3333333333333333,
             "#9c179e"
            ],
            [
             0.4444444444444444,
             "#bd3786"
            ],
            [
             0.5555555555555556,
             "#d8576b"
            ],
            [
             0.6666666666666666,
             "#ed7953"
            ],
            [
             0.7777777777777778,
             "#fb9f3a"
            ],
            [
             0.8888888888888888,
             "#fdca26"
            ],
            [
             1,
             "#f0f921"
            ]
           ]
          },
          "colorway": [
           "#636efa",
           "#EF553B",
           "#00cc96",
           "#ab63fa",
           "#FFA15A",
           "#19d3f3",
           "#FF6692",
           "#B6E880",
           "#FF97FF",
           "#FECB52"
          ],
          "font": {
           "color": "#2a3f5f"
          },
          "geo": {
           "bgcolor": "white",
           "lakecolor": "white",
           "landcolor": "#E5ECF6",
           "showlakes": true,
           "showland": true,
           "subunitcolor": "white"
          },
          "hoverlabel": {
           "align": "left"
          },
          "hovermode": "closest",
          "mapbox": {
           "style": "light"
          },
          "paper_bgcolor": "white",
          "plot_bgcolor": "#E5ECF6",
          "polar": {
           "angularaxis": {
            "gridcolor": "white",
            "linecolor": "white",
            "ticks": ""
           },
           "bgcolor": "#E5ECF6",
           "radialaxis": {
            "gridcolor": "white",
            "linecolor": "white",
            "ticks": ""
           }
          },
          "scene": {
           "xaxis": {
            "backgroundcolor": "#E5ECF6",
            "gridcolor": "white",
            "gridwidth": 2,
            "linecolor": "white",
            "showbackground": true,
            "ticks": "",
            "zerolinecolor": "white"
           },
           "yaxis": {
            "backgroundcolor": "#E5ECF6",
            "gridcolor": "white",
            "gridwidth": 2,
            "linecolor": "white",
            "showbackground": true,
            "ticks": "",
            "zerolinecolor": "white"
           },
           "zaxis": {
            "backgroundcolor": "#E5ECF6",
            "gridcolor": "white",
            "gridwidth": 2,
            "linecolor": "white",
            "showbackground": true,
            "ticks": "",
            "zerolinecolor": "white"
           }
          },
          "shapedefaults": {
           "line": {
            "color": "#2a3f5f"
           }
          },
          "ternary": {
           "aaxis": {
            "gridcolor": "white",
            "linecolor": "white",
            "ticks": ""
           },
           "baxis": {
            "gridcolor": "white",
            "linecolor": "white",
            "ticks": ""
           },
           "bgcolor": "#E5ECF6",
           "caxis": {
            "gridcolor": "white",
            "linecolor": "white",
            "ticks": ""
           }
          },
          "title": {
           "x": 0.05
          },
          "xaxis": {
           "automargin": true,
           "gridcolor": "white",
           "linecolor": "white",
           "ticks": "",
           "title": {
            "standoff": 15
           },
           "zerolinecolor": "white",
           "zerolinewidth": 2
          },
          "yaxis": {
           "automargin": true,
           "gridcolor": "white",
           "linecolor": "white",
           "ticks": "",
           "title": {
            "standoff": 15
           },
           "zerolinecolor": "white",
           "zerolinewidth": 2
          }
         }
        },
        "title": {
         "text": "The USA 2020 Housing Price"
        }
       }
      },
      "text/html": [
       "<div>                            <div id=\"a9c9ca1c-9ec6-477e-92c9-ba19468f1bc8\" class=\"plotly-graph-div\" style=\"height:525px; width:100%;\"></div>            <script type=\"text/javascript\">                require([\"plotly\"], function(Plotly) {                    window.PLOTLYENV=window.PLOTLYENV || {};                                    if (document.getElementById(\"a9c9ca1c-9ec6-477e-92c9-ba19468f1bc8\")) {                    Plotly.newPlot(                        \"a9c9ca1c-9ec6-477e-92c9-ba19468f1bc8\",                        [{\"colorbar\": {\"title\": {\"text\": \"2020 Housing Price\"}}, \"colorscale\": [[0.0, \"rgb(0,0,255)\"], [0.1, \"rgb(51,153,255)\"], [0.2, \"rgb(102,204,255)\"], [0.3, \"rgb(153,204,255)\"], [0.4, \"rgb(204,204,255)\"], [0.5, \"rgb(255,255,255)\"], [0.6, \"rgb(255,204,255)\"], [0.7, \"rgb(255,153,255)\"], [0.8, \"rgb(255,102,204)\"], [0.9, \"rgb(255,102,102)\"], [1.0, \"rgb(255,0,0)\"]], \"locationmode\": \"USA-states\", \"locations\": [\"AK\", \"AL\", \"AR\", \"AZ\", \"CA\", \"CO\", \"CT\", \"DE\", \"FL\", \"GA\", \"HI\", \"IA\", \"ID\", \"IL\", \"IN\", \"KS\", \"KY\", \"LA\", \"MA\", \"MD\", \"ME\", \"MI\", \"MN\", \"MO\", \"MS\", \"NC\", \"NE\", \"NH\", \"NJ\", \"NM\", \"NV\", \"NY\", \"OH\", \"OK\", \"OR\", \"PA\", \"RI\", \"SC\", \"TN\", \"TX\", \"UT\", \"VA\", \"VT\", \"WA\", \"WI\", \"WV\", \"WY\"], \"marker\": {\"line\": {\"color\": \"rgb(255, 255,255)\", \"width\": 2}}, \"text\": [\"Alaska-300314.31\", \"Alabama-156181.58\", \"Arkansas-120551.51\", \"Arizona-290685.23\", \"California-724163.66\", \"Colorado-443427.86\", \"Connecticut-304604.74\", \"Delaware-316179.4\", \"Florida-273123.1\", \"Georgia-196927.01\", \"Hawaii-673642.19\", \"Iowa-168070.37\", \"Idaho-332705.48\", \"Illinois-213045.26\", \"Indiana-162909.55\", \"Kansas-222502.98\", \"Kentucky-151097.05\", \"Louisiana-183931.68\", \"Massachusetts-475818.12\", \"Maryland-344272.81\", \"Maine-277735.25\", \"Michigan-196920.87\", \"Minnesota-290336.73\", \"Missouri-196554.52\", \"Mississippi-86655.06\", \"North Carolina-210194.57\", \"Nebraska-213942.15\", \"New Hampshire-307179.67\", \"New Jersey-407872.72\", \"New Mexico-251165.84\", \"Nevada-391813.79\", \"New York-334557.93\", \"Ohio-154115.44\", \"Oklahoma-117784.37\", \"Oregon-356557.54\", \"Pennsylvania-213065.34\", \"Rhode Island-343595.38\", \"South Carolina-203780.19\", \"Tennessee-189220.79\", \"Texas-259513.7\", \"Utah-407897.13\", \"Virginia-359575.4\", \"Vermont-241759.43\", \"Washington-456211.54\", \"Wisconsin-246068.55\", \"West Virginia-100444.58\", \"Wyoming-320531.49\"], \"type\": \"choropleth\", \"z\": [300314.31, 156181.58, 120551.51, 290685.23, 724163.66, 443427.86, 304604.74, 316179.4, 273123.1, 196927.01, 673642.19, 168070.37, 332705.48, 213045.26, 162909.55, 222502.98, 151097.05, 183931.68, 475818.12, 344272.81, 277735.25, 196920.87, 290336.73, 196554.52, 86655.06, 210194.57, 213942.15, 307179.67, 407872.72, 251165.84, 391813.79, 334557.93, 154115.44, 117784.37, 356557.54, 213065.34, 343595.38, 203780.19, 189220.79, 259513.7, 407897.13, 359575.4, 241759.43, 456211.54, 246068.55, 100444.58, 320531.49]}],                        {\"geo\": {\"lakecolor\": \"rgb(85,173,240)\", \"scope\": \"usa\", \"showlakes\": true}, \"template\": {\"data\": {\"bar\": [{\"error_x\": {\"color\": \"#2a3f5f\"}, \"error_y\": {\"color\": \"#2a3f5f\"}, \"marker\": {\"line\": {\"color\": \"#E5ECF6\", \"width\": 0.5}}, \"type\": \"bar\"}], \"barpolar\": [{\"marker\": {\"line\": {\"color\": \"#E5ECF6\", \"width\": 0.5}}, \"type\": \"barpolar\"}], \"carpet\": [{\"aaxis\": {\"endlinecolor\": \"#2a3f5f\", \"gridcolor\": \"white\", \"linecolor\": \"white\", \"minorgridcolor\": \"white\", \"startlinecolor\": \"#2a3f5f\"}, \"baxis\": {\"endlinecolor\": \"#2a3f5f\", \"gridcolor\": \"white\", \"linecolor\": \"white\", \"minorgridcolor\": \"white\", \"startlinecolor\": \"#2a3f5f\"}, \"type\": \"carpet\"}], \"choropleth\": [{\"colorbar\": {\"outlinewidth\": 0, \"ticks\": \"\"}, \"type\": \"choropleth\"}], \"contour\": [{\"colorbar\": {\"outlinewidth\": 0, \"ticks\": \"\"}, \"colorscale\": [[0.0, \"#0d0887\"], [0.1111111111111111, \"#46039f\"], [0.2222222222222222, \"#7201a8\"], [0.3333333333333333, \"#9c179e\"], [0.4444444444444444, \"#bd3786\"], [0.5555555555555556, \"#d8576b\"], [0.6666666666666666, \"#ed7953\"], [0.7777777777777778, \"#fb9f3a\"], [0.8888888888888888, \"#fdca26\"], [1.0, \"#f0f921\"]], \"type\": \"contour\"}], \"contourcarpet\": [{\"colorbar\": {\"outlinewidth\": 0, \"ticks\": \"\"}, \"type\": \"contourcarpet\"}], \"heatmap\": [{\"colorbar\": {\"outlinewidth\": 0, \"ticks\": \"\"}, \"colorscale\": [[0.0, \"#0d0887\"], [0.1111111111111111, \"#46039f\"], [0.2222222222222222, \"#7201a8\"], [0.3333333333333333, \"#9c179e\"], [0.4444444444444444, \"#bd3786\"], [0.5555555555555556, \"#d8576b\"], [0.6666666666666666, \"#ed7953\"], [0.7777777777777778, \"#fb9f3a\"], [0.8888888888888888, \"#fdca26\"], [1.0, \"#f0f921\"]], \"type\": \"heatmap\"}], \"heatmapgl\": [{\"colorbar\": {\"outlinewidth\": 0, \"ticks\": \"\"}, \"colorscale\": [[0.0, \"#0d0887\"], [0.1111111111111111, \"#46039f\"], [0.2222222222222222, \"#7201a8\"], [0.3333333333333333, \"#9c179e\"], [0.4444444444444444, \"#bd3786\"], [0.5555555555555556, \"#d8576b\"], [0.6666666666666666, \"#ed7953\"], [0.7777777777777778, \"#fb9f3a\"], [0.8888888888888888, \"#fdca26\"], [1.0, \"#f0f921\"]], \"type\": \"heatmapgl\"}], \"histogram\": [{\"marker\": {\"colorbar\": {\"outlinewidth\": 0, \"ticks\": \"\"}}, \"type\": \"histogram\"}], \"histogram2d\": [{\"colorbar\": {\"outlinewidth\": 0, \"ticks\": \"\"}, \"colorscale\": [[0.0, \"#0d0887\"], [0.1111111111111111, \"#46039f\"], [0.2222222222222222, \"#7201a8\"], [0.3333333333333333, \"#9c179e\"], [0.4444444444444444, \"#bd3786\"], [0.5555555555555556, \"#d8576b\"], [0.6666666666666666, \"#ed7953\"], [0.7777777777777778, \"#fb9f3a\"], [0.8888888888888888, \"#fdca26\"], [1.0, \"#f0f921\"]], \"type\": \"histogram2d\"}], \"histogram2dcontour\": [{\"colorbar\": {\"outlinewidth\": 0, \"ticks\": \"\"}, \"colorscale\": [[0.0, \"#0d0887\"], [0.1111111111111111, \"#46039f\"], [0.2222222222222222, \"#7201a8\"], [0.3333333333333333, \"#9c179e\"], [0.4444444444444444, \"#bd3786\"], [0.5555555555555556, \"#d8576b\"], [0.6666666666666666, \"#ed7953\"], [0.7777777777777778, \"#fb9f3a\"], [0.8888888888888888, \"#fdca26\"], [1.0, \"#f0f921\"]], \"type\": \"histogram2dcontour\"}], \"mesh3d\": [{\"colorbar\": {\"outlinewidth\": 0, \"ticks\": \"\"}, \"type\": \"mesh3d\"}], \"parcoords\": [{\"line\": {\"colorbar\": {\"outlinewidth\": 0, \"ticks\": \"\"}}, \"type\": \"parcoords\"}], \"pie\": [{\"automargin\": true, \"type\": \"pie\"}], \"scatter\": [{\"marker\": {\"colorbar\": {\"outlinewidth\": 0, \"ticks\": \"\"}}, \"type\": \"scatter\"}], \"scatter3d\": [{\"line\": {\"colorbar\": {\"outlinewidth\": 0, \"ticks\": \"\"}}, \"marker\": {\"colorbar\": {\"outlinewidth\": 0, \"ticks\": \"\"}}, \"type\": \"scatter3d\"}], \"scattercarpet\": [{\"marker\": {\"colorbar\": {\"outlinewidth\": 0, \"ticks\": \"\"}}, \"type\": \"scattercarpet\"}], \"scattergeo\": [{\"marker\": {\"colorbar\": {\"outlinewidth\": 0, \"ticks\": \"\"}}, \"type\": \"scattergeo\"}], \"scattergl\": [{\"marker\": {\"colorbar\": {\"outlinewidth\": 0, \"ticks\": \"\"}}, \"type\": \"scattergl\"}], \"scattermapbox\": [{\"marker\": {\"colorbar\": {\"outlinewidth\": 0, \"ticks\": \"\"}}, \"type\": \"scattermapbox\"}], \"scatterpolar\": [{\"marker\": {\"colorbar\": {\"outlinewidth\": 0, \"ticks\": \"\"}}, \"type\": \"scatterpolar\"}], \"scatterpolargl\": [{\"marker\": {\"colorbar\": {\"outlinewidth\": 0, \"ticks\": \"\"}}, \"type\": \"scatterpolargl\"}], \"scatterternary\": [{\"marker\": {\"colorbar\": {\"outlinewidth\": 0, \"ticks\": \"\"}}, \"type\": \"scatterternary\"}], \"surface\": [{\"colorbar\": {\"outlinewidth\": 0, \"ticks\": \"\"}, \"colorscale\": [[0.0, \"#0d0887\"], [0.1111111111111111, \"#46039f\"], [0.2222222222222222, \"#7201a8\"], [0.3333333333333333, \"#9c179e\"], [0.4444444444444444, \"#bd3786\"], [0.5555555555555556, \"#d8576b\"], [0.6666666666666666, \"#ed7953\"], [0.7777777777777778, \"#fb9f3a\"], [0.8888888888888888, \"#fdca26\"], [1.0, \"#f0f921\"]], \"type\": \"surface\"}], \"table\": [{\"cells\": {\"fill\": {\"color\": \"#EBF0F8\"}, \"line\": {\"color\": \"white\"}}, \"header\": {\"fill\": {\"color\": \"#C8D4E3\"}, \"line\": {\"color\": \"white\"}}, \"type\": \"table\"}]}, \"layout\": {\"annotationdefaults\": {\"arrowcolor\": \"#2a3f5f\", \"arrowhead\": 0, \"arrowwidth\": 1}, \"autotypenumbers\": \"strict\", \"coloraxis\": {\"colorbar\": {\"outlinewidth\": 0, \"ticks\": \"\"}}, \"colorscale\": {\"diverging\": [[0, \"#8e0152\"], [0.1, \"#c51b7d\"], [0.2, \"#de77ae\"], [0.3, \"#f1b6da\"], [0.4, \"#fde0ef\"], [0.5, \"#f7f7f7\"], [0.6, \"#e6f5d0\"], [0.7, \"#b8e186\"], [0.8, \"#7fbc41\"], [0.9, \"#4d9221\"], [1, \"#276419\"]], \"sequential\": [[0.0, \"#0d0887\"], [0.1111111111111111, \"#46039f\"], [0.2222222222222222, \"#7201a8\"], [0.3333333333333333, \"#9c179e\"], [0.4444444444444444, \"#bd3786\"], [0.5555555555555556, \"#d8576b\"], [0.6666666666666666, \"#ed7953\"], [0.7777777777777778, \"#fb9f3a\"], [0.8888888888888888, \"#fdca26\"], [1.0, \"#f0f921\"]], \"sequentialminus\": [[0.0, \"#0d0887\"], [0.1111111111111111, \"#46039f\"], [0.2222222222222222, \"#7201a8\"], [0.3333333333333333, \"#9c179e\"], [0.4444444444444444, \"#bd3786\"], [0.5555555555555556, \"#d8576b\"], [0.6666666666666666, \"#ed7953\"], [0.7777777777777778, \"#fb9f3a\"], [0.8888888888888888, \"#fdca26\"], [1.0, \"#f0f921\"]]}, \"colorway\": [\"#636efa\", \"#EF553B\", \"#00cc96\", \"#ab63fa\", \"#FFA15A\", \"#19d3f3\", \"#FF6692\", \"#B6E880\", \"#FF97FF\", \"#FECB52\"], \"font\": {\"color\": \"#2a3f5f\"}, \"geo\": {\"bgcolor\": \"white\", \"lakecolor\": \"white\", \"landcolor\": \"#E5ECF6\", \"showlakes\": true, \"showland\": true, \"subunitcolor\": \"white\"}, \"hoverlabel\": {\"align\": \"left\"}, \"hovermode\": \"closest\", \"mapbox\": {\"style\": \"light\"}, \"paper_bgcolor\": \"white\", \"plot_bgcolor\": \"#E5ECF6\", \"polar\": {\"angularaxis\": {\"gridcolor\": \"white\", \"linecolor\": \"white\", \"ticks\": \"\"}, \"bgcolor\": \"#E5ECF6\", \"radialaxis\": {\"gridcolor\": \"white\", \"linecolor\": \"white\", \"ticks\": \"\"}}, \"scene\": {\"xaxis\": {\"backgroundcolor\": \"#E5ECF6\", \"gridcolor\": \"white\", \"gridwidth\": 2, \"linecolor\": \"white\", \"showbackground\": true, \"ticks\": \"\", \"zerolinecolor\": \"white\"}, \"yaxis\": {\"backgroundcolor\": \"#E5ECF6\", \"gridcolor\": \"white\", \"gridwidth\": 2, \"linecolor\": \"white\", \"showbackground\": true, \"ticks\": \"\", \"zerolinecolor\": \"white\"}, \"zaxis\": {\"backgroundcolor\": \"#E5ECF6\", \"gridcolor\": \"white\", \"gridwidth\": 2, \"linecolor\": \"white\", \"showbackground\": true, \"ticks\": \"\", \"zerolinecolor\": \"white\"}}, \"shapedefaults\": {\"line\": {\"color\": \"#2a3f5f\"}}, \"ternary\": {\"aaxis\": {\"gridcolor\": \"white\", \"linecolor\": \"white\", \"ticks\": \"\"}, \"baxis\": {\"gridcolor\": \"white\", \"linecolor\": \"white\", \"ticks\": \"\"}, \"bgcolor\": \"#E5ECF6\", \"caxis\": {\"gridcolor\": \"white\", \"linecolor\": \"white\", \"ticks\": \"\"}}, \"title\": {\"x\": 0.05}, \"xaxis\": {\"automargin\": true, \"gridcolor\": \"white\", \"linecolor\": \"white\", \"ticks\": \"\", \"title\": {\"standoff\": 15}, \"zerolinecolor\": \"white\", \"zerolinewidth\": 2}, \"yaxis\": {\"automargin\": true, \"gridcolor\": \"white\", \"linecolor\": \"white\", \"ticks\": \"\", \"title\": {\"standoff\": 15}, \"zerolinecolor\": \"white\", \"zerolinewidth\": 2}}}, \"title\": {\"text\": \"The USA 2020 Housing Price\"}},                        {\"responsive\": true}                    ).then(function(){\n",
       "                            \n",
       "var gd = document.getElementById('a9c9ca1c-9ec6-477e-92c9-ba19468f1bc8');\n",
       "var x = new MutationObserver(function (mutations, observer) {{\n",
       "        var display = window.getComputedStyle(gd).display;\n",
       "        if (!display || display === 'none') {{\n",
       "            console.log([gd, 'removed!']);\n",
       "            Plotly.purge(gd);\n",
       "            observer.disconnect();\n",
       "        }}\n",
       "}});\n",
       "\n",
       "// Listen for the removal of the full notebook cells\n",
       "var notebookContainer = gd.closest('#notebook-container');\n",
       "if (notebookContainer) {{\n",
       "    x.observe(notebookContainer, {childList: true});\n",
       "}}\n",
       "\n",
       "// Listen for the clearing of the current output cell\n",
       "var outputEl = gd.closest('.output');\n",
       "if (outputEl) {{\n",
       "    x.observe(outputEl, {childList: true});\n",
       "}}\n",
       "\n",
       "                        })                };                });            </script>        </div>"
      ]
     },
     "metadata": {},
     "output_type": "display_data"
    }
   ],
   "source": [
    "data = dict(type = 'choropleth', \n",
    "            colorscale = 'Picnic', \n",
    "            locations = df_state_recent_avg_price['Code'], \n",
    "            z = df_state_recent_avg_price['2020 State Housing Price'], \n",
    "            locationmode = 'USA-states', \n",
    "            text = df_state_recent_avg_price['Description'], \n",
    "            marker = dict(line = dict(color = 'rgb(255, 255,255)', width = 2)),\n",
    "            colorbar = {'title':\"2020 Housing Price\"}\n",
    "           )\n",
    "\n",
    "layout = dict(title = 'The USA 2020 Housing Price',\n",
    "              geo = dict(scope='usa',\n",
    "                         showlakes = True,\n",
    "                         lakecolor = 'rgb(85,173,240)')\n",
    "             )\n",
    "\n",
    "choromap = go.Figure(data = [data], layout=layout)\n",
    "\n",
    "iplot(choromap)"
   ]
  },
  {
   "cell_type": "code",
   "execution_count": null,
   "id": "sought-mileage",
   "metadata": {},
   "outputs": [],
   "source": [
    "df_price = df.loc[:, '4/30/2000':'4/30/2021']\n",
    "df_state = pd.DataFrame(df['State'])\n",
    "df_state_price = pd.concat([df_state, df_price], axis=1)\n",
    "df_state_price = df_state_price.rename(columns={'State':'Code'})\n",
    "df_state_price.head()"
   ]
  },
  {
   "cell_type": "code",
   "execution_count": null,
   "id": "directed-consumer",
   "metadata": {},
   "outputs": [],
   "source": [
    "df_state_price = df_state_price.merge(us_state_code, on='Code', how='inner')\n",
    "df_state_price.head()"
   ]
  },
  {
   "cell_type": "code",
   "execution_count": null,
   "id": "correct-gateway",
   "metadata": {},
   "outputs": [],
   "source": [
    "df_state_price_trend = df_state_price.groupby(['State']).mean()\n",
    "df_state_price_trend = df_state_price_trend.transpose()\n",
    "df_state_price_trend.head()"
   ]
  },
  {
   "cell_type": "code",
   "execution_count": null,
   "id": "complicated-consumption",
   "metadata": {},
   "outputs": [],
   "source": [
    "df_state_price_trend.iplot(title=\"The States' Single Family Home Prices 2001-2021\",\n",
    "                    xTitle=\"Year\",\n",
    "                    yTitle=\"Sales Price\",\n",
    "                    shape=(12,1)\n",
    "                    )"
   ]
  },
  {
   "cell_type": "code",
   "execution_count": null,
   "id": "illegal-steam",
   "metadata": {},
   "outputs": [],
   "source": []
  },
  {
   "cell_type": "code",
   "execution_count": null,
   "id": "broke-promotion",
   "metadata": {},
   "outputs": [],
   "source": [
    "#def main():\n",
    "    #print('Please input the state name you want to show')\n",
    "    #state_name = input()\n",
    "state_name = 'Georgia'\n",
    "one_state_price_trend = pd.DataFrame(df_state_price_trend[state_name])\n",
    "state_usa_price_trend = pd.concat([one_state_price_trend, usa_price], axis=1) # usa_price is the above one\n",
    "state_usa_price_trend = state_usa_price_trend.rename(columns={'Average Price': 'USA Average Price'})\n",
    "\n",
    "state_usa_price_trend.iplot(title=f\"The {state_name} Single Family Home Prices 2001-2021\",\n",
    "                    xTitle=\"Year\",\n",
    "                    yTitle=\"Sales Price\",\n",
    "                    shape=(12,1)\n",
    "                    )\n",
    "#if __name__ == \"__main__\":\n",
    "    #main()"
   ]
  },
  {
   "cell_type": "code",
   "execution_count": null,
   "id": "central-horizon",
   "metadata": {},
   "outputs": [],
   "source": [
    "#def main():\n",
    "#print('Please input the city name you want to show')\n",
    "    #city_name = input()\n",
    "city_name = 'Atlanta'\n",
    "df_price = df.loc[:, '4/30/2001':'4/30/2021']\n",
    "df_city = pd.DataFrame(df['City'])\n",
    "df_city_price = pd.concat([df_city, df_price], axis=1)\n",
    "df_city_avg_price = df_city_price.groupby(['City']).mean()\n",
    "df_city_avg_price = df_city_avg_price.transpose()\n",
    "one_city_price_trend = pd.DataFrame(df_city_avg_price[city_name])\n",
    "city_usa_price_trend = pd.concat([one_city_price_trend, usa_price], axis=1) # usa_price is the above one\n",
    "city_usa_price_trend = city_usa_price_trend.rename(columns={'Average Price': 'USA Average Price'})\n",
    "    \n",
    "city_usa_price_trend.iplot(title=f\"The {city_name} Single Family Home Prices 2001-2021\",\n",
    "                    xTitle=\"Year\",\n",
    "                    yTitle=\"Sales Price\",\n",
    "                    shape=(12,1)\n",
    "                    )\n",
    "#if __name__ == \"__main__\":\n",
    "    #main()"
   ]
  },
  {
   "cell_type": "code",
   "execution_count": null,
   "id": "tamil-diameter",
   "metadata": {},
   "outputs": [],
   "source": [
    "usa_price_trend = usa_price.copy()\n",
    "usa_price_trend = usa_price_trend.round(2)\n",
    "usa_price_trend.head()"
   ]
  },
  {
   "cell_type": "code",
   "execution_count": null,
   "id": "likely-disaster",
   "metadata": {},
   "outputs": [],
   "source": [
    "rolmean = usa_price_trend.rolling(12).mean()\n",
    "rolstd = usa_price_trend.rolling(12).std()\n",
    "\n",
    "#Plot rolling statistics:\n",
    "fig = plt.figure(figsize=(12, 6))\n",
    "orig = plt.plot(usa_price_trend, color='blue',label='Original')\n",
    "mean = plt.plot(rolmean, color='red', label='Rolling Mean')\n",
    "std = plt.plot(rolstd, color='black', label = 'Rolling Std')\n",
    "plt.legend(loc='best')\n",
    "plt.title('Rolling Mean & Standard Deviation')\n",
    "plt.show(block=False)"
   ]
  },
  {
   "cell_type": "code",
   "execution_count": null,
   "id": "disturbed-passport",
   "metadata": {},
   "outputs": [],
   "source": [
    "usa_decomposition = sm.tsa.seasonal_decompose(usa_price_trend, model='additive')\n",
    "rcParams['figure.figsize'] = 18, 8\n",
    "fig = usa_decomposition.plot()"
   ]
  },
  {
   "cell_type": "code",
   "execution_count": null,
   "id": "ruled-formation",
   "metadata": {},
   "outputs": [],
   "source": [
    "p = range(0, 2)\n",
    "d = range(0, 2)\n",
    "q = range(0, 2)\n",
    "pdq = list(itertools.product(p, d, q))\n",
    "seasonal_pdq = [(x[0], x[1], x[2], 12) for x in list(itertools.product(p, d, q))]\n",
    "\n",
    "warnings.filterwarnings(\"ignore\") \n",
    "\n",
    "grid_results= []\n",
    "for param in pdq:\n",
    "    for seasonal_param in seasonal_pdq:\n",
    "        try:\n",
    "            mod = sm.tsa.statespace.SARIMAX(usa_price_trend,\n",
    "                                            order=param,\n",
    "                                            seasonal_order=seasonal_param,\n",
    "                                            enforce_stationarity=False,\n",
    "                                            enforce_invertibility=False)\n",
    "            model = mod.fit()\n",
    "            grid_results.append([param, seasonal_param, model.aic])\n",
    "        except:\n",
    "            print('error')\n",
    "            continue\n",
    "\n",
    "grid_results"
   ]
  },
  {
   "cell_type": "code",
   "execution_count": null,
   "id": "destroyed-genealogy",
   "metadata": {},
   "outputs": [],
   "source": [
    "model = sm.tsa.statespace.SARIMAX(usa_price_trend,\n",
    "                                 order=(1,1,1), \n",
    "                                 seasonal_order=(1,1,0,12),   \n",
    "                                 enforce_stationarity=False,\n",
    "                                 enforce_invertibility=False)\n",
    "result = model.fit()\n",
    "print(result.summary())"
   ]
  },
  {
   "cell_type": "code",
   "execution_count": null,
   "id": "abstract-chair",
   "metadata": {},
   "outputs": [],
   "source": [
    "result.plot_diagnostics(figsize=(12, 12))\n",
    "plt.show()"
   ]
  },
  {
   "cell_type": "code",
   "execution_count": null,
   "id": "humanitarian-shower",
   "metadata": {},
   "outputs": [],
   "source": [
    "pred_dynamic = result.get_prediction(start=pd.to_datetime('4-30-2000'), dynamic=True, full_results=True)\n",
    "pred_dynamic_conf_int = pred_dynamic.conf_int()\n",
    "\n",
    "axes = usa_price_trend['2000':].plot(label='Observed', figsize=(18, 10))\n",
    "pred_dynamic.predicted_mean.plot(label='Dynamic Forecast', ax=axes)\n",
    "axes.fill_between(pred_dynamic_conf_int.index,\n",
    "                pred_dynamic_conf_int.iloc[:, 0],\n",
    "                pred_dynamic_conf_int.iloc[:, 1], \n",
    "                color='r', \n",
    "                alpha=.3)\n",
    "axes.fill_betweenx(axes.get_ylim(), \n",
    "                  pd.to_datetime('2014'), \n",
    "                  usa_price_trend.index[-1],\n",
    "                  alpha=.1, zorder=-1)\n",
    "\n",
    "axes.set_xlabel('Time (years)')\n",
    "axes.set_ylabel('Average Housing Price')\n",
    "plt.legend()"
   ]
  },
  {
   "cell_type": "code",
   "execution_count": null,
   "id": "amber-latino",
   "metadata": {},
   "outputs": [],
   "source": [
    "usa_forecast = result.get_forecast(steps= 60)\n",
    "usa_forecast_conf_int = usa_forecast.conf_int()\n",
    "\n",
    "axes = usa_price_trend.plot(label='Observed', figsize=(18, 10))\n",
    "usa_forecast.predicted_mean.plot(ax=axes, label='Forecast')\n",
    "axes.fill_between(usa_forecast_conf_int.index,\n",
    "                 usa_forecast_conf_int.iloc[:, 0],\n",
    "                 usa_forecast_conf_int.iloc[:, 1], color='b', alpha=.4)\n",
    "axes.set_xlabel('Time')\n",
    "axes.set_ylabel('USA Housing Price')\n",
    "plt.legend()"
   ]
  },
  {
   "cell_type": "code",
   "execution_count": null,
   "id": "center-jurisdiction",
   "metadata": {},
   "outputs": [],
   "source": [
    "df_state_price_trend.head()"
   ]
  },
  {
   "cell_type": "code",
   "execution_count": null,
   "id": "experienced-barrel",
   "metadata": {},
   "outputs": [],
   "source": [
    "df_state_price_trend = df_state_price_trend.round(2)\n",
    "df_state_price_trend.head()"
   ]
  },
  {
   "cell_type": "code",
   "execution_count": null,
   "id": "mineral-montgomery",
   "metadata": {},
   "outputs": [],
   "source": [
    "ca_price_trend = pd.DataFrame(df_state_price_trend['Georgia'])\n",
    "ca_price_trend = ca_price_trend.reset_index()\n",
    "ca_price_trend['index'] = pd.to_datetime(ca_price_trend['index'])\n",
    "ca_price_trend = ca_price_trend.set_index('index')\n",
    "ca_price_trend.head()"
   ]
  },
  {
   "cell_type": "code",
   "execution_count": null,
   "id": "joined-vietnamese",
   "metadata": {},
   "outputs": [],
   "source": [
    "rolmean = ca_price_trend.rolling(12).mean()\n",
    "rolstd = ca_price_trend.rolling(12).std()\n",
    "\n",
    "#Plot rolling statistics:\n",
    "fig = plt.figure(figsize=(12, 6))\n",
    "orig = plt.plot(ca_price_trend, color='blue',label='Original')\n",
    "mean = plt.plot(rolmean, color='red', label='Rolling Mean')\n",
    "std = plt.plot(rolstd, color='black', label = 'Rolling Std')\n",
    "plt.legend(loc='best')\n",
    "plt.title('Rolling Mean & Standard Deviation')\n",
    "plt.show(block=False)"
   ]
  },
  {
   "cell_type": "code",
   "execution_count": null,
   "id": "pressed-maker",
   "metadata": {},
   "outputs": [],
   "source": [
    "ca_decomposition = sm.tsa.seasonal_decompose(ca_price_trend, model='additive')\n",
    "rcParams['figure.figsize'] = 18, 8\n",
    "fig = ca_decomposition.plot()"
   ]
  },
  {
   "cell_type": "code",
   "execution_count": null,
   "id": "ready-balance",
   "metadata": {},
   "outputs": [],
   "source": [
    "p = range(0, 2)\n",
    "d = range(0, 2)\n",
    "q = range(0, 2)\n",
    "pdq = list(itertools.product(p, d, q))\n",
    "seasonal_pdq = [(x[0], x[1], x[2], 12) for x in list(itertools.product(p, d, q))]\n",
    "\n",
    "warnings.filterwarnings(\"ignore\") \n",
    "\n",
    "grid_results= []\n",
    "for param in pdq:\n",
    "    for seasonal_param in seasonal_pdq:\n",
    "        try:\n",
    "            mod = sm.tsa.statespace.SARIMAX(ca_price_trend,\n",
    "                                            order=param,\n",
    "                                            seasonal_order=seasonal_param,\n",
    "                                            enforce_stationarity=False,\n",
    "                                            enforce_invertibility=False)\n",
    "            model = mod.fit()\n",
    "            grid_results.append([param, seasonal_param, model.aic])\n",
    "        except:\n",
    "            print('error')\n",
    "            continue\n",
    "\n",
    "grid_results"
   ]
  },
  {
   "cell_type": "code",
   "execution_count": null,
   "id": "instructional-korean",
   "metadata": {},
   "outputs": [],
   "source": [
    "model = sm.tsa.statespace.SARIMAX(ca_price_trend,\n",
    "                                 order=(1,1,1), \n",
    "                                 seasonal_order=(0,1,1,12),   \n",
    "                                 enforce_stationarity=False,\n",
    "                                 enforce_invertibility=False)\n",
    "result = model.fit()\n",
    "print(result.summary())"
   ]
  },
  {
   "cell_type": "code",
   "execution_count": null,
   "id": "christian-sphere",
   "metadata": {},
   "outputs": [],
   "source": [
    "result.plot_diagnostics(figsize=(12, 12))\n",
    "plt.show()"
   ]
  },
  {
   "cell_type": "code",
   "execution_count": null,
   "id": "necessary-dance",
   "metadata": {},
   "outputs": [],
   "source": [
    "pred_dynamic = result.get_prediction(start=pd.to_datetime('4/30/2018'), dynamic=True, full_results=True)\n",
    "pred_dynamic_conf_int = pred_dynamic.conf_int()\n",
    "\n",
    "axes = ca_price_trend['4/30/2000':].plot(label='Observed', figsize=(18, 10))\n",
    "pred_dynamic.predicted_mean.plot(label='Dynamic Forecast', ax=axes)\n",
    "axes.fill_between(pred_dynamic_conf_int.index,\n",
    "                pred_dynamic_conf_int.iloc[:, 0],\n",
    "                pred_dynamic_conf_int.iloc[:, 1], \n",
    "                color='r', \n",
    "                alpha=.3)\n",
    "axes.fill_betweenx(axes.get_ylim(), \n",
    "                  pd.to_datetime('04/30/2021'), \n",
    "                  ca_price_trend.index[-1],\n",
    "                  alpha=.1, zorder=-1)\n",
    "\n",
    "axes.set_xlabel('Time (years)')\n",
    "axes.set_ylabel('California Average Housing Price')\n",
    "plt.legend()"
   ]
  },
  {
   "cell_type": "code",
   "execution_count": null,
   "id": "potential-fishing",
   "metadata": {},
   "outputs": [],
   "source": []
  }
 ],
 "metadata": {
  "kernelspec": {
   "display_name": "Python [conda env:pyvizenv]",
   "language": "python",
   "name": "conda-env-pyvizenv-py"
  },
  "language_info": {
   "codemirror_mode": {
    "name": "ipython",
    "version": 3
   },
   "file_extension": ".py",
   "mimetype": "text/x-python",
   "name": "python",
   "nbconvert_exporter": "python",
   "pygments_lexer": "ipython3",
   "version": "3.7.7"
  }
 },
 "nbformat": 4,
 "nbformat_minor": 5
}
